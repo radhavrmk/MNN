{
 "cells": [
  {
   "cell_type": "code",
   "execution_count": 3,
   "metadata": {},
   "outputs": [],
   "source": [
    "import numpy as np\n",
    "import pandas as pd\n",
    "import matplotlib.pyplot as plt\n",
    "import seaborn as sns\n",
    "%matplotlib inline\n",
    "pd.set_option('display.max_columns', 100)\n",
    "sns.set()"
   ]
  },
  {
   "cell_type": "code",
   "execution_count": 4,
   "metadata": {},
   "outputs": [],
   "source": [
    "def load_test_train_data() :\n",
    "\n",
    "    df_train = pd.read_csv(\"../data/raw/train.csv\",index_col=0)\n",
    "    df_test = pd.read_csv(\"../data/raw/test.csv\", index_col=0)\n",
    "    df_train[\"data_type\"] = \"train\"\n",
    "    df_test[\"data_type\"] = \"test\"\n",
    "    df_test[\"SalePrice\"] = 0\n",
    "\n",
    "    df = pd.concat([df_train, df_test], sort=False)\n",
    "    df = df.reset_index(drop=True)\n",
    "\n",
    "    print(\"Train Data Shape :\", df_train.shape)\n",
    "    print(\"Test Data Shape : \", df_test.shape)\n",
    "    print(\"Combined Data Shape : \", df.shape)\n",
    "\n",
    "    return (df_train, df_test, df)\n"
   ]
  },
  {
   "cell_type": "code",
   "execution_count": 5,
   "metadata": {},
   "outputs": [
    {
     "name": "stdout",
     "output_type": "stream",
     "text": [
      "Train Data Shape : (1460, 81)\n",
      "Test Data Shape :  (1459, 81)\n",
      "Combined Data Shape :  (2919, 81)\n"
     ]
    }
   ],
   "source": [
    "train_df, test_df, full_df = load_test_train_data()"
   ]
  },
  {
   "cell_type": "code",
   "execution_count": 8,
   "metadata": {},
   "outputs": [],
   "source": [
    "def get_column_names_by_type(df):\n",
    "    numeric_columns = df.describe().columns\n",
    "    non_numeric_columns = [i for i in df.columns if i not in numeric_columns]\n",
    "    return (numeric_columns, non_numeric_columns)\n",
    "    "
   ]
  },
  {
   "cell_type": "code",
   "execution_count": 13,
   "metadata": {},
   "outputs": [],
   "source": []
  },
  {
   "cell_type": "code",
   "execution_count": null,
   "metadata": {},
   "outputs": [],
   "source": []
  },
  {
   "cell_type": "code",
   "execution_count": 15,
   "metadata": {},
   "outputs": [],
   "source": [
    "def impute_fields(df):\n",
    "    \n",
    "    df.Electrical = df.Electrical.fillna(\"SBrkr\")\n",
    "\n",
    "    \"\"\" Impute with equavelant of overall house quality : Average, equivalent \"TA\" \"\"\"\n",
    "    df.KitchenQual = df.KitchenQual.fillna(\"None\")\n",
    "\n",
    "    df.FireplaceQu = df.FireplaceQu.fillna(\"None\")\n",
    "    \n",
    "    \"\"\" First change Garage Type for row with Null area and then change Garage Area \"\"\"\n",
    "    df.loc[df.GarageArea.isnull(), \"GarageType\"] = np.nan\n",
    "    df.loc[df.GarageArea.isnull(), \"GarageArea\"] = 0\n",
    "    \n",
    "        \n",
    "\n",
    "    \"\"\" For one record with Garage Area 360 and with missing Garage values, set to average values based on Overall Quality \"\"\"\n",
    "    df.loc[(df.GarageArea==360) & df.GarageFinish.isnull(), \"GarageFinish\"] = \"Unf\"\n",
    "    df.loc[(df.GarageArea==360) & df.GarageQual.isnull(), \"GarageQual\"] = \"TA\"\n",
    "    df.loc[(df.GarageArea==360) & df.GarageCond.isnull(), \"GarageCond\"] = \"TA\"\n",
    "    \"\"\" Setting the Garage built to \"Year Remodelled\" \"\"\"\n",
    "    df.loc[(df.GarageArea==360) & df.GarageYrBlt.isnull(), \"GarageYrBlt\"] = df.YearRemodAdd\n",
    "\n",
    "\n",
    "    \n",
    "    \"\"\" Set rest of the missing Garage valies to None \"\"\"\n",
    "    df.GarageFinish = df.GarageFinish.fillna(\"None\")\n",
    "    df.GarageQual = df.GarageQual.fillna(\"None\")\n",
    "    df.GarageCond = df.GarageCond.fillna(\"None\")\n",
    "    df.GarageType = df.GarageType.fillna(\"None\")\n",
    "\n",
    "    df.GarageCars = df.GarageCars.fillna(0)\n",
    "\n",
    "\n",
    "    \n",
    "    \"\"\" Is it correct to fill with Zero for Year built as the scale will change compared to most values in 1900\"\"\" \n",
    "    df.GarageYrBlt = df.GarageYrBlt.fillna(0)\n",
    "\n",
    "\n",
    "    \"\"\" Impiute with Typ as mentioned in documentation. There does not seem to be clear relation with\n",
    "        Overall quality fields\n",
    "    \"\"\"\n",
    "    df.loc[df.Functional.isnull(), \"Functional\"] = \"Typ\"\n",
    "\n",
    "\n",
    "    \"\"\"Basement Fullbath and Halfbath NA values are related to  houses without basements. Soe set them to 0 \"\"\"\n",
    "    df.BsmtFullBath = df.BsmtFullBath.fillna(0)\n",
    "    df.BsmtHalfBath = df.BsmtHalfBath.fillna(0)\n",
    "    \n",
    "    return df"
   ]
  },
  {
   "cell_type": "markdown",
   "metadata": {},
   "source": [
    "# Correct data values that seem incorrect"
   ]
  },
  {
   "cell_type": "code",
   "execution_count": 20,
   "metadata": {},
   "outputs": [],
   "source": [
    "def correct_data(df):\n",
    "    \"Setting to the year remodeled\"\n",
    "    df.loc[df.GarageYrBlt==2207, \"GarageYrBlt\"] = 2007\n",
    "    return df"
   ]
  },
  {
   "cell_type": "markdown",
   "metadata": {},
   "source": [
    "# Transform Ordinal Categorical Columns"
   ]
  },
  {
   "cell_type": "code",
   "execution_count": null,
   "metadata": {},
   "outputs": [],
   "source": [
    "\n",
    "def transform_ordinal(df):\n",
    "    typical_graded_cols = [\"HeatingQC\", \"KitchenQual\", \"FireplaceQu\", \"GarageQual\", \"GarageCond\"]\n",
    "    typical_grade_map = {'Ex':5,'Gd':4,'TA':3,'Fa':2,'Po':1,'None':0}\n",
    "\n",
    "    for i in typical_graded_cols:\n",
    "        df[i].replace(typical_grade_map, inplace=True)\n",
    "    \n",
    "    df['Functional'].replace({'Typ':7,'Min1':6,'Min2':5,'Mod':4,'Maj1':3,'Maj2':2,'Sev':1,'Sal':0}, inplace=True)\n",
    "    df['GarageFinish'].replace({'Fin':3,'RFn':2,'Unf':1,'None':0}, inplace=True)\n",
    "    \n",
    "    return df"
   ]
  },
  {
   "cell_type": "code",
   "execution_count": 16,
   "metadata": {},
   "outputs": [],
   "source": [
    "df = impute_fields(full_df)\n",
    "df2 = df.iloc[:,38:64]"
   ]
  },
  {
   "cell_type": "code",
   "execution_count": 18,
   "metadata": {},
   "outputs": [
    {
     "data": {
      "text/plain": [
       "1stFlrSF        0\n",
       "2ndFlrSF        0\n",
       "LowQualFinSF    0\n",
       "GrLivArea       0\n",
       "BsmtFullBath    0\n",
       "BsmtHalfBath    0\n",
       "FullBath        0\n",
       "HalfBath        0\n",
       "BedroomAbvGr    0\n",
       "KitchenAbvGr    0\n",
       "TotRmsAbvGrd    0\n",
       "Fireplaces      0\n",
       "GarageYrBlt     0\n",
       "GarageCars      0\n",
       "GarageArea      0\n",
       "dtype: int64"
      ]
     },
     "execution_count": 18,
     "metadata": {},
     "output_type": "execute_result"
    }
   ],
   "source": [
    "numeric_columns, categorical_columns = get_column_names_by_type(df2)\n",
    "\n",
    "\n",
    "np.sum(df2[numeric_columns].isnull())"
   ]
  },
  {
   "cell_type": "code",
   "execution_count": 201,
   "metadata": {},
   "outputs": [
    {
     "data": {
      "text/plain": [
       "Heating          object\n",
       "HeatingQC         int64\n",
       "CentralAir       object\n",
       "Electrical       object\n",
       "1stFlrSF          int64\n",
       "2ndFlrSF          int64\n",
       "LowQualFinSF      int64\n",
       "GrLivArea         int64\n",
       "BsmtFullBath    float64\n",
       "BsmtHalfBath    float64\n",
       "FullBath          int64\n",
       "HalfBath          int64\n",
       "BedroomAbvGr      int64\n",
       "KitchenAbvGr      int64\n",
       "KitchenQual       int64\n",
       "TotRmsAbvGrd      int64\n",
       "Functional        int64\n",
       "Fireplaces        int64\n",
       "FireplaceQu       int64\n",
       "GarageType       object\n",
       "GarageYrBlt     float64\n",
       "GarageFinish      int64\n",
       "GarageCars      float64\n",
       "GarageArea      float64\n",
       "GarageQual        int64\n",
       "GarageCond        int64\n",
       "dtype: object"
      ]
     },
     "execution_count": 201,
     "metadata": {},
     "output_type": "execute_result"
    }
   ],
   "source": [
    "df2.dtypes"
   ]
  },
  {
   "cell_type": "code",
   "execution_count": null,
   "metadata": {},
   "outputs": [],
   "source": []
  },
  {
   "cell_type": "code",
   "execution_count": null,
   "metadata": {},
   "outputs": [],
   "source": []
  },
  {
   "cell_type": "markdown",
   "metadata": {},
   "source": [
    "# Skewness between test and train data"
   ]
  },
  {
   "cell_type": "code",
   "execution_count": 192,
   "metadata": {},
   "outputs": [],
   "source": [
    "xx = df.groupby(\"data_type\").agg(lambda x: len(x.unique()))"
   ]
  },
  {
   "cell_type": "code",
   "execution_count": 193,
   "metadata": {},
   "outputs": [
    {
     "data": {
      "text/html": [
       "<div>\n",
       "<style scoped>\n",
       "    .dataframe tbody tr th:only-of-type {\n",
       "        vertical-align: middle;\n",
       "    }\n",
       "\n",
       "    .dataframe tbody tr th {\n",
       "        vertical-align: top;\n",
       "    }\n",
       "\n",
       "    .dataframe thead th {\n",
       "        text-align: right;\n",
       "    }\n",
       "</style>\n",
       "<table border=\"1\" class=\"dataframe\">\n",
       "  <thead>\n",
       "    <tr style=\"text-align: right;\">\n",
       "      <th></th>\n",
       "      <th>1stFlrSF</th>\n",
       "      <th>2ndFlrSF</th>\n",
       "      <th>LowQualFinSF</th>\n",
       "      <th>GrLivArea</th>\n",
       "      <th>BsmtFullBath</th>\n",
       "      <th>BsmtHalfBath</th>\n",
       "      <th>FullBath</th>\n",
       "      <th>HalfBath</th>\n",
       "      <th>BedroomAbvGr</th>\n",
       "      <th>KitchenAbvGr</th>\n",
       "      <th>TotRmsAbvGrd</th>\n",
       "      <th>Fireplaces</th>\n",
       "      <th>GarageYrBlt</th>\n",
       "      <th>GarageCars</th>\n",
       "      <th>GarageArea</th>\n",
       "    </tr>\n",
       "    <tr>\n",
       "      <th>data_type</th>\n",
       "      <th></th>\n",
       "      <th></th>\n",
       "      <th></th>\n",
       "      <th></th>\n",
       "      <th></th>\n",
       "      <th></th>\n",
       "      <th></th>\n",
       "      <th></th>\n",
       "      <th></th>\n",
       "      <th></th>\n",
       "      <th></th>\n",
       "      <th></th>\n",
       "      <th></th>\n",
       "      <th></th>\n",
       "      <th></th>\n",
       "    </tr>\n",
       "  </thead>\n",
       "  <tbody>\n",
       "    <tr>\n",
       "      <th>test</th>\n",
       "      <td>789</td>\n",
       "      <td>407</td>\n",
       "      <td>NaN</td>\n",
       "      <td>879</td>\n",
       "      <td>NaN</td>\n",
       "      <td>NaN</td>\n",
       "      <td>NaN</td>\n",
       "      <td>NaN</td>\n",
       "      <td>NaN</td>\n",
       "      <td>NaN</td>\n",
       "      <td>NaN</td>\n",
       "      <td>NaN</td>\n",
       "      <td>98.0</td>\n",
       "      <td>NaN</td>\n",
       "      <td>459.0</td>\n",
       "    </tr>\n",
       "    <tr>\n",
       "      <th>train</th>\n",
       "      <td>753</td>\n",
       "      <td>417</td>\n",
       "      <td>24.0</td>\n",
       "      <td>861</td>\n",
       "      <td>NaN</td>\n",
       "      <td>NaN</td>\n",
       "      <td>NaN</td>\n",
       "      <td>NaN</td>\n",
       "      <td>NaN</td>\n",
       "      <td>NaN</td>\n",
       "      <td>NaN</td>\n",
       "      <td>NaN</td>\n",
       "      <td>98.0</td>\n",
       "      <td>NaN</td>\n",
       "      <td>441.0</td>\n",
       "    </tr>\n",
       "  </tbody>\n",
       "</table>\n",
       "</div>"
      ],
      "text/plain": [
       "           1stFlrSF  2ndFlrSF  LowQualFinSF  GrLivArea  BsmtFullBath  \\\n",
       "data_type                                                              \n",
       "test            789       407           NaN        879           NaN   \n",
       "train           753       417          24.0        861           NaN   \n",
       "\n",
       "           BsmtHalfBath  FullBath  HalfBath  BedroomAbvGr  KitchenAbvGr  \\\n",
       "data_type                                                                 \n",
       "test                NaN       NaN       NaN           NaN           NaN   \n",
       "train               NaN       NaN       NaN           NaN           NaN   \n",
       "\n",
       "           TotRmsAbvGrd  Fireplaces  GarageYrBlt  GarageCars  GarageArea  \n",
       "data_type                                                                 \n",
       "test                NaN         NaN         98.0         NaN       459.0  \n",
       "train               NaN         NaN         98.0         NaN       441.0  "
      ]
     },
     "execution_count": 193,
     "metadata": {},
     "output_type": "execute_result"
    }
   ],
   "source": [
    "xx[numeric_columns][xx>15]"
   ]
  },
  {
   "cell_type": "markdown",
   "metadata": {},
   "source": [
    "# Skewness check for columns"
   ]
  },
  {
   "cell_type": "code",
   "execution_count": 194,
   "metadata": {},
   "outputs": [
    {
     "data": {
      "text/plain": [
       "Index(['1stFlrSF', '2ndFlrSF', 'LowQualFinSF', 'GrLivArea', 'BsmtFullBath',\n",
       "       'BsmtHalfBath', 'FullBath', 'HalfBath', 'BedroomAbvGr', 'KitchenAbvGr',\n",
       "       'TotRmsAbvGrd', 'Fireplaces', 'GarageYrBlt', 'GarageCars',\n",
       "       'GarageArea'],\n",
       "      dtype='object')"
      ]
     },
     "execution_count": 194,
     "metadata": {},
     "output_type": "execute_result"
    }
   ],
   "source": [
    "numeric_columns"
   ]
  },
  {
   "cell_type": "code",
   "execution_count": 195,
   "metadata": {
    "scrolled": false
   },
   "outputs": [
    {
     "data": {
      "image/png": "[encoded data removed]",
      "text/plain": [
       "<Figure size 432x288 with 1 Axes>"
      ]
     },
     "metadata": {},
     "output_type": "display_data"
    },
    {
     "data": {
      "image/png": "[encoded data removed]",
      "text/plain": [
       "<Figure size 432x288 with 1 Axes>"
      ]
     },
     "metadata": {},
     "output_type": "display_data"
    },
    {
     "data": {
      "image/png": "[encoded data removed]",
      "text/plain": [
       "<Figure size 432x288 with 1 Axes>"
      ]
     },
     "metadata": {},
     "output_type": "display_data"
    },
    {
     "data": {
      "image/png": "[encoded data removed]",
      "text/plain": [
       "<Figure size 432x288 with 1 Axes>"
      ]
     },
     "metadata": {},
     "output_type": "display_data"
    },
    {
     "data": {
      "image/png": "[encoded data removed]",
      "text/plain": [
       "<Figure size 432x288 with 1 Axes>"
      ]
     },
     "metadata": {},
     "output_type": "display_data"
    },
    {
     "data": {
      "image/png": "[encoded data removed]",
      "text/plain": [
       "<Figure size 432x288 with 1 Axes>"
      ]
     },
     "metadata": {},
     "output_type": "display_data"
    },
    {
     "data": {
      "image/png": "[encoded data removed]",
      "text/plain": [
       "<Figure size 432x288 with 1 Axes>"
      ]
     },
     "metadata": {},
     "output_type": "display_data"
    },
    {
     "data": {
      "image/png": "[encoded data removed]",
      "text/plain": [
       "<Figure size 432x288 with 1 Axes>"
      ]
     },
     "metadata": {},
     "output_type": "display_data"
    },
    {
     "data": {
      "image/png": "[encoded data removed]",
      "text/plain": [
       "<Figure size 432x288 with 1 Axes>"
      ]
     },
     "metadata": {},
     "output_type": "display_data"
    },
    {
     "data": {
      "image/png": "[encoded data removed]",
      "text/plain": [
       "<Figure size 432x288 with 1 Axes>"
      ]
     },
     "metadata": {},
     "output_type": "display_data"
    },
    {
     "data": {
      "image/png": "[encoded data removed]",
      "text/plain": [
       "<Figure size 432x288 with 1 Axes>"
      ]
     },
     "metadata": {},
     "output_type": "display_data"
    },
    {
     "data": {
      "image/png": "[encoded data removed]",
      "text/plain": [
       "<Figure size 432x288 with 1 Axes>"
      ]
     },
     "metadata": {},
     "output_type": "display_data"
    },
    {
     "data": {
      "image/png": "[encoded data removed]",
      "text/plain": [
       "<Figure size 432x288 with 1 Axes>"
      ]
     },
     "metadata": {},
     "output_type": "display_data"
    },
    {
     "data": {
      "image/png": "[encoded data removed]",
      "text/plain": [
       "<Figure size 432x288 with 1 Axes>"
      ]
     },
     "metadata": {},
     "output_type": "display_data"
    },
    {
     "data": {
      "image/png": "[encoded data removed]",
      "text/plain": [
       "<Figure size 432x288 with 1 Axes>"
      ]
     },
     "metadata": {},
     "output_type": "display_data"
    }
   ],
   "source": [
    "for i in numeric_columns:\n",
    "    df[i].hist()\n",
    "    plt.xlabel(i)\n",
    "    plt.show()"
   ]
  },
  {
   "cell_type": "code",
   "execution_count": 196,
   "metadata": {},
   "outputs": [
    {
     "data": {
      "text/plain": [
       "LowQualFinSF    12.088761\n",
       "KitchenAbvGr     4.302254\n",
       "BsmtHalfBath     3.931594\n",
       "1stFlrSF         1.469604\n",
       "GrLivArea        1.269358\n",
       "2ndFlrSF         0.861675\n",
       "TotRmsAbvGrd     0.758367\n",
       "Fireplaces       0.733495\n",
       "HalfBath         0.694566\n",
       "BsmtFullBath     0.624832\n",
       "BedroomAbvGr     0.326324\n",
       "GarageArea       0.239257\n",
       "FullBath         0.167606\n",
       "GarageCars      -0.219581\n",
       "GarageYrBlt     -3.920745\n",
       "dtype: float64"
      ]
     },
     "execution_count": 196,
     "metadata": {},
     "output_type": "execute_result"
    }
   ],
   "source": [
    "from scipy.stats import skew\n",
    "from scipy.stats import skewtest\n",
    "\n",
    "skew(df[\"1stFlrSF\"])\n",
    "\n",
    "numeric_df = df[numeric_columns]\n",
    "\n",
    "numeric_df.apply(skew).sort_values(ascending=False)\n",
    "\n"
   ]
  },
  {
   "cell_type": "code",
   "execution_count": 197,
   "metadata": {},
   "outputs": [
    {
     "data": {
      "text/plain": [
       "SkewtestResult(statistic=24.414601650729438, pvalue=1.196758793712818e-131)"
      ]
     },
     "execution_count": 197,
     "metadata": {},
     "output_type": "execute_result"
    }
   ],
   "source": [
    "skewtest(df[\"1stFlrSF\"])"
   ]
  },
  {
   "cell_type": "code",
   "execution_count": null,
   "metadata": {},
   "outputs": [],
   "source": []
  },
  {
   "cell_type": "markdown",
   "metadata": {},
   "source": [
    "# Extreme value check"
   ]
  },
  {
   "cell_type": "code",
   "execution_count": 215,
   "metadata": {},
   "outputs": [
    {
     "data": {
      "text/plain": [
       "Heating          Floor\n",
       "HeatingQC            1\n",
       "CentralAir           N\n",
       "Electrical       FuseA\n",
       "1stFlrSF           334\n",
       "2ndFlrSF             0\n",
       "LowQualFinSF         0\n",
       "GrLivArea          334\n",
       "BsmtFullBath         0\n",
       "BsmtHalfBath         0\n",
       "FullBath             0\n",
       "HalfBath             0\n",
       "BedroomAbvGr         0\n",
       "KitchenAbvGr         0\n",
       "KitchenQual          2\n",
       "TotRmsAbvGrd         2\n",
       "Functional           1\n",
       "Fireplaces           0\n",
       "FireplaceQu          0\n",
       "GarageType      2Types\n",
       "GarageYrBlt          0\n",
       "GarageFinish         0\n",
       "GarageCars           0\n",
       "GarageArea           0\n",
       "GarageQual           0\n",
       "GarageCond           0\n",
       "dtype: object"
      ]
     },
     "execution_count": 215,
     "metadata": {},
     "output_type": "execute_result"
    }
   ],
   "source": [
    "df2.min()"
   ]
  },
  {
   "cell_type": "code",
   "execution_count": 216,
   "metadata": {},
   "outputs": [
    {
     "data": {
      "text/plain": [
       "Heating          Wall\n",
       "HeatingQC           5\n",
       "CentralAir          Y\n",
       "Electrical      SBrkr\n",
       "1stFlrSF         5095\n",
       "2ndFlrSF         2065\n",
       "LowQualFinSF     1064\n",
       "GrLivArea        5642\n",
       "BsmtFullBath        3\n",
       "BsmtHalfBath        2\n",
       "FullBath            4\n",
       "HalfBath            2\n",
       "BedroomAbvGr        8\n",
       "KitchenAbvGr        3\n",
       "KitchenQual         5\n",
       "TotRmsAbvGrd       15\n",
       "Functional          7\n",
       "Fireplaces          4\n",
       "FireplaceQu         5\n",
       "GarageType       None\n",
       "GarageYrBlt      2207\n",
       "GarageFinish        3\n",
       "GarageCars          5\n",
       "GarageArea       1488\n",
       "GarageQual          5\n",
       "GarageCond          5\n",
       "dtype: object"
      ]
     },
     "execution_count": 216,
     "metadata": {},
     "output_type": "execute_result"
    }
   ],
   "source": [
    "df2.max()"
   ]
  },
  {
   "cell_type": "code",
   "execution_count": 219,
   "metadata": {},
   "outputs": [
    {
     "data": {
      "text/html": [
       "<div>\n",
       "<style scoped>\n",
       "    .dataframe tbody tr th:only-of-type {\n",
       "        vertical-align: middle;\n",
       "    }\n",
       "\n",
       "    .dataframe tbody tr th {\n",
       "        vertical-align: top;\n",
       "    }\n",
       "\n",
       "    .dataframe thead th {\n",
       "        text-align: right;\n",
       "    }\n",
       "</style>\n",
       "<table border=\"1\" class=\"dataframe\">\n",
       "  <thead>\n",
       "    <tr style=\"text-align: right;\">\n",
       "      <th></th>\n",
       "      <th>MSSubClass</th>\n",
       "      <th>MSZoning</th>\n",
       "      <th>LotFrontage</th>\n",
       "      <th>LotArea</th>\n",
       "      <th>Street</th>\n",
       "      <th>Alley</th>\n",
       "      <th>LotShape</th>\n",
       "      <th>LandContour</th>\n",
       "      <th>Utilities</th>\n",
       "      <th>LotConfig</th>\n",
       "      <th>LandSlope</th>\n",
       "      <th>Neighborhood</th>\n",
       "      <th>Condition1</th>\n",
       "      <th>Condition2</th>\n",
       "      <th>BldgType</th>\n",
       "      <th>HouseStyle</th>\n",
       "      <th>OverallQual</th>\n",
       "      <th>OverallCond</th>\n",
       "      <th>YearBuilt</th>\n",
       "      <th>YearRemodAdd</th>\n",
       "      <th>RoofStyle</th>\n",
       "      <th>RoofMatl</th>\n",
       "      <th>Exterior1st</th>\n",
       "      <th>Exterior2nd</th>\n",
       "      <th>MasVnrType</th>\n",
       "      <th>MasVnrArea</th>\n",
       "      <th>ExterQual</th>\n",
       "      <th>ExterCond</th>\n",
       "      <th>Foundation</th>\n",
       "      <th>BsmtQual</th>\n",
       "      <th>BsmtCond</th>\n",
       "      <th>BsmtExposure</th>\n",
       "      <th>BsmtFinType1</th>\n",
       "      <th>BsmtFinSF1</th>\n",
       "      <th>BsmtFinType2</th>\n",
       "      <th>BsmtFinSF2</th>\n",
       "      <th>BsmtUnfSF</th>\n",
       "      <th>TotalBsmtSF</th>\n",
       "      <th>Heating</th>\n",
       "      <th>HeatingQC</th>\n",
       "      <th>CentralAir</th>\n",
       "      <th>Electrical</th>\n",
       "      <th>1stFlrSF</th>\n",
       "      <th>2ndFlrSF</th>\n",
       "      <th>LowQualFinSF</th>\n",
       "      <th>GrLivArea</th>\n",
       "      <th>BsmtFullBath</th>\n",
       "      <th>BsmtHalfBath</th>\n",
       "      <th>FullBath</th>\n",
       "      <th>HalfBath</th>\n",
       "      <th>BedroomAbvGr</th>\n",
       "      <th>KitchenAbvGr</th>\n",
       "      <th>KitchenQual</th>\n",
       "      <th>TotRmsAbvGrd</th>\n",
       "      <th>Functional</th>\n",
       "      <th>Fireplaces</th>\n",
       "      <th>FireplaceQu</th>\n",
       "      <th>GarageType</th>\n",
       "      <th>GarageYrBlt</th>\n",
       "      <th>GarageFinish</th>\n",
       "      <th>GarageCars</th>\n",
       "      <th>GarageArea</th>\n",
       "      <th>GarageQual</th>\n",
       "      <th>GarageCond</th>\n",
       "      <th>PavedDrive</th>\n",
       "      <th>WoodDeckSF</th>\n",
       "      <th>OpenPorchSF</th>\n",
       "      <th>EnclosedPorch</th>\n",
       "      <th>3SsnPorch</th>\n",
       "      <th>ScreenPorch</th>\n",
       "      <th>PoolArea</th>\n",
       "      <th>PoolQC</th>\n",
       "      <th>Fence</th>\n",
       "      <th>MiscFeature</th>\n",
       "      <th>MiscVal</th>\n",
       "      <th>MoSold</th>\n",
       "      <th>YrSold</th>\n",
       "      <th>SaleType</th>\n",
       "      <th>SaleCondition</th>\n",
       "      <th>SalePrice</th>\n",
       "      <th>data_type</th>\n",
       "    </tr>\n",
       "  </thead>\n",
       "  <tbody>\n",
       "    <tr>\n",
       "      <th>2592</th>\n",
       "      <td>20</td>\n",
       "      <td>RL</td>\n",
       "      <td>68.0</td>\n",
       "      <td>8298</td>\n",
       "      <td>Pave</td>\n",
       "      <td>NaN</td>\n",
       "      <td>IR1</td>\n",
       "      <td>HLS</td>\n",
       "      <td>AllPub</td>\n",
       "      <td>Inside</td>\n",
       "      <td>Gtl</td>\n",
       "      <td>Timber</td>\n",
       "      <td>Norm</td>\n",
       "      <td>Norm</td>\n",
       "      <td>1Fam</td>\n",
       "      <td>1Story</td>\n",
       "      <td>8</td>\n",
       "      <td>5</td>\n",
       "      <td>2006</td>\n",
       "      <td>2007</td>\n",
       "      <td>Hip</td>\n",
       "      <td>CompShg</td>\n",
       "      <td>VinylSd</td>\n",
       "      <td>VinylSd</td>\n",
       "      <td>NaN</td>\n",
       "      <td>NaN</td>\n",
       "      <td>Gd</td>\n",
       "      <td>TA</td>\n",
       "      <td>PConc</td>\n",
       "      <td>Gd</td>\n",
       "      <td>TA</td>\n",
       "      <td>Av</td>\n",
       "      <td>GLQ</td>\n",
       "      <td>583.0</td>\n",
       "      <td>Unf</td>\n",
       "      <td>0.0</td>\n",
       "      <td>963.0</td>\n",
       "      <td>1546.0</td>\n",
       "      <td>GasA</td>\n",
       "      <td>5</td>\n",
       "      <td>Y</td>\n",
       "      <td>SBrkr</td>\n",
       "      <td>1564</td>\n",
       "      <td>0</td>\n",
       "      <td>0</td>\n",
       "      <td>1564</td>\n",
       "      <td>0.0</td>\n",
       "      <td>0.0</td>\n",
       "      <td>2</td>\n",
       "      <td>0</td>\n",
       "      <td>2</td>\n",
       "      <td>1</td>\n",
       "      <td>5</td>\n",
       "      <td>6</td>\n",
       "      <td>7</td>\n",
       "      <td>1</td>\n",
       "      <td>4</td>\n",
       "      <td>Attchd</td>\n",
       "      <td>2207.0</td>\n",
       "      <td>2</td>\n",
       "      <td>2.0</td>\n",
       "      <td>502.0</td>\n",
       "      <td>3</td>\n",
       "      <td>3</td>\n",
       "      <td>Y</td>\n",
       "      <td>132</td>\n",
       "      <td>0</td>\n",
       "      <td>0</td>\n",
       "      <td>0</td>\n",
       "      <td>0</td>\n",
       "      <td>0</td>\n",
       "      <td>NaN</td>\n",
       "      <td>NaN</td>\n",
       "      <td>NaN</td>\n",
       "      <td>0</td>\n",
       "      <td>9</td>\n",
       "      <td>2007</td>\n",
       "      <td>New</td>\n",
       "      <td>Partial</td>\n",
       "      <td>0</td>\n",
       "      <td>test</td>\n",
       "    </tr>\n",
       "  </tbody>\n",
       "</table>\n",
       "</div>"
      ],
      "text/plain": [
       "      MSSubClass MSZoning  LotFrontage  LotArea Street Alley LotShape  \\\n",
       "2592          20       RL         68.0     8298   Pave   NaN      IR1   \n",
       "\n",
       "     LandContour Utilities LotConfig LandSlope Neighborhood Condition1  \\\n",
       "2592         HLS    AllPub    Inside       Gtl       Timber       Norm   \n",
       "\n",
       "     Condition2 BldgType HouseStyle  OverallQual  OverallCond  YearBuilt  \\\n",
       "2592       Norm     1Fam     1Story            8            5       2006   \n",
       "\n",
       "      YearRemodAdd RoofStyle RoofMatl Exterior1st Exterior2nd MasVnrType  \\\n",
       "2592          2007       Hip  CompShg     VinylSd     VinylSd        NaN   \n",
       "\n",
       "      MasVnrArea ExterQual ExterCond Foundation BsmtQual BsmtCond  \\\n",
       "2592         NaN        Gd        TA      PConc       Gd       TA   \n",
       "\n",
       "     BsmtExposure BsmtFinType1  BsmtFinSF1 BsmtFinType2  BsmtFinSF2  \\\n",
       "2592           Av          GLQ       583.0          Unf         0.0   \n",
       "\n",
       "      BsmtUnfSF  TotalBsmtSF Heating  HeatingQC CentralAir Electrical  \\\n",
       "2592      963.0       1546.0    GasA          5          Y      SBrkr   \n",
       "\n",
       "      1stFlrSF  2ndFlrSF  LowQualFinSF  GrLivArea  BsmtFullBath  BsmtHalfBath  \\\n",
       "2592      1564         0             0       1564           0.0           0.0   \n",
       "\n",
       "      FullBath  HalfBath  BedroomAbvGr  KitchenAbvGr  KitchenQual  \\\n",
       "2592         2         0             2             1            5   \n",
       "\n",
       "      TotRmsAbvGrd  Functional  Fireplaces  FireplaceQu GarageType  \\\n",
       "2592             6           7           1            4     Attchd   \n",
       "\n",
       "      GarageYrBlt  GarageFinish  GarageCars  GarageArea  GarageQual  \\\n",
       "2592       2207.0             2         2.0       502.0           3   \n",
       "\n",
       "      GarageCond PavedDrive  WoodDeckSF  OpenPorchSF  EnclosedPorch  \\\n",
       "2592           3          Y         132            0              0   \n",
       "\n",
       "      3SsnPorch  ScreenPorch  PoolArea PoolQC Fence MiscFeature  MiscVal  \\\n",
       "2592          0            0         0    NaN   NaN         NaN        0   \n",
       "\n",
       "      MoSold  YrSold SaleType SaleCondition  SalePrice data_type  \n",
       "2592       9    2007      New       Partial          0      test  "
      ]
     },
     "execution_count": 219,
     "metadata": {},
     "output_type": "execute_result"
    }
   ],
   "source": [
    "\"\"\" 2207 for Garage built is odd value\"\"\"\n",
    "df[df.GarageYrBlt==2207]"
   ]
  },
  {
   "cell_type": "code",
   "execution_count": 224,
   "metadata": {},
   "outputs": [],
   "source": [
    "\n"
   ]
  },
  {
   "cell_type": "code",
   "execution_count": 225,
   "metadata": {},
   "outputs": [],
   "source": [
    "\n",
    "df = correct_data(df)\n",
    "df2 = df.iloc[:,38:64]"
   ]
  },
  {
   "cell_type": "code",
   "execution_count": 226,
   "metadata": {},
   "outputs": [
    {
     "data": {
      "text/html": [
       "<div>\n",
       "<style scoped>\n",
       "    .dataframe tbody tr th:only-of-type {\n",
       "        vertical-align: middle;\n",
       "    }\n",
       "\n",
       "    .dataframe tbody tr th {\n",
       "        vertical-align: top;\n",
       "    }\n",
       "\n",
       "    .dataframe thead th {\n",
       "        text-align: right;\n",
       "    }\n",
       "</style>\n",
       "<table border=\"1\" class=\"dataframe\">\n",
       "  <thead>\n",
       "    <tr style=\"text-align: right;\">\n",
       "      <th></th>\n",
       "      <th>MSSubClass</th>\n",
       "      <th>MSZoning</th>\n",
       "      <th>LotFrontage</th>\n",
       "      <th>LotArea</th>\n",
       "      <th>Street</th>\n",
       "      <th>Alley</th>\n",
       "      <th>LotShape</th>\n",
       "      <th>LandContour</th>\n",
       "      <th>Utilities</th>\n",
       "      <th>LotConfig</th>\n",
       "      <th>LandSlope</th>\n",
       "      <th>Neighborhood</th>\n",
       "      <th>Condition1</th>\n",
       "      <th>Condition2</th>\n",
       "      <th>BldgType</th>\n",
       "      <th>HouseStyle</th>\n",
       "      <th>OverallQual</th>\n",
       "      <th>OverallCond</th>\n",
       "      <th>YearBuilt</th>\n",
       "      <th>YearRemodAdd</th>\n",
       "      <th>RoofStyle</th>\n",
       "      <th>RoofMatl</th>\n",
       "      <th>Exterior1st</th>\n",
       "      <th>Exterior2nd</th>\n",
       "      <th>MasVnrType</th>\n",
       "      <th>MasVnrArea</th>\n",
       "      <th>ExterQual</th>\n",
       "      <th>ExterCond</th>\n",
       "      <th>Foundation</th>\n",
       "      <th>BsmtQual</th>\n",
       "      <th>BsmtCond</th>\n",
       "      <th>BsmtExposure</th>\n",
       "      <th>BsmtFinType1</th>\n",
       "      <th>BsmtFinSF1</th>\n",
       "      <th>BsmtFinType2</th>\n",
       "      <th>BsmtFinSF2</th>\n",
       "      <th>BsmtUnfSF</th>\n",
       "      <th>TotalBsmtSF</th>\n",
       "      <th>Heating</th>\n",
       "      <th>HeatingQC</th>\n",
       "      <th>CentralAir</th>\n",
       "      <th>Electrical</th>\n",
       "      <th>1stFlrSF</th>\n",
       "      <th>2ndFlrSF</th>\n",
       "      <th>LowQualFinSF</th>\n",
       "      <th>GrLivArea</th>\n",
       "      <th>BsmtFullBath</th>\n",
       "      <th>BsmtHalfBath</th>\n",
       "      <th>FullBath</th>\n",
       "      <th>HalfBath</th>\n",
       "      <th>BedroomAbvGr</th>\n",
       "      <th>KitchenAbvGr</th>\n",
       "      <th>KitchenQual</th>\n",
       "      <th>TotRmsAbvGrd</th>\n",
       "      <th>Functional</th>\n",
       "      <th>Fireplaces</th>\n",
       "      <th>FireplaceQu</th>\n",
       "      <th>GarageType</th>\n",
       "      <th>GarageYrBlt</th>\n",
       "      <th>GarageFinish</th>\n",
       "      <th>GarageCars</th>\n",
       "      <th>GarageArea</th>\n",
       "      <th>GarageQual</th>\n",
       "      <th>GarageCond</th>\n",
       "      <th>PavedDrive</th>\n",
       "      <th>WoodDeckSF</th>\n",
       "      <th>OpenPorchSF</th>\n",
       "      <th>EnclosedPorch</th>\n",
       "      <th>3SsnPorch</th>\n",
       "      <th>ScreenPorch</th>\n",
       "      <th>PoolArea</th>\n",
       "      <th>PoolQC</th>\n",
       "      <th>Fence</th>\n",
       "      <th>MiscFeature</th>\n",
       "      <th>MiscVal</th>\n",
       "      <th>MoSold</th>\n",
       "      <th>YrSold</th>\n",
       "      <th>SaleType</th>\n",
       "      <th>SaleCondition</th>\n",
       "      <th>SalePrice</th>\n",
       "      <th>data_type</th>\n",
       "    </tr>\n",
       "  </thead>\n",
       "  <tbody>\n",
       "    <tr>\n",
       "      <th>2549</th>\n",
       "      <td>20</td>\n",
       "      <td>RL</td>\n",
       "      <td>128.0</td>\n",
       "      <td>39290</td>\n",
       "      <td>Pave</td>\n",
       "      <td>NaN</td>\n",
       "      <td>IR1</td>\n",
       "      <td>Bnk</td>\n",
       "      <td>AllPub</td>\n",
       "      <td>Inside</td>\n",
       "      <td>Gtl</td>\n",
       "      <td>Edwards</td>\n",
       "      <td>Norm</td>\n",
       "      <td>Norm</td>\n",
       "      <td>1Fam</td>\n",
       "      <td>1Story</td>\n",
       "      <td>10</td>\n",
       "      <td>5</td>\n",
       "      <td>2008</td>\n",
       "      <td>2009</td>\n",
       "      <td>Hip</td>\n",
       "      <td>CompShg</td>\n",
       "      <td>CemntBd</td>\n",
       "      <td>CmentBd</td>\n",
       "      <td>Stone</td>\n",
       "      <td>1224.0</td>\n",
       "      <td>Ex</td>\n",
       "      <td>TA</td>\n",
       "      <td>PConc</td>\n",
       "      <td>Ex</td>\n",
       "      <td>TA</td>\n",
       "      <td>Gd</td>\n",
       "      <td>GLQ</td>\n",
       "      <td>4010.0</td>\n",
       "      <td>Unf</td>\n",
       "      <td>0.0</td>\n",
       "      <td>1085.0</td>\n",
       "      <td>5095.0</td>\n",
       "      <td>GasA</td>\n",
       "      <td>5</td>\n",
       "      <td>Y</td>\n",
       "      <td>SBrkr</td>\n",
       "      <td>5095</td>\n",
       "      <td>0</td>\n",
       "      <td>0</td>\n",
       "      <td>5095</td>\n",
       "      <td>1.0</td>\n",
       "      <td>1.0</td>\n",
       "      <td>2</td>\n",
       "      <td>1</td>\n",
       "      <td>2</td>\n",
       "      <td>1</td>\n",
       "      <td>5</td>\n",
       "      <td>15</td>\n",
       "      <td>7</td>\n",
       "      <td>2</td>\n",
       "      <td>4</td>\n",
       "      <td>Attchd</td>\n",
       "      <td>2008.0</td>\n",
       "      <td>3</td>\n",
       "      <td>3.0</td>\n",
       "      <td>1154.0</td>\n",
       "      <td>3</td>\n",
       "      <td>3</td>\n",
       "      <td>Y</td>\n",
       "      <td>546</td>\n",
       "      <td>484</td>\n",
       "      <td>0</td>\n",
       "      <td>0</td>\n",
       "      <td>0</td>\n",
       "      <td>0</td>\n",
       "      <td>NaN</td>\n",
       "      <td>NaN</td>\n",
       "      <td>NaN</td>\n",
       "      <td>17000</td>\n",
       "      <td>10</td>\n",
       "      <td>2007</td>\n",
       "      <td>New</td>\n",
       "      <td>Partial</td>\n",
       "      <td>0</td>\n",
       "      <td>test</td>\n",
       "    </tr>\n",
       "  </tbody>\n",
       "</table>\n",
       "</div>"
      ],
      "text/plain": [
       "      MSSubClass MSZoning  LotFrontage  LotArea Street Alley LotShape  \\\n",
       "2549          20       RL        128.0    39290   Pave   NaN      IR1   \n",
       "\n",
       "     LandContour Utilities LotConfig LandSlope Neighborhood Condition1  \\\n",
       "2549         Bnk    AllPub    Inside       Gtl      Edwards       Norm   \n",
       "\n",
       "     Condition2 BldgType HouseStyle  OverallQual  OverallCond  YearBuilt  \\\n",
       "2549       Norm     1Fam     1Story           10            5       2008   \n",
       "\n",
       "      YearRemodAdd RoofStyle RoofMatl Exterior1st Exterior2nd MasVnrType  \\\n",
       "2549          2009       Hip  CompShg     CemntBd     CmentBd      Stone   \n",
       "\n",
       "      MasVnrArea ExterQual ExterCond Foundation BsmtQual BsmtCond  \\\n",
       "2549      1224.0        Ex        TA      PConc       Ex       TA   \n",
       "\n",
       "     BsmtExposure BsmtFinType1  BsmtFinSF1 BsmtFinType2  BsmtFinSF2  \\\n",
       "2549           Gd          GLQ      4010.0          Unf         0.0   \n",
       "\n",
       "      BsmtUnfSF  TotalBsmtSF Heating  HeatingQC CentralAir Electrical  \\\n",
       "2549     1085.0       5095.0    GasA          5          Y      SBrkr   \n",
       "\n",
       "      1stFlrSF  2ndFlrSF  LowQualFinSF  GrLivArea  BsmtFullBath  BsmtHalfBath  \\\n",
       "2549      5095         0             0       5095           1.0           1.0   \n",
       "\n",
       "      FullBath  HalfBath  BedroomAbvGr  KitchenAbvGr  KitchenQual  \\\n",
       "2549         2         1             2             1            5   \n",
       "\n",
       "      TotRmsAbvGrd  Functional  Fireplaces  FireplaceQu GarageType  \\\n",
       "2549            15           7           2            4     Attchd   \n",
       "\n",
       "      GarageYrBlt  GarageFinish  GarageCars  GarageArea  GarageQual  \\\n",
       "2549       2008.0             3         3.0      1154.0           3   \n",
       "\n",
       "      GarageCond PavedDrive  WoodDeckSF  OpenPorchSF  EnclosedPorch  \\\n",
       "2549           3          Y         546          484              0   \n",
       "\n",
       "      3SsnPorch  ScreenPorch  PoolArea PoolQC Fence MiscFeature  MiscVal  \\\n",
       "2549          0            0         0    NaN   NaN         NaN    17000   \n",
       "\n",
       "      MoSold  YrSold SaleType SaleCondition  SalePrice data_type  \n",
       "2549      10    2007      New       Partial          0      test  "
      ]
     },
     "execution_count": 226,
     "metadata": {},
     "output_type": "execute_result"
    }
   ],
   "source": [
    "\"\"\" Checking the extreme value of 15 for Total rooms\"\"\"\n",
    "df[df.TotRmsAbvGrd == 15]"
   ]
  },
  {
   "cell_type": "code",
   "execution_count": 228,
   "metadata": {},
   "outputs": [
    {
     "data": {
      "text/plain": [
       "6     844\n",
       "7     649\n",
       "5     583\n",
       "8     347\n",
       "4     196\n",
       "9     143\n",
       "10     80\n",
       "11     32\n",
       "3      25\n",
       "12     16\n",
       "15      1\n",
       "13      1\n",
       "14      1\n",
       "2       1\n",
       "Name: TotRmsAbvGrd, dtype: int64"
      ]
     },
     "execution_count": 228,
     "metadata": {},
     "output_type": "execute_result"
    }
   ],
   "source": [
    "\"\"\" Does not see totally odd, given other values abouve 10\"\"\"\n",
    "df.TotRmsAbvGrd.value_counts()"
   ]
  },
  {
   "cell_type": "markdown",
   "metadata": {},
   "source": [
    "# Dummy variable genaration\n"
   ]
  },
  {
   "cell_type": "code",
   "execution_count": null,
   "metadata": {},
   "outputs": [],
   "source": []
  }
 ],
 "metadata": {
  "kernelspec": {
   "display_name": "Python 3",
   "language": "python",
   "name": "python3"
  },
  "language_info": {
   "codemirror_mode": {
    "name": "ipython",
    "version": 3
   },
   "file_extension": ".py",
   "mimetype": "text/x-python",
   "name": "python",
   "nbconvert_exporter": "python",
   "pygments_lexer": "ipython3",
   "version": "3.7.2"
  }
 },
 "nbformat": 4,
 "nbformat_minor": 2
}
