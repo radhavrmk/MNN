{
 "cells": [
  {
   "cell_type": "code",
   "execution_count": 47,
   "metadata": {},
   "outputs": [],
   "source": [
    "import numpy as np\n",
    "import pandas as pd\n",
    "import matplotlib.pyplot as plt\n",
    "import seaborn as sns\n",
    "%matplotlib inline\n",
    "pd.set_option('display.max_columns', 100)\n",
    "sns.set()"
   ]
  },
  {
   "cell_type": "code",
   "execution_count": 48,
   "metadata": {},
   "outputs": [],
   "source": [
    "def load_test_train_data() :\n",
    "\n",
    "    print(\"\\n\\n*****\\nLoading test and train data....\")\n",
    "    df_train = pd.read_csv(\"../data/raw/train.csv\",index_col=0)\n",
    "    df_test = pd.read_csv(\"../data/raw/test.csv\", index_col=0)\n",
    "    df_train[\"data_type\"] = \"train\"\n",
    "    df_test[\"data_type\"] = \"test\"\n",
    "    df_test[\"SalePrice\"] = 0\n",
    "\n",
    "    df = pd.concat([df_train, df_test], sort=False)\n",
    "    df = df.reset_index(drop=True)\n",
    "\n",
    "    print(\"Train Data Shape :\", df_train.shape)\n",
    "    print(\"Test Data Shape : \", df_test.shape)\n",
    "    print(\"Combined Data Shape : \", df.shape)\n",
    "\n",
    "    return (df_train, df_test, df)\n"
   ]
  },
  {
   "cell_type": "code",
   "execution_count": 49,
   "metadata": {},
   "outputs": [],
   "source": [
    "def write_processed_files(df):\n",
    "    \n",
    "    print(\"\\n\\n*****\\nGenerating processed data files...\")\n",
    "\n",
    "    train = df[df.data_type_train == 1].reset_index(drop=True)\n",
    "    test = df[df.data_type_test == 1].reset_index(drop=True)    \n",
    "\n",
    "    train.drop(\"data_type_train\", axis=1, inplace=True)\n",
    "    train.drop(\"data_type_test\", axis=1, inplace=True)    \n",
    "    test.drop(\"data_type_train\", axis=1,inplace=True)\n",
    "    test.drop(\"data_type_test\", axis=1,inplace=True)\n",
    "    \n",
    "    df.to_csv(\"../data/processed_data/full_processed.csv\")\n",
    "    train.to_csv(\"../data/processed_data/train_processed.csv\")\n",
    "    test.to_csv(\"../data/processed_data/test_processed.csv\")\n",
    "\n",
    "    return None\n",
    "\n"
   ]
  },
  {
   "cell_type": "code",
   "execution_count": 50,
   "metadata": {},
   "outputs": [],
   "source": [
    "def get_column_names_by_type(df):\n",
    "    numeric_columns = df.describe().columns\n",
    "    non_numeric_columns = [i for i in df.columns if i not in numeric_columns]\n",
    "    return (numeric_columns, non_numeric_columns)\n",
    "    "
   ]
  },
  {
   "cell_type": "code",
   "execution_count": 51,
   "metadata": {},
   "outputs": [],
   "source": [
    "#missing value counter\n",
    "def na_counter(data):\n",
    "    coln = list(data.columns)\n",
    "\n",
    "    if data.isnull().any().sum() == 0:\n",
    "        return pd.DataFrame(columns=['NA Count',\"PERCENT\"])\n",
    "    \n",
    "    na_dict ={}\n",
    "    for col in coln:\n",
    "        if data[col].isnull().any()==True:\n",
    "            na_count = data[col].isnull().sum()\n",
    "            na_percent = data[col].isnull().sum()/len(data)\n",
    "            na_dict[col]=[na_count, na_percent]\n",
    "    df_na =pd.DataFrame(na_dict).T\n",
    "    df_na.columns = ['NA Count',\"PERCENT\"]\n",
    "    df_na.index.name = \"Column\"\n",
    "    return df_na"
   ]
  },
  {
   "cell_type": "code",
   "execution_count": 52,
   "metadata": {},
   "outputs": [],
   "source": [
    "def impute_null_fields(df):\n",
    "    \n",
    "    print(\"\\n\\n*****\\nImputing Null values....\")\n",
    "    print(\"Null counts before imputing:\")\n",
    "    print(na_counter(df))\n",
    "    \n",
    "\n",
    "    \"\"\" ?? \"\"\"\n",
    "    df[\"MSZoning\"] = df[\"MSZoning\"].fillna(\"RM\")\n",
    "    df[\"LotFrontage\"] = df[\"LotFrontage\"].fillna(0)\n",
    "    \n",
    "    df[\"MasVnrType\"] = df[\"MasVnrType\"].fillna(\"None\") \n",
    "    df[\"MasVnrArea\"] = df[\"MasVnrArea\"].fillna(0.0) \n",
    "    df[\"BsmtQual\"] = df[\"BsmtQual\"].fillna(\"NoBsmt\")\n",
    "    df[\"BsmtCond\"] = df[\"BsmtCond\"].fillna(\"NoBsmt\")\n",
    "    df[\"BsmtExposure\"] = df[\"BsmtExposure\"].fillna(\"NoBsmt\")\n",
    "    df[\"BsmtFinType1\"] = df[\"BsmtFinType1\"].fillna(\"NoBsmt\")\n",
    "    df[\"BsmtFinType2\"] = df[\"BsmtFinType2\"].fillna(\"NoBsmt\")\n",
    "    df['Exterior1st'] = df['Exterior1st'].fillna(\"None\") \n",
    "    df['Exterior2nd'] = df['Exterior2nd'].fillna(\"None\")\n",
    "    df['BsmtFinSF1'] = df['BsmtFinSF1'].fillna(0) \n",
    "    df['BsmtFinSF2'] = df['BsmtFinSF2'].fillna(0) \n",
    "    df['BsmtUnfSF'] = df['BsmtUnfSF'].fillna(0) \n",
    "    df['TotalBsmtSF'] = df['TotalBsmtSF'].fillna(0) \n",
    "    \n",
    "\n",
    "    \"\"\" Only one row missing the value, impute with \"SBrkr\" which is the most used \"\"\"\n",
    "    df.Electrical = df.Electrical.fillna(\"SBrkr\")\n",
    "\n",
    "    \"\"\" Impute with equavelant of overall house quality : Average, equivalent \"TA\" \"\"\"\n",
    "    df.KitchenQual = df.KitchenQual.fillna(\"None\")\n",
    "\n",
    "    df.FireplaceQu = df.FireplaceQu.fillna(\"None\")\n",
    "    \n",
    "    \"\"\" First change Garage Type for row with Null area and then change Garage Area \"\"\"\n",
    "    df.loc[df.GarageArea.isnull(), \"GarageType\"] = np.nan\n",
    "    df.loc[df.GarageArea.isnull(), \"GarageArea\"] = 0\n",
    "    \n",
    "        \n",
    "\n",
    "    \"\"\" For one record with Garage Area 360 and with missing Garage values, set to average values based on Overall Quality \"\"\"\n",
    "    df.loc[(df.GarageArea==360) & df.GarageFinish.isnull(), \"GarageFinish\"] = \"Unf\"\n",
    "    df.loc[(df.GarageArea==360) & df.GarageQual.isnull(), \"GarageQual\"] = \"TA\"\n",
    "    df.loc[(df.GarageArea==360) & df.GarageCond.isnull(), \"GarageCond\"] = \"TA\"\n",
    "    \"\"\" Setting the Garage built to \"Year Remodelled\" \"\"\"\n",
    "    df.loc[(df.GarageArea==360) & df.GarageYrBlt.isnull(), \"GarageYrBlt\"] = df.YearRemodAdd\n",
    "\n",
    "\n",
    "    \n",
    "    \"\"\" Set rest of the missing Garage valies to None and GarageCars to zero\"\"\"\n",
    "    df.GarageFinish = df.GarageFinish.fillna(\"None\")\n",
    "    df.GarageQual = df.GarageQual.fillna(\"None\")\n",
    "    df.GarageCond = df.GarageCond.fillna(\"None\")\n",
    "    df.GarageType = df.GarageType.fillna(\"None\")\n",
    "\n",
    "    df.GarageCars = df.GarageCars.fillna(0)\n",
    "\n",
    "\n",
    "    \"\"\" Is it correct to fill with Zero for Year built as the scale will change compared to most values in 1900\"\"\" \n",
    "    df.GarageYrBlt = df.GarageYrBlt.fillna(0)\n",
    "\n",
    "\n",
    "    \"\"\" Impiute with Typ as mentioned in documentation. There does not seem to be clear relation with\n",
    "        Overall quality fields\n",
    "    \"\"\"\n",
    "    df.loc[df.Functional.isnull(), \"Functional\"] = \"Typ\"\n",
    "\n",
    "\n",
    "    \"\"\"Basement Fullbath and Halfbath NA values are related to  houses without basements. Soe set them to 0 \"\"\"\n",
    "    df.BsmtFullBath = df.BsmtFullBath.fillna(0)\n",
    "    df.BsmtHalfBath = df.BsmtHalfBath.fillna(0)\n",
    "    \n",
    "    \n",
    "    \"\"\" ?? \"\"\"\n",
    "    df['SaleType'] = df['SaleType'].fillna(\"Oth\")\n",
    "    df['GarageQual'] = df['GarageQual'].fillna(\"None\")\n",
    "\n",
    "    print(\"\\n\\n\\nNull counts after imputing:\")\n",
    "    print(na_counter(df))\n",
    "\n",
    "    return df"
   ]
  },
  {
   "cell_type": "code",
   "execution_count": 53,
   "metadata": {},
   "outputs": [],
   "source": [
    "def correct_data(df):\n",
    "    \n",
    "    print(\"\\n\\n*****\\nCorrecting incorrect data values...\")\n",
    "\n",
    "    \"\"\"Seems the year is 2207 is a typo, setting to the year remodeled\"\"\"\n",
    "    df.loc[df.GarageYrBlt==2207, \"GarageYrBlt\"] = 2007\n",
    "    return df"
   ]
  },
  {
   "cell_type": "code",
   "execution_count": 54,
   "metadata": {},
   "outputs": [],
   "source": [
    "\n",
    "def transform_ordinal(df):\n",
    "    typical_graded_cols = [\"HeatingQC\", \"KitchenQual\", \"FireplaceQu\", \"GarageQual\", \"GarageCond\"]\n",
    "    typical_grade_map = {'Ex':5,'Gd':4,'TA':3,'Fa':2,'Po':1,'None':0}\n",
    "\n",
    "    for i in typical_graded_cols:\n",
    "        df[i].replace(typical_grade_map, inplace=True)\n",
    "    \n",
    "    df['Functional'].replace({'Typ':7,'Min1':6,'Min2':5,'Mod':4,'Maj1':3,'Maj2':2,'Sev':1,'Sal':0}, inplace=True)\n",
    "    df['GarageFinish'].replace({'Fin':3,'RFn':2,'Unf':1,'None':0}, inplace=True)\n",
    "    \n",
    "    return df"
   ]
  },
  {
   "cell_type": "code",
   "execution_count": 55,
   "metadata": {},
   "outputs": [],
   "source": [
    "def drop_columns(df):\n",
    "    \n",
    "    print(\"\\n\\n*****\\nDropping selective columns...\")\n",
    "    columsn_to_drop = [\"Street\", \"Alley\",\"Utilities\",\"Condition2\", \"RoofMatl\", \"LowQualFinSF\",\"GarageYrBlt\",\n",
    "                       \"GarageQual\", \"PoolQC\",\"Fence\",\"MiscFeature\", \"GarageCond\",\"MiscVal\"]\n",
    "\n",
    "    print(\"\\n\\n*****\\nNo of columns before dropping : \", len(df.columns))\n",
    "    print(\"No of columns to drop : \", len(columsn_to_drop))\n",
    "    \n",
    "    df.drop(columsn_to_drop, axis=1, inplace=True)\n",
    "    print(\"No of columns after dropping : \", len(df.columns))\n",
    "\n",
    "    return df"
   ]
  },
  {
   "cell_type": "code",
   "execution_count": 80,
   "metadata": {},
   "outputs": [],
   "source": [
    "def print_data_stats(df):\n",
    "    print(\"\\n\\n*****\\nPrinting stats...\")\n",
    "    print(\"No of rows : \", df.shape[0])\n",
    "    print(\"No of columns : \", df.shape[1])\n",
    "    \n",
    "    x,y = get_column_names_by_type(df)\n",
    "    print(\"Numeric columns : \", len(x))\n",
    "    print(\"Non Numeric columns : \", len(y))\n",
    "    return df"
   ]
  },
  {
   "cell_type": "code",
   "execution_count": 99,
   "metadata": {},
   "outputs": [],
   "source": [
    "import os\n",
    "def process_raw_data():\n",
    "    \n",
    "    print(\"\\n\\n*****\\n Processing raw files to generate processed files... hold tight...\")\n",
    "    train_df, test_df, full_df = load_test_train_data()\n",
    "    \n",
    "    full_df = full_df.\\\n",
    "            pipe(print_data_stats).\\\n",
    "            pipe(impute_null_fields).\\\n",
    "            pipe(correct_data).\\\n",
    "            pipe(drop_columns).\\\n",
    "            pipe(pd.get_dummies).\\\n",
    "            pipe(print_data_stats).\\\n",
    "            pipe(write_processed_files)\n",
    "\n",
    "    return(train_df, test_df, full_df)\n",
    "    "
   ]
  },
  {
   "cell_type": "code",
   "execution_count": 100,
   "metadata": {},
   "outputs": [
    {
     "name": "stdout",
     "output_type": "stream",
     "text": [
      "\n",
      "\n",
      "*****\n",
      " Processing raw files to generate processed files... hold tight...\n",
      "\n",
      "\n",
      "*****\n",
      "Loading test and train data....\n",
      "Train Data Shape : (1460, 81)\n",
      "Test Data Shape :  (1459, 81)\n",
      "Combined Data Shape :  (2919, 81)\n",
      "\n",
      "\n",
      "*****\n",
      "Printing stats...\n",
      "No of rows :  2919\n",
      "No of columns :  81\n",
      "Numeric columns :  37\n",
      "Non Numeric columns :  44\n",
      "\n",
      "\n",
      "*****\n",
      "Imputing Null values....\n",
      "Null counts before imputing:\n",
      "              NA Count   PERCENT\n",
      "Column                          \n",
      "MSZoning           4.0  0.001370\n",
      "LotFrontage      486.0  0.166495\n",
      "Alley           2721.0  0.932169\n",
      "Utilities          2.0  0.000685\n",
      "Exterior1st        1.0  0.000343\n",
      "Exterior2nd        1.0  0.000343\n",
      "MasVnrType        24.0  0.008222\n",
      "MasVnrArea        23.0  0.007879\n",
      "BsmtQual          81.0  0.027749\n",
      "BsmtCond          82.0  0.028092\n",
      "BsmtExposure      82.0  0.028092\n",
      "BsmtFinType1      79.0  0.027064\n",
      "BsmtFinSF1         1.0  0.000343\n",
      "BsmtFinType2      80.0  0.027407\n",
      "BsmtFinSF2         1.0  0.000343\n",
      "BsmtUnfSF          1.0  0.000343\n",
      "TotalBsmtSF        1.0  0.000343\n",
      "Electrical         1.0  0.000343\n",
      "BsmtFullBath       2.0  0.000685\n",
      "BsmtHalfBath       2.0  0.000685\n",
      "KitchenQual        1.0  0.000343\n",
      "Functional         2.0  0.000685\n",
      "FireplaceQu     1420.0  0.486468\n",
      "GarageType       157.0  0.053786\n",
      "GarageYrBlt      159.0  0.054471\n",
      "GarageFinish     159.0  0.054471\n",
      "GarageCars         1.0  0.000343\n",
      "GarageArea         1.0  0.000343\n",
      "GarageQual       159.0  0.054471\n",
      "GarageCond       159.0  0.054471\n",
      "PoolQC          2909.0  0.996574\n",
      "Fence           2348.0  0.804385\n",
      "MiscFeature     2814.0  0.964029\n",
      "SaleType           1.0  0.000343\n",
      "\n",
      "\n",
      "\n",
      "Null counts after imputing:\n",
      "             NA Count   PERCENT\n",
      "Column                         \n",
      "Alley          2721.0  0.932169\n",
      "Utilities         2.0  0.000685\n",
      "PoolQC         2909.0  0.996574\n",
      "Fence          2348.0  0.804385\n",
      "MiscFeature    2814.0  0.964029\n",
      "\n",
      "\n",
      "*****\n",
      "Correcting incorrect data values...\n",
      "\n",
      "\n",
      "*****\n",
      "Dropping selective columns...\n",
      "\n",
      "\n",
      "*****\n",
      "No of columns before dropping :  81\n",
      "No of columns to drop :  13\n",
      "No of columns after dropping :  68\n",
      "\n",
      "\n",
      "*****\n",
      "Printing stats...\n",
      "No of rows :  2919\n",
      "No of columns :  256\n",
      "Numeric columns :  256\n",
      "Non Numeric columns :  0\n",
      "\n",
      "\n",
      "*****\n",
      "Generating processed data files...\n"
     ]
    }
   ],
   "source": [
    "_ = process_raw_data()"
   ]
  },
  {
   "cell_type": "markdown",
   "metadata": {},
   "source": [
    "# Skewness between test and train data"
   ]
  },
  {
   "cell_type": "code",
   "execution_count": null,
   "metadata": {},
   "outputs": [],
   "source": [
    "xx = df.groupby(\"data_type\").agg(lambda x: len(x.unique()))"
   ]
  },
  {
   "cell_type": "code",
   "execution_count": null,
   "metadata": {},
   "outputs": [],
   "source": [
    "xx[numeric_columns][xx>15]"
   ]
  },
  {
   "cell_type": "markdown",
   "metadata": {},
   "source": [
    "# Skewness check for columns"
   ]
  },
  {
   "cell_type": "code",
   "execution_count": null,
   "metadata": {},
   "outputs": [],
   "source": [
    "numeric_columns"
   ]
  },
  {
   "cell_type": "code",
   "execution_count": null,
   "metadata": {
    "scrolled": false
   },
   "outputs": [],
   "source": [
    "for i in numeric_columns:\n",
    "    df[i].hist()\n",
    "    plt.xlabel(i)\n",
    "    plt.show()"
   ]
  },
  {
   "cell_type": "code",
   "execution_count": null,
   "metadata": {},
   "outputs": [],
   "source": [
    "from scipy.stats import skew\n",
    "from scipy.stats import skewtest\n",
    "\n",
    "skew(df[\"1stFlrSF\"])\n",
    "\n",
    "numeric_df = df[numeric_columns]\n",
    "\n",
    "numeric_df.apply(skew).sort_values(ascending=False)\n",
    "\n"
   ]
  },
  {
   "cell_type": "code",
   "execution_count": null,
   "metadata": {},
   "outputs": [],
   "source": [
    "skewtest(df[\"1stFlrSF\"])"
   ]
  },
  {
   "cell_type": "code",
   "execution_count": null,
   "metadata": {},
   "outputs": [],
   "source": []
  },
  {
   "cell_type": "markdown",
   "metadata": {},
   "source": [
    "# Extreme value check"
   ]
  },
  {
   "cell_type": "code",
   "execution_count": null,
   "metadata": {},
   "outputs": [],
   "source": [
    "df2.min()"
   ]
  },
  {
   "cell_type": "code",
   "execution_count": null,
   "metadata": {},
   "outputs": [],
   "source": [
    "df2.max()"
   ]
  },
  {
   "cell_type": "code",
   "execution_count": null,
   "metadata": {},
   "outputs": [],
   "source": [
    "\"\"\" 2207 for Garage built is odd value\"\"\"\n",
    "df[df.GarageYrBlt==2207]"
   ]
  },
  {
   "cell_type": "code",
   "execution_count": null,
   "metadata": {},
   "outputs": [],
   "source": [
    "\n"
   ]
  },
  {
   "cell_type": "code",
   "execution_count": null,
   "metadata": {},
   "outputs": [],
   "source": [
    "\n",
    "df = correct_data(df)\n",
    "df2 = df.iloc[:,38:64]"
   ]
  },
  {
   "cell_type": "code",
   "execution_count": null,
   "metadata": {},
   "outputs": [],
   "source": [
    "\"\"\" Checking the extreme value of 15 for Total rooms\"\"\"\n",
    "df[df.TotRmsAbvGrd == 15]"
   ]
  },
  {
   "cell_type": "code",
   "execution_count": null,
   "metadata": {},
   "outputs": [],
   "source": [
    "\"\"\" Does not see totally odd, given other values abouve 10\"\"\"\n",
    "df.TotRmsAbvGrd.value_counts()"
   ]
  },
  {
   "cell_type": "markdown",
   "metadata": {},
   "source": [
    "# Dummy variable genaration\n"
   ]
  },
  {
   "cell_type": "code",
   "execution_count": null,
   "metadata": {},
   "outputs": [],
   "source": []
  }
 ],
 "metadata": {
  "kernelspec": {
   "display_name": "Python 3",
   "language": "python",
   "name": "python3"
  },
  "language_info": {
   "codemirror_mode": {
    "name": "ipython",
    "version": 3
   },
   "file_extension": ".py",
   "mimetype": "text/x-python",
   "name": "python",
   "nbconvert_exporter": "python",
   "pygments_lexer": "ipython3",
   "version": "3.7.2"
  }
 },
 "nbformat": 4,
 "nbformat_minor": 2
}
