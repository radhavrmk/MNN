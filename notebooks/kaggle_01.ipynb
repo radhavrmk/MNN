{
 "cells": [
  {
   "cell_type": "code",
   "execution_count": 345,
   "metadata": {},
   "outputs": [],
   "source": [
    "import pandas as pd\n",
    "import numpy as np\n",
    "%matplotlib inline\n",
    "import matplotlib.pyplot as plt\n",
    "import seaborn as sns"
   ]
  },
  {
   "cell_type": "code",
   "execution_count": 346,
   "metadata": {},
   "outputs": [
    {
     "name": "stdout",
     "output_type": "stream",
     "text": [
      "(1460, 80)\n"
     ]
    }
   ],
   "source": [
    "train_raw=pd.read_csv(\"train.csv\", index_col=\"Id\")\n",
    "print(train_raw.shape)"
   ]
  },
  {
   "cell_type": "code",
   "execution_count": 347,
   "metadata": {},
   "outputs": [
    {
     "name": "stdout",
     "output_type": "stream",
     "text": [
      "(1459, 79)\n"
     ]
    }
   ],
   "source": [
    "test_raw=pd.read_csv(\"test.csv\", index_col=\"Id\")\n",
    "print(test_raw.shape)"
   ]
  },
  {
   "cell_type": "code",
   "execution_count": 348,
   "metadata": {},
   "outputs": [
    {
     "data": {
      "text/plain": [
       "(2919, 71)"
      ]
     },
     "execution_count": 348,
     "metadata": {},
     "output_type": "execute_result"
    }
   ],
   "source": [
    "df =pd.read_csv(\"train_test.csv\", index_col=\"Id\")\n",
    "df.shape"
   ]
  },
  {
   "cell_type": "code",
   "execution_count": 278,
   "metadata": {
    "scrolled": true
   },
   "outputs": [
    {
     "data": {
      "text/plain": [
       "<matplotlib.axes._subplots.AxesSubplot at 0x1a8c5a335f8>"
      ]
     },
     "execution_count": 278,
     "metadata": {},
     "output_type": "execute_result"
    },
    {
     "data": {
      "image/png": "[encoded data removed]",
      "text/plain": [
       "<Figure size 432x288 with 1 Axes>"
      ]
     },
     "metadata": {
      "needs_background": "light"
     },
     "output_type": "display_data"
    }
   ],
   "source": [
    "## Check Skewness of target value \n",
    "sns.distplot(train['SalePrice'])"
   ]
  },
  {
   "cell_type": "code",
   "execution_count": null,
   "metadata": {},
   "outputs": [],
   "source": []
  },
  {
   "cell_type": "code",
   "execution_count": 349,
   "metadata": {},
   "outputs": [],
   "source": [
    "df[\"SalePrice\"]= np.log1p(df[\"SalePrice\"])"
   ]
  },
  {
   "cell_type": "code",
   "execution_count": null,
   "metadata": {},
   "outputs": [],
   "source": [
    "#Get also the QQ-plot\n",
    "fig = plt.figure()\n",
    "res = stats.probplot(train['SalePrice'], plot=plt)\n",
    "plt.show()"
   ]
  },
  {
   "cell_type": "markdown",
   "metadata": {},
   "source": [
    "## Missingness "
   ]
  },
  {
   "cell_type": "code",
   "execution_count": null,
   "metadata": {},
   "outputs": [],
   "source": [
    "#missing value counter\n",
    "def na_counter(data):\n",
    "    coln = list(data.columns)\n",
    "    df_na ={}\n",
    "    for col in coln:\n",
    "        if data[col].isnull().any()==True:\n",
    "            mvalue = data[col].isnull().sum()\n",
    "            mpercent = data[col].isnull().sum()/len(data)\n",
    "            df_na[col]=[mvalue, mpercent]\n",
    "    df_Na =pd.DataFrame(df_na).T\n",
    "    df_Na.columns = ['NA',\"PERCENT\"]\n",
    "    return df_Na"
   ]
  },
  {
   "cell_type": "code",
   "execution_count": null,
   "metadata": {},
   "outputs": [],
   "source": [
    "na_counter(train)"
   ]
  },
  {
   "cell_type": "markdown",
   "metadata": {},
   "source": [
    "### 1. Pearson correlation -Univariate Features"
   ]
  },
  {
   "cell_type": "code",
   "execution_count": 350,
   "metadata": {},
   "outputs": [],
   "source": [
    "## Split data in 2 \n",
    "train, test = np.split(df,[1460])"
   ]
  },
  {
   "cell_type": "code",
   "execution_count": 351,
   "metadata": {},
   "outputs": [],
   "source": [
    "corr = train.corr(method='pearson').drop(['SalePrice']).sort_values('SalePrice', ascending=False)['SalePrice']"
   ]
  },
  {
   "cell_type": "code",
   "execution_count": 352,
   "metadata": {},
   "outputs": [],
   "source": [
    "df_corr = df.drop(['PoolArea','3SsnPorch','BsmtFinSF2'], axis=1)"
   ]
  },
  {
   "cell_type": "code",
   "execution_count": 136,
   "metadata": {},
   "outputs": [],
   "source": [
    "#'OverallCond','MSSubClass' have also very low correlation, but these are ordinal features so these features were\n",
    "# additionally check through chi sq test. "
   ]
  },
  {
   "cell_type": "code",
   "execution_count": 353,
   "metadata": {},
   "outputs": [
    {
     "data": {
      "text/plain": [
       "(2919, 68)"
      ]
     },
     "execution_count": 353,
     "metadata": {},
     "output_type": "execute_result"
    }
   ],
   "source": [
    "df_corr.shape"
   ]
  },
  {
   "cell_type": "code",
   "execution_count": 354,
   "metadata": {},
   "outputs": [],
   "source": [
    "from sklearn.preprocessing import LabelEncoder\n",
    "from scipy import stats\n",
    "from scipy.stats import norm, skew \n",
    "\n",
    "#get the numeric values\n",
    "#numeric_features =df_corr.dtypes[df_corr.dtypes != \"object\"].index\n",
    "#numeric_features\n",
    "\n",
    "def numeric_col(data):\n",
    "    numeric_features=[]\n",
    "    coln = data.columns\n",
    "    for col in coln :\n",
    "        if len(data[col].value_counts()) >26 :\n",
    "            numeric_features.append(col)\n",
    "    return numeric_features\n",
    "\n",
    "numeric_features = numeric_col(df_corr)"
   ]
  },
  {
   "cell_type": "code",
   "execution_count": 355,
   "metadata": {},
   "outputs": [],
   "source": [
    "from sklearn import linear_model"
   ]
  },
  {
   "cell_type": "code",
   "execution_count": 356,
   "metadata": {},
   "outputs": [],
   "source": [
    "scores = {}\n",
    "lm = linear_model.LinearRegression()\n",
    "from sklearn.metrics import r2_score\n",
    "for feature_name in numeric_features:\n",
    "    df_numeric = df_corr[numeric_features].copy()\n",
    "    feature = df_corr[feature_name].copy()\n",
    "    df_numeric.drop(feature_name, axis=1, inplace=True)\n",
    "    lm.fit(df_numeric, feature)\n",
    "    scores[feature_name] = lm.score(df_numeric, feature)  "
   ]
  },
  {
   "cell_type": "code",
   "execution_count": 357,
   "metadata": {
    "scrolled": true
   },
   "outputs": [
    {
     "data": {
      "text/plain": [
       "(array([ 0,  1,  2,  3,  4,  5,  6,  7,  8,  9, 10, 11, 12, 13, 14, 15, 16]),\n",
       " <a list of 17 Text xticklabel objects>)"
      ]
     },
     "execution_count": 357,
     "metadata": {},
     "output_type": "execute_result"
    },
    {
     "data": {
      "image/png": "[encoded data removed]",
      "text/plain": [
       "<Figure size 432x288 with 1 Axes>"
      ]
     },
     "metadata": {
      "needs_background": "light"
     },
     "output_type": "display_data"
    }
   ],
   "source": [
    "sns.barplot(x='index', y='R2', data=pd.DataFrame(scores, index=['R2']).T.reset_index())\n",
    "plt.title('$R^2$ of a continuous feature against the other features')\n",
    "plt.xticks(rotation=90)"
   ]
  },
  {
   "cell_type": "code",
   "execution_count": 358,
   "metadata": {},
   "outputs": [],
   "source": [
    "# Adding total sqfootage feature \n",
    "df_corr['TotalSF'] = df_corr['TotalBsmtSF'] + df_corr['1stFlrSF'] + df_corr['2ndFlrSF']"
   ]
  },
  {
   "cell_type": "code",
   "execution_count": 359,
   "metadata": {},
   "outputs": [],
   "source": [
    "df_corr =  df_corr.drop([ '1stFlrSF', '2ndFlrSF','TotalBsmtSF'], axis=1)"
   ]
  },
  {
   "cell_type": "code",
   "execution_count": 360,
   "metadata": {
    "scrolled": true
   },
   "outputs": [
    {
     "name": "stdout",
     "output_type": "stream",
     "text": [
      "\n",
      "Skew in numerical features: \n",
      "\n"
     ]
    }
   ],
   "source": [
    "# Check the skew of all numerical features\n",
    "numeric_features = numeric_col(df_corr)\n",
    "numeric_features\n",
    "\n",
    "skewed_feats = df_corr[numeric_features].apply(lambda x: skew(x.dropna())).sort_values(ascending=False)\n",
    "print(\"\\nSkew in numerical features: \\n\")\n",
    "skewness = pd.DataFrame({'Skew' :skewed_feats})"
   ]
  },
  {
   "cell_type": "code",
   "execution_count": 361,
   "metadata": {},
   "outputs": [],
   "source": [
    "skewness = skewness[abs(skewness)>0.5]\n",
    "df_corr[skewness.index] = np.log1p(df_corr[skewness.index])"
   ]
  },
  {
   "cell_type": "code",
   "execution_count": 362,
   "metadata": {
    "scrolled": true
   },
   "outputs": [
    {
     "name": "stdout",
     "output_type": "stream",
     "text": [
      "\n",
      "Skew in numerical features: \n",
      "\n"
     ]
    },
    {
     "data": {
      "text/html": [
       "<div>\n",
       "<style scoped>\n",
       "    .dataframe tbody tr th:only-of-type {\n",
       "        vertical-align: middle;\n",
       "    }\n",
       "\n",
       "    .dataframe tbody tr th {\n",
       "        vertical-align: top;\n",
       "    }\n",
       "\n",
       "    .dataframe thead th {\n",
       "        text-align: right;\n",
       "    }\n",
       "</style>\n",
       "<table border=\"1\" class=\"dataframe\">\n",
       "  <thead>\n",
       "    <tr style=\"text-align: right;\">\n",
       "      <th></th>\n",
       "      <th>Skew</th>\n",
       "    </tr>\n",
       "  </thead>\n",
       "  <tbody>\n",
       "    <tr>\n",
       "      <th>ScreenPorch</th>\n",
       "      <td>2.945905</td>\n",
       "    </tr>\n",
       "    <tr>\n",
       "      <th>EnclosedPorch</th>\n",
       "      <td>1.961081</td>\n",
       "    </tr>\n",
       "    <tr>\n",
       "      <th>MasVnrArea</th>\n",
       "      <td>0.537018</td>\n",
       "    </tr>\n",
       "    <tr>\n",
       "      <th>WoodDeckSF</th>\n",
       "      <td>0.158033</td>\n",
       "    </tr>\n",
       "    <tr>\n",
       "      <th>GrLivArea</th>\n",
       "      <td>0.013188</td>\n",
       "    </tr>\n",
       "    <tr>\n",
       "      <th>SalePrice</th>\n",
       "      <td>0.000171</td>\n",
       "    </tr>\n",
       "    <tr>\n",
       "      <th>OpenPorchSF</th>\n",
       "      <td>-0.041797</td>\n",
       "    </tr>\n",
       "    <tr>\n",
       "      <th>TotalSF</th>\n",
       "      <td>-0.368434</td>\n",
       "    </tr>\n",
       "    <tr>\n",
       "      <th>YearRemodAdd</th>\n",
       "      <td>-0.458157</td>\n",
       "    </tr>\n",
       "    <tr>\n",
       "      <th>LotArea</th>\n",
       "      <td>-0.504751</td>\n",
       "    </tr>\n",
       "    <tr>\n",
       "      <th>BsmtFinSF1</th>\n",
       "      <td>-0.616632</td>\n",
       "    </tr>\n",
       "    <tr>\n",
       "      <th>YearBuilt</th>\n",
       "      <td>-0.626215</td>\n",
       "    </tr>\n",
       "    <tr>\n",
       "      <th>LotFrontage</th>\n",
       "      <td>-1.040262</td>\n",
       "    </tr>\n",
       "    <tr>\n",
       "      <th>BsmtUnfSF</th>\n",
       "      <td>-2.155206</td>\n",
       "    </tr>\n",
       "    <tr>\n",
       "      <th>GarageArea</th>\n",
       "      <td>-3.510452</td>\n",
       "    </tr>\n",
       "  </tbody>\n",
       "</table>\n",
       "</div>"
      ],
      "text/plain": [
       "                   Skew\n",
       "ScreenPorch    2.945905\n",
       "EnclosedPorch  1.961081\n",
       "MasVnrArea     0.537018\n",
       "WoodDeckSF     0.158033\n",
       "GrLivArea      0.013188\n",
       "SalePrice      0.000171\n",
       "OpenPorchSF   -0.041797\n",
       "TotalSF       -0.368434\n",
       "YearRemodAdd  -0.458157\n",
       "LotArea       -0.504751\n",
       "BsmtFinSF1    -0.616632\n",
       "YearBuilt     -0.626215\n",
       "LotFrontage   -1.040262\n",
       "BsmtUnfSF     -2.155206\n",
       "GarageArea    -3.510452"
      ]
     },
     "execution_count": 362,
     "metadata": {},
     "output_type": "execute_result"
    }
   ],
   "source": [
    "# Check the skew of all numerical features\n",
    "skewed_feats =df_corr[numeric_features].apply(lambda x: skew(x.dropna())).sort_values(ascending=False)\n",
    "print(\"\\nSkew in numerical features: \\n\")\n",
    "skewness = pd.DataFrame({'Skew' :skewed_feats})\n",
    "skewness"
   ]
  },
  {
   "cell_type": "code",
   "execution_count": 363,
   "metadata": {
    "scrolled": true
   },
   "outputs": [
    {
     "data": {
      "text/plain": [
       "array([[<matplotlib.axes._subplots.AxesSubplot object at 0x000001A8C5FE9630>]],\n",
       "      dtype=object)"
      ]
     },
     "execution_count": 363,
     "metadata": {},
     "output_type": "execute_result"
    },
    {
     "data": {
      "image/png": "[encoded data removed]",
      "text/plain": [
       "<Figure size 432x288 with 1 Axes>"
      ]
     },
     "metadata": {
      "needs_background": "light"
     },
     "output_type": "display_data"
    }
   ],
   "source": [
    "skewness.hist()"
   ]
  },
  {
   "cell_type": "code",
   "execution_count": 370,
   "metadata": {
    "scrolled": false
   },
   "outputs": [
    {
     "data": {
      "text/plain": [
       "2007    692\n",
       "2009    647\n",
       "2008    622\n",
       "2006    619\n",
       "2010    339\n",
       "Name: YrSold, dtype: int64"
      ]
     },
     "execution_count": 370,
     "metadata": {},
     "output_type": "execute_result"
    }
   ],
   "source": [
    "df['YrSold'].value_counts()"
   ]
  },
  {
   "cell_type": "code",
   "execution_count": null,
   "metadata": {},
   "outputs": [],
   "source": [
    "#Deleting outliers\n",
    "train = train.drop(train[(train['GrLivArea']>4000) & (train['SalePrice']<300000)].index)\n",
    "\n",
    "#Check the graphic again\n",
    "fig, ax = plt.subplots()\n",
    "ax.scatter(train['GrLivArea'], train['SalePrice'])\n",
    "plt.ylabel('SalePrice', fontsize=13)\n",
    "plt.xlabel('GrLivArea', fontsize=13)\n",
    "plt.show()"
   ]
  },
  {
   "cell_type": "code",
   "execution_count": 144,
   "metadata": {},
   "outputs": [],
   "source": [
    "bins = [-1, 160, 350, 620, 720,900, np.inf]\n",
    "names = ['0', '300', '500',\"700\",'800',\"1200\" ]\n",
    "\n",
    "df_corr[\"GarageArea\"] = pd.cut(df_corr[\"GarageArea\"], bins, labels=names)"
   ]
  },
  {
   "cell_type": "code",
   "execution_count": 364,
   "metadata": {},
   "outputs": [],
   "source": [
    "bins = [0, 1950, 1960, 1970, 1980, 1990,2000, np.inf]\n",
    "names = ['50', '51_60', '61_70','71_80','81_90','91_00','01_10']\n",
    "\n",
    "df_corr[\"YearRemodAdd\"] = pd.cut(df_corr[\"YearRemodAdd\"], bins, labels=names)"
   ]
  },
  {
   "cell_type": "code",
   "execution_count": 146,
   "metadata": {},
   "outputs": [],
   "source": [
    "\n",
    "bins = [-1, 18, 300, np.inf]\n",
    "names = ['0', '1', '2']\n",
    "df_corr[\"EnclosedPorch\"] = pd.cut(df_corr[\"EnclosedPorch\"], bins, labels=names)"
   ]
  },
  {
   "cell_type": "code",
   "execution_count": 147,
   "metadata": {},
   "outputs": [],
   "source": [
    "bins = [-1, 39, 300, np.inf]\n",
    "names = ['0', '1', '2']\n",
    "df_corr[\"ScreenPorch\"] = pd.cut(df_corr[\"ScreenPorch\"], bins, labels=names)\n"
   ]
  },
  {
   "cell_type": "code",
   "execution_count": null,
   "metadata": {},
   "outputs": [],
   "source": [
    "df.groupby([\"ScreenPorch_R\"]).size()"
   ]
  },
  {
   "cell_type": "code",
   "execution_count": null,
   "metadata": {},
   "outputs": [],
   "source": [
    "len(df_corr.columns)"
   ]
  },
  {
   "cell_type": "code",
   "execution_count": null,
   "metadata": {},
   "outputs": [],
   "source": [
    "from sklearn.preprocessing import minmax_scale\n",
    "\n",
    "df['col_name']= minmax_scale(df['col_name'], axis=0, copy=True)"
   ]
  },
  {
   "cell_type": "markdown",
   "metadata": {},
   "source": [
    "### 2. Chi sq Test - categorical features "
   ]
  },
  {
   "cell_type": "code",
   "execution_count": 365,
   "metadata": {},
   "outputs": [],
   "source": [
    "import pandas as pd\n",
    "import numpy as np\n",
    "import scipy.stats as stats\n",
    "from scipy.stats import chi2_contingency\n",
    "\n",
    "def categorical_col(data):\n",
    "    cat_col=[]\n",
    "    coln = data.columns\n",
    "    for col in coln :\n",
    "        if len(data[col].value_counts()) <26 :\n",
    "            cat_col.append(col)\n",
    "    return cat_col\n",
    "\n",
    "def ChiSquare(data, colY):\n",
    "    cat_col=[]\n",
    "    result = []\n",
    "    \n",
    "    coln = data.columns\n",
    "    for col in coln :\n",
    "        if len(data[col].value_counts()) <26 :\n",
    "            cat_col.append(col)\n",
    "    result = []\n",
    "    \n",
    "    for colX in cat_col:\n",
    "        X = data[colX].astype(str)\n",
    "        Y = data[colY].astype(str)\n",
    "        dfObserved = pd.crosstab(Y,X) \n",
    "        chi2, p, dof, expected = stats.chi2_contingency(dfObserved.values)\n",
    "        dfExpected = pd.DataFrame(expected, columns=dfObserved.columns, index = dfObserved.index)\n",
    "        \n",
    "        if p<0.05:\n",
    "            result.append(colX)\n",
    "        \n",
    "    return result\n"
   ]
  },
  {
   "cell_type": "code",
   "execution_count": 366,
   "metadata": {},
   "outputs": [],
   "source": [
    "# list of features which were important \n",
    "\n",
    "chi_result_features = ChiSquare(train, \"SalePrice\")\n",
    "df_corr_features = df_corr.columns\n",
    "\n",
    "f_features = set(chi_result_features).union(set(df_corr_features))\n",
    "f_features = list(f_features)\n",
    "f_features.remove('SalePrice')"
   ]
  },
  {
   "cell_type": "code",
   "execution_count": 367,
   "metadata": {},
   "outputs": [],
   "source": [
    "df_corr = df_corr[list(f_features)]"
   ]
  },
  {
   "cell_type": "markdown",
   "metadata": {},
   "source": [
    "### Spearman Rank Corr"
   ]
  },
  {
   "cell_type": "code",
   "execution_count": null,
   "metadata": {},
   "outputs": [],
   "source": [
    "from scipy.stats import spearmanr\n",
    "def spearman(data, colY):\n",
    "    Columns =  df_corr.describe().columns\n",
    "    for col in Columns :\n",
    "        corr, p_value = spearmanr(data[col], data[colY])\n",
    "        print (print(\" {} : corr {}, p_value {} \\n\".format(col, corr,p_value)))"
   ]
  },
  {
   "cell_type": "markdown",
   "metadata": {},
   "source": [
    "### 3. Remove low variance features"
   ]
  },
  {
   "cell_type": "code",
   "execution_count": null,
   "metadata": {},
   "outputs": [],
   "source": [
    "#variance_ = dict(zip(df_corr.columns, np.var(df_corr, 0)))\n",
    "#sorted(variance_.items(), key=lambda x: x[1])"
   ]
  },
  {
   "cell_type": "code",
   "execution_count": null,
   "metadata": {},
   "outputs": [],
   "source": [
    "#df_low_var=df.drop(['YearRemodAdd','RoofStyle','MasVnrArea','MasVnrType','Foundation','Exterior2nd', 'ExterCond','Exterior1st'], axis=1)\n",
    "#df_low_var.shape"
   ]
  },
  {
   "cell_type": "code",
   "execution_count": 371,
   "metadata": {
    "scrolled": false
   },
   "outputs": [],
   "source": [
    "def make_dummies(data):\n",
    "    cat_col=[]\n",
    "    coln = data.columns\n",
    "    for col in coln :\n",
    "        if len(data[col].value_counts()) <26 :\n",
    "            cat_col.append(col)\n",
    "    return pd.get_dummies(data, columns=cat_col, drop_first=True)"
   ]
  },
  {
   "cell_type": "code",
   "execution_count": 372,
   "metadata": {},
   "outputs": [
    {
     "data": {
      "text/plain": [
       "(2919, 311)"
      ]
     },
     "execution_count": 372,
     "metadata": {},
     "output_type": "execute_result"
    }
   ],
   "source": [
    "df1 = make_dummies(df_corr)\n",
    "df1.shape"
   ]
  },
  {
   "cell_type": "code",
   "execution_count": 373,
   "metadata": {
    "scrolled": true
   },
   "outputs": [
    {
     "data": {
      "text/html": [
       "<div>\n",
       "<style scoped>\n",
       "    .dataframe tbody tr th:only-of-type {\n",
       "        vertical-align: middle;\n",
       "    }\n",
       "\n",
       "    .dataframe tbody tr th {\n",
       "        vertical-align: top;\n",
       "    }\n",
       "\n",
       "    .dataframe thead th {\n",
       "        text-align: right;\n",
       "    }\n",
       "</style>\n",
       "<table border=\"1\" class=\"dataframe\">\n",
       "  <thead>\n",
       "    <tr style=\"text-align: right;\">\n",
       "      <th></th>\n",
       "      <th>EnclosedPorch</th>\n",
       "      <th>ScreenPorch</th>\n",
       "      <th>OpenPorchSF</th>\n",
       "      <th>BsmtFinSF1</th>\n",
       "      <th>GarageArea</th>\n",
       "      <th>BsmtUnfSF</th>\n",
       "      <th>WoodDeckSF</th>\n",
       "      <th>LotArea</th>\n",
       "      <th>MasVnrArea</th>\n",
       "      <th>GrLivArea</th>\n",
       "      <th>...</th>\n",
       "      <th>SaleType_ConLD</th>\n",
       "      <th>SaleType_ConLI</th>\n",
       "      <th>SaleType_ConLw</th>\n",
       "      <th>SaleType_New</th>\n",
       "      <th>SaleType_Oth</th>\n",
       "      <th>SaleType_WD</th>\n",
       "      <th>FullBath_1</th>\n",
       "      <th>FullBath_2</th>\n",
       "      <th>FullBath_3</th>\n",
       "      <th>FullBath_4</th>\n",
       "    </tr>\n",
       "    <tr>\n",
       "      <th>Id</th>\n",
       "      <th></th>\n",
       "      <th></th>\n",
       "      <th></th>\n",
       "      <th></th>\n",
       "      <th></th>\n",
       "      <th></th>\n",
       "      <th></th>\n",
       "      <th></th>\n",
       "      <th></th>\n",
       "      <th></th>\n",
       "      <th></th>\n",
       "      <th></th>\n",
       "      <th></th>\n",
       "      <th></th>\n",
       "      <th></th>\n",
       "      <th></th>\n",
       "      <th></th>\n",
       "      <th></th>\n",
       "      <th></th>\n",
       "      <th></th>\n",
       "      <th></th>\n",
       "    </tr>\n",
       "  </thead>\n",
       "  <tbody>\n",
       "    <tr>\n",
       "      <th>1</th>\n",
       "      <td>0.000000</td>\n",
       "      <td>0.0</td>\n",
       "      <td>4.127134</td>\n",
       "      <td>6.561031</td>\n",
       "      <td>6.308098</td>\n",
       "      <td>5.017280</td>\n",
       "      <td>0.000000</td>\n",
       "      <td>9.042040</td>\n",
       "      <td>5.283204</td>\n",
       "      <td>7.444833</td>\n",
       "      <td>...</td>\n",
       "      <td>0</td>\n",
       "      <td>0</td>\n",
       "      <td>0</td>\n",
       "      <td>0</td>\n",
       "      <td>0</td>\n",
       "      <td>1</td>\n",
       "      <td>0</td>\n",
       "      <td>1</td>\n",
       "      <td>0</td>\n",
       "      <td>0</td>\n",
       "    </tr>\n",
       "    <tr>\n",
       "      <th>2</th>\n",
       "      <td>0.000000</td>\n",
       "      <td>0.0</td>\n",
       "      <td>0.000000</td>\n",
       "      <td>6.886532</td>\n",
       "      <td>6.133398</td>\n",
       "      <td>5.652489</td>\n",
       "      <td>5.700444</td>\n",
       "      <td>9.169623</td>\n",
       "      <td>0.000000</td>\n",
       "      <td>7.141245</td>\n",
       "      <td>...</td>\n",
       "      <td>0</td>\n",
       "      <td>0</td>\n",
       "      <td>0</td>\n",
       "      <td>0</td>\n",
       "      <td>0</td>\n",
       "      <td>1</td>\n",
       "      <td>0</td>\n",
       "      <td>1</td>\n",
       "      <td>0</td>\n",
       "      <td>0</td>\n",
       "    </tr>\n",
       "    <tr>\n",
       "      <th>3</th>\n",
       "      <td>0.000000</td>\n",
       "      <td>0.0</td>\n",
       "      <td>3.761200</td>\n",
       "      <td>6.188264</td>\n",
       "      <td>6.411818</td>\n",
       "      <td>6.075346</td>\n",
       "      <td>0.000000</td>\n",
       "      <td>9.328212</td>\n",
       "      <td>5.093750</td>\n",
       "      <td>7.488294</td>\n",
       "      <td>...</td>\n",
       "      <td>0</td>\n",
       "      <td>0</td>\n",
       "      <td>0</td>\n",
       "      <td>0</td>\n",
       "      <td>0</td>\n",
       "      <td>1</td>\n",
       "      <td>0</td>\n",
       "      <td>1</td>\n",
       "      <td>0</td>\n",
       "      <td>0</td>\n",
       "    </tr>\n",
       "    <tr>\n",
       "      <th>4</th>\n",
       "      <td>5.609472</td>\n",
       "      <td>0.0</td>\n",
       "      <td>3.583519</td>\n",
       "      <td>5.379897</td>\n",
       "      <td>6.466145</td>\n",
       "      <td>6.293419</td>\n",
       "      <td>0.000000</td>\n",
       "      <td>9.164401</td>\n",
       "      <td>0.000000</td>\n",
       "      <td>7.448916</td>\n",
       "      <td>...</td>\n",
       "      <td>0</td>\n",
       "      <td>0</td>\n",
       "      <td>0</td>\n",
       "      <td>0</td>\n",
       "      <td>0</td>\n",
       "      <td>1</td>\n",
       "      <td>1</td>\n",
       "      <td>0</td>\n",
       "      <td>0</td>\n",
       "      <td>0</td>\n",
       "    </tr>\n",
       "    <tr>\n",
       "      <th>5</th>\n",
       "      <td>0.000000</td>\n",
       "      <td>0.0</td>\n",
       "      <td>4.442651</td>\n",
       "      <td>6.486161</td>\n",
       "      <td>6.729824</td>\n",
       "      <td>6.196444</td>\n",
       "      <td>5.262690</td>\n",
       "      <td>9.565284</td>\n",
       "      <td>5.860786</td>\n",
       "      <td>7.695758</td>\n",
       "      <td>...</td>\n",
       "      <td>0</td>\n",
       "      <td>0</td>\n",
       "      <td>0</td>\n",
       "      <td>0</td>\n",
       "      <td>0</td>\n",
       "      <td>1</td>\n",
       "      <td>0</td>\n",
       "      <td>1</td>\n",
       "      <td>0</td>\n",
       "      <td>0</td>\n",
       "    </tr>\n",
       "  </tbody>\n",
       "</table>\n",
       "<p>5 rows × 311 columns</p>\n",
       "</div>"
      ],
      "text/plain": [
       "    EnclosedPorch  ScreenPorch  OpenPorchSF  BsmtFinSF1  GarageArea  \\\n",
       "Id                                                                    \n",
       "1        0.000000          0.0     4.127134    6.561031    6.308098   \n",
       "2        0.000000          0.0     0.000000    6.886532    6.133398   \n",
       "3        0.000000          0.0     3.761200    6.188264    6.411818   \n",
       "4        5.609472          0.0     3.583519    5.379897    6.466145   \n",
       "5        0.000000          0.0     4.442651    6.486161    6.729824   \n",
       "\n",
       "    BsmtUnfSF  WoodDeckSF   LotArea  MasVnrArea  GrLivArea     ...      \\\n",
       "Id                                                             ...       \n",
       "1    5.017280    0.000000  9.042040    5.283204   7.444833     ...       \n",
       "2    5.652489    5.700444  9.169623    0.000000   7.141245     ...       \n",
       "3    6.075346    0.000000  9.328212    5.093750   7.488294     ...       \n",
       "4    6.293419    0.000000  9.164401    0.000000   7.448916     ...       \n",
       "5    6.196444    5.262690  9.565284    5.860786   7.695758     ...       \n",
       "\n",
       "    SaleType_ConLD  SaleType_ConLI  SaleType_ConLw  SaleType_New  \\\n",
       "Id                                                                 \n",
       "1                0               0               0             0   \n",
       "2                0               0               0             0   \n",
       "3                0               0               0             0   \n",
       "4                0               0               0             0   \n",
       "5                0               0               0             0   \n",
       "\n",
       "    SaleType_Oth  SaleType_WD  FullBath_1  FullBath_2  FullBath_3  FullBath_4  \n",
       "Id                                                                             \n",
       "1              0            1           0           1           0           0  \n",
       "2              0            1           0           1           0           0  \n",
       "3              0            1           0           1           0           0  \n",
       "4              0            1           1           0           0           0  \n",
       "5              0            1           0           1           0           0  \n",
       "\n",
       "[5 rows x 311 columns]"
      ]
     },
     "execution_count": 373,
     "metadata": {},
     "output_type": "execute_result"
    }
   ],
   "source": [
    "df1.head()"
   ]
  },
  {
   "cell_type": "markdown",
   "metadata": {},
   "source": [
    "### Model validation"
   ]
  },
  {
   "cell_type": "code",
   "execution_count": 374,
   "metadata": {},
   "outputs": [],
   "source": [
    "y= np.log1p(train_raw[\"SalePrice\"])"
   ]
  },
  {
   "cell_type": "code",
   "execution_count": 375,
   "metadata": {},
   "outputs": [],
   "source": [
    "## Split data in 2 \n",
    "X_train, test = np.split(df1,[1460])"
   ]
  },
  {
   "cell_type": "code",
   "execution_count": 376,
   "metadata": {},
   "outputs": [
    {
     "data": {
      "text/plain": [
       "(1459, 311)"
      ]
     },
     "execution_count": 376,
     "metadata": {},
     "output_type": "execute_result"
    }
   ],
   "source": [
    "test.shape"
   ]
  },
  {
   "cell_type": "code",
   "execution_count": 377,
   "metadata": {},
   "outputs": [],
   "source": [
    "X = X_train.values\n",
    "y_train = y.values"
   ]
  },
  {
   "cell_type": "code",
   "execution_count": 378,
   "metadata": {},
   "outputs": [
    {
     "data": {
      "text/plain": [
       "array([12.24769912, 12.10901644, 12.31717117, ..., 12.49313327,\n",
       "       11.86446927, 11.90159023])"
      ]
     },
     "execution_count": 378,
     "metadata": {},
     "output_type": "execute_result"
    }
   ],
   "source": [
    "y_train"
   ]
  },
  {
   "cell_type": "code",
   "execution_count": 379,
   "metadata": {
    "scrolled": true
   },
   "outputs": [],
   "source": [
    "from sklearn.model_selection import KFold, cross_val_score, train_test_split\n",
    "from sklearn.metrics import mean_squared_error\n",
    "from sklearn import linear_model\n",
    "lm = linear_model.LinearRegression()\n",
    "ridge = linear_model.Ridge(alpha=1)\n",
    "lasso = linear_model.Lasso(alpha = 0.0005)\n",
    "ENet = linear_model.ElasticNet(alpha = 1, l1_ratio = 0.5)\n",
    "from sklearn.linear_model import ElasticNet, Lasso,  BayesianRidge, LassoLarsIC\n",
    "\n",
    "from sklearn.ensemble import RandomForestRegressor,  GradientBoostingRegressor\n",
    "from sklearn.kernel_ridge import KernelRidge\n",
    "from sklearn.pipeline import make_pipeline\n",
    "from sklearn.preprocessing import RobustScaler\n",
    "from sklearn.base import BaseEstimator, TransformerMixin, RegressorMixin, clone\n",
    "from sklearn.model_selection import KFold, cross_val_score, train_test_split\n",
    "from sklearn.metrics import mean_squared_error\n",
    "from sklearn.svm import SVR\n",
    "from sklearn.datasets import make_regression\n",
    "from sklearn.model_selection import GridSearchCV"
   ]
  },
  {
   "cell_type": "code",
   "execution_count": 380,
   "metadata": {},
   "outputs": [],
   "source": [
    "#Validation function\n",
    "n_folds = 10\n",
    "\n",
    "def rmsle_cv(model):\n",
    "    kf = KFold(n_folds, shuffle=True, random_state=42).get_n_splits(X_train.values)\n",
    "    rmse= np.sqrt(-cross_val_score(model, X_train, y_train, scoring=\"neg_mean_squared_error\", cv = kf))\n",
    "    return(rmse)"
   ]
  },
  {
   "cell_type": "code",
   "execution_count": 381,
   "metadata": {},
   "outputs": [],
   "source": [
    "#define a rmsle evaluation function\n",
    "\n",
    "def rmsle(y, y_pred): \n",
    "    return np.sqrt(mean_squared_error(y, y_pred))"
   ]
  },
  {
   "cell_type": "markdown",
   "metadata": {},
   "source": [
    "#### linear_regression"
   ]
  },
  {
   "cell_type": "code",
   "execution_count": 382,
   "metadata": {},
   "outputs": [
    {
     "name": "stdout",
     "output_type": "stream",
     "text": [
      "0.10537351079937367\n"
     ]
    },
    {
     "name": "stderr",
     "output_type": "stream",
     "text": [
      "C:\\Users\\Soo\\Anaconda3\\lib\\site-packages\\ipykernel_launcher.py:3: RuntimeWarning: overflow encountered in expm1\n",
      "  This is separate from the ipykernel package so we can avoid doing imports until\n"
     ]
    }
   ],
   "source": [
    "lm.fit(X_train, y_train)\n",
    "lm_train_pr = lm.predict(X_train)\n",
    "lm_test_pr = np.expm1(lm.predict(test.values))\n",
    "print(rmsle(y_train, lm_train_pr))"
   ]
  },
  {
   "cell_type": "code",
   "execution_count": 383,
   "metadata": {},
   "outputs": [
    {
     "name": "stdout",
     "output_type": "stream",
     "text": [
      "\n",
      "Lm score: 8702911044.9508 (10043089948.3357)\n",
      "\n"
     ]
    }
   ],
   "source": [
    "score = rmsle_cv(lm)\n",
    "print(\"\\nLm score: {:.4f} ({:.4f})\\n\".format(score.mean(), score.std()))"
   ]
  },
  {
   "cell_type": "code",
   "execution_count": 384,
   "metadata": {},
   "outputs": [
    {
     "name": "stdout",
     "output_type": "stream",
     "text": [
      "0.11167431944665636\n"
     ]
    }
   ],
   "source": [
    "lasso.fit(X_train, y_train)\n",
    "lasso_train_pr = lasso.predict(X_train)\n",
    "lasso_test_pr = np.expm1(lasso.predict(test.values))\n",
    "print(rmsle(y_train, lasso_train_pr))"
   ]
  },
  {
   "cell_type": "code",
   "execution_count": 385,
   "metadata": {},
   "outputs": [
    {
     "name": "stdout",
     "output_type": "stream",
     "text": [
      "\n",
      "lasso score: 0.1257 (0.0188)\n",
      "\n"
     ]
    }
   ],
   "source": [
    "score = rmsle_cv(lasso)\n",
    "print(\"\\nlasso score: {:.4f} ({:.4f})\\n\".format(score.mean(), score.std()))"
   ]
  },
  {
   "cell_type": "code",
   "execution_count": 386,
   "metadata": {},
   "outputs": [
    {
     "name": "stdout",
     "output_type": "stream",
     "text": [
      "0.09950408279874215\n"
     ]
    }
   ],
   "source": [
    "ridge.fit(X_train, y_train)\n",
    "ridge_train_pr = ridge.predict(X_train)\n",
    "ridge_test_pr = np.expm1(ridge.predict(test.values))\n",
    "print(rmsle(y_train, ridge_train_pr))"
   ]
  },
  {
   "cell_type": "code",
   "execution_count": 387,
   "metadata": {},
   "outputs": [
    {
     "name": "stdout",
     "output_type": "stream",
     "text": [
      "\n",
      "ridge score: 0.1297 (0.0202)\n",
      "\n"
     ]
    }
   ],
   "source": [
    "score = rmsle_cv(ridge)\n",
    "print(\"\\nridge score: {:.4f} ({:.4f})\\n\".format(score.mean(), score.std()))"
   ]
  },
  {
   "cell_type": "code",
   "execution_count": 388,
   "metadata": {},
   "outputs": [],
   "source": [
    "EN = make_pipeline(RobustScaler(), ElasticNet(alpha=0.0005, l1_ratio=.9, random_state=3))"
   ]
  },
  {
   "cell_type": "code",
   "execution_count": 389,
   "metadata": {},
   "outputs": [
    {
     "name": "stdout",
     "output_type": "stream",
     "text": [
      "0.11009600761443682\n"
     ]
    }
   ],
   "source": [
    "EN.fit(X_train,y_train)\n",
    "ENet_train_pred = EN.predict(X_train)\n",
    "ENet_pred = np.expm1(EN.predict(test.values))\n",
    "print(rmsle(y_train, ENet_train_pred))"
   ]
  },
  {
   "cell_type": "code",
   "execution_count": 390,
   "metadata": {},
   "outputs": [
    {
     "name": "stdout",
     "output_type": "stream",
     "text": [
      "ElasticNet score: 0.1254 (0.0197)\n",
      "\n"
     ]
    }
   ],
   "source": [
    "score = rmsle_cv(EN)\n",
    "print(\"ElasticNet score: {:.4f} ({:.4f})\\n\".format(score.mean(), score.std()))"
   ]
  },
  {
   "cell_type": "code",
   "execution_count": 391,
   "metadata": {},
   "outputs": [],
   "source": [
    "GBoost = GradientBoostingRegressor(n_estimators=3000, learning_rate=0.05,\n",
    "                                   max_depth=4, max_features='sqrt',\n",
    "                                   min_samples_leaf=15, min_samples_split=10, \n",
    "                                   loss='huber', random_state =5)"
   ]
  },
  {
   "cell_type": "code",
   "execution_count": 392,
   "metadata": {},
   "outputs": [
    {
     "name": "stdout",
     "output_type": "stream",
     "text": [
      "GBoost score: 0.1235 (0.0184)\n",
      "\n"
     ]
    }
   ],
   "source": [
    "score = rmsle_cv(GBoost)\n",
    "print(\"GBoost score: {:.4f} ({:.4f})\\n\".format(score.mean(), score.std()))"
   ]
  },
  {
   "cell_type": "code",
   "execution_count": 314,
   "metadata": {},
   "outputs": [
    {
     "name": "stdout",
     "output_type": "stream",
     "text": [
      "0.05955167132719791\n"
     ]
    }
   ],
   "source": [
    "GBoost.fit(X_train,y_train)\n",
    "GBoost_train_pred = GBoost.predict(X_train)\n",
    "GBoost_pred = np.expm1(GBoost.predict(test.values))\n",
    "print(rmsle(y_train, GBoost_train_pred))"
   ]
  },
  {
   "cell_type": "code",
   "execution_count": 329,
   "metadata": {},
   "outputs": [
    {
     "ename": "ModuleNotFoundError",
     "evalue": "No module named 'xgboost'",
     "output_type": "error",
     "traceback": [
      "\u001b[1;31m---------------------------------------------------------------------------\u001b[0m",
      "\u001b[1;31mModuleNotFoundError\u001b[0m                       Traceback (most recent call last)",
      "\u001b[1;32m<ipython-input-329-2c02f0670723>\u001b[0m in \u001b[0;36m<module>\u001b[1;34m\u001b[0m\n\u001b[1;32m----> 1\u001b[1;33m \u001b[1;32mfrom\u001b[0m \u001b[0mxgboost\u001b[0m \u001b[1;32mimport\u001b[0m \u001b[0mXGBRegressor\u001b[0m\u001b[1;33m\u001b[0m\u001b[1;33m\u001b[0m\u001b[0m\n\u001b[0m",
      "\u001b[1;31mModuleNotFoundError\u001b[0m: No module named 'xgboost'"
     ]
    }
   ],
   "source": [
    "from xgboost import XGBRegressor"
   ]
  },
  {
   "cell_type": "markdown",
   "metadata": {},
   "source": [
    "## Random forest"
   ]
  },
  {
   "cell_type": "markdown",
   "metadata": {},
   "source": [
    "#### 1. Grid Search"
   ]
  },
  {
   "cell_type": "code",
   "execution_count": 338,
   "metadata": {},
   "outputs": [],
   "source": [
    "randomForest =RandomForestRegressor()"
   ]
  },
  {
   "cell_type": "code",
   "execution_count": 339,
   "metadata": {},
   "outputs": [
    {
     "ename": "JoblibValueError",
     "evalue": "JoblibValueError\n___________________________________________________________________________\nMultiprocessing exception:\n...........................................................................\nC:\\Users\\Soo\\Anaconda3\\lib\\runpy.py in _run_module_as_main(mod_name='ipykernel_launcher', alter_argv=1)\n    188         sys.exit(msg)\n    189     main_globals = sys.modules[\"__main__\"].__dict__\n    190     if alter_argv:\n    191         sys.argv[0] = mod_spec.origin\n    192     return _run_code(code, main_globals, None,\n--> 193                      \"__main__\", mod_spec)\n        mod_spec = ModuleSpec(name='ipykernel_launcher', loader=<_f...nda3\\\\lib\\\\site-packages\\\\ipykernel_launcher.py')\n    194 \n    195 def run_module(mod_name, init_globals=None,\n    196                run_name=None, alter_sys=False):\n    197     \"\"\"Execute a module's code without importing it\n\n...........................................................................\nC:\\Users\\Soo\\Anaconda3\\lib\\runpy.py in _run_code(code=<code object <module> at 0x000001A8BD781300, fil...lib\\site-packages\\ipykernel_launcher.py\", line 5>, run_globals={'__annotations__': {}, '__builtins__': <module 'builtins' (built-in)>, '__cached__': r'C:\\Users\\Soo\\Anaconda3\\lib\\site-packages\\__pycache__\\ipykernel_launcher.cpython-37.pyc', '__doc__': 'Entry point for launching an IPython kernel.\\n\\nTh...orts until\\nafter removing the cwd from sys.path.\\n', '__file__': r'C:\\Users\\Soo\\Anaconda3\\lib\\site-packages\\ipykernel_launcher.py', '__loader__': <_frozen_importlib_external.SourceFileLoader object>, '__name__': '__main__', '__package__': '', '__spec__': ModuleSpec(name='ipykernel_launcher', loader=<_f...nda3\\\\lib\\\\site-packages\\\\ipykernel_launcher.py'), 'app': <module 'ipykernel.kernelapp' from 'C:\\\\Users\\\\S...a3\\\\lib\\\\site-packages\\\\ipykernel\\\\kernelapp.py'>, ...}, init_globals=None, mod_name='__main__', mod_spec=ModuleSpec(name='ipykernel_launcher', loader=<_f...nda3\\\\lib\\\\site-packages\\\\ipykernel_launcher.py'), pkg_name='', script_name=None)\n     80                        __cached__ = cached,\n     81                        __doc__ = None,\n     82                        __loader__ = loader,\n     83                        __package__ = pkg_name,\n     84                        __spec__ = mod_spec)\n---> 85     exec(code, run_globals)\n        code = <code object <module> at 0x000001A8BD781300, fil...lib\\site-packages\\ipykernel_launcher.py\", line 5>\n        run_globals = {'__annotations__': {}, '__builtins__': <module 'builtins' (built-in)>, '__cached__': r'C:\\Users\\Soo\\Anaconda3\\lib\\site-packages\\__pycache__\\ipykernel_launcher.cpython-37.pyc', '__doc__': 'Entry point for launching an IPython kernel.\\n\\nTh...orts until\\nafter removing the cwd from sys.path.\\n', '__file__': r'C:\\Users\\Soo\\Anaconda3\\lib\\site-packages\\ipykernel_launcher.py', '__loader__': <_frozen_importlib_external.SourceFileLoader object>, '__name__': '__main__', '__package__': '', '__spec__': ModuleSpec(name='ipykernel_launcher', loader=<_f...nda3\\\\lib\\\\site-packages\\\\ipykernel_launcher.py'), 'app': <module 'ipykernel.kernelapp' from 'C:\\\\Users\\\\S...a3\\\\lib\\\\site-packages\\\\ipykernel\\\\kernelapp.py'>, ...}\n     86     return run_globals\n     87 \n     88 def _run_module_code(code, init_globals=None,\n     89                     mod_name=None, mod_spec=None,\n\n...........................................................................\nC:\\Users\\Soo\\Anaconda3\\lib\\site-packages\\ipykernel_launcher.py in <module>()\n     11     # This is added back by InteractiveShellApp.init_path()\n     12     if sys.path[0] == '':\n     13         del sys.path[0]\n     14 \n     15     from ipykernel import kernelapp as app\n---> 16     app.launch_new_instance()\n\n...........................................................................\nC:\\Users\\Soo\\Anaconda3\\lib\\site-packages\\traitlets\\config\\application.py in launch_instance(cls=<class 'ipykernel.kernelapp.IPKernelApp'>, argv=None, **kwargs={})\n    653 \n    654         If a global instance already exists, this reinitializes and starts it\n    655         \"\"\"\n    656         app = cls.instance(**kwargs)\n    657         app.initialize(argv)\n--> 658         app.start()\n        app.start = <bound method IPKernelApp.start of <ipykernel.kernelapp.IPKernelApp object>>\n    659 \n    660 #-----------------------------------------------------------------------------\n    661 # utility functions, for convenience\n    662 #-----------------------------------------------------------------------------\n\n...........................................................................\nC:\\Users\\Soo\\Anaconda3\\lib\\site-packages\\ipykernel\\kernelapp.py in start(self=<ipykernel.kernelapp.IPKernelApp object>)\n    500         if self.poller is not None:\n    501             self.poller.start()\n    502         self.kernel.start()\n    503         self.io_loop = ioloop.IOLoop.current()\n    504         try:\n--> 505             self.io_loop.start()\n        self.io_loop.start = <bound method BaseAsyncIOLoop.start of <tornado.platform.asyncio.AsyncIOMainLoop object>>\n    506         except KeyboardInterrupt:\n    507             pass\n    508 \n    509 launch_new_instance = IPKernelApp.launch_instance\n\n...........................................................................\nC:\\Users\\Soo\\Anaconda3\\lib\\site-packages\\tornado\\platform\\asyncio.py in start(self=<tornado.platform.asyncio.AsyncIOMainLoop object>)\n    127         except (RuntimeError, AssertionError):\n    128             old_loop = None\n    129         try:\n    130             self._setup_logging()\n    131             asyncio.set_event_loop(self.asyncio_loop)\n--> 132             self.asyncio_loop.run_forever()\n        self.asyncio_loop.run_forever = <bound method BaseEventLoop.run_forever of <_Win...EventLoop running=True closed=False debug=False>>\n    133         finally:\n    134             asyncio.set_event_loop(old_loop)\n    135 \n    136     def stop(self):\n\n...........................................................................\nC:\\Users\\Soo\\Anaconda3\\lib\\asyncio\\base_events.py in run_forever(self=<_WindowsSelectorEventLoop running=True closed=False debug=False>)\n    534         sys.set_asyncgen_hooks(firstiter=self._asyncgen_firstiter_hook,\n    535                                finalizer=self._asyncgen_finalizer_hook)\n    536         try:\n    537             events._set_running_loop(self)\n    538             while True:\n--> 539                 self._run_once()\n        self._run_once = <bound method BaseEventLoop._run_once of <_Windo...EventLoop running=True closed=False debug=False>>\n    540                 if self._stopping:\n    541                     break\n    542         finally:\n    543             self._stopping = False\n\n...........................................................................\nC:\\Users\\Soo\\Anaconda3\\lib\\asyncio\\base_events.py in _run_once(self=<_WindowsSelectorEventLoop running=True closed=False debug=False>)\n   1770                         logger.warning('Executing %s took %.3f seconds',\n   1771                                        _format_handle(handle), dt)\n   1772                 finally:\n   1773                     self._current_handle = None\n   1774             else:\n-> 1775                 handle._run()\n        handle._run = <bound method Handle._run of <Handle IOLoop._run_callback(functools.par...328>, ...]))>))>>\n   1776         handle = None  # Needed to break cycles when an exception occurs.\n   1777 \n   1778     def _set_coroutine_origin_tracking(self, enabled):\n   1779         if bool(enabled) == bool(self._coroutine_origin_tracking_enabled):\n\n...........................................................................\nC:\\Users\\Soo\\Anaconda3\\lib\\asyncio\\events.py in _run(self=<Handle IOLoop._run_callback(functools.par...328>, ...]))>))>)\n     83     def cancelled(self):\n     84         return self._cancelled\n     85 \n     86     def _run(self):\n     87         try:\n---> 88             self._context.run(self._callback, *self._args)\n        self._context.run = <built-in method run of Context object>\n        self._callback = <bound method IOLoop._run_callback of <tornado.platform.asyncio.AsyncIOMainLoop object>>\n        self._args = (functools.partial(<function wrap.<locals>.null_w...BA0270>, <zmq.sugar.fr...001A8BFBA0328>, ...]))>),)\n     89         except Exception as exc:\n     90             cb = format_helpers._format_callback_source(\n     91                 self._callback, self._args)\n     92             msg = f'Exception in callback {cb}'\n\n...........................................................................\nC:\\Users\\Soo\\Anaconda3\\lib\\site-packages\\tornado\\ioloop.py in _run_callback(self=<tornado.platform.asyncio.AsyncIOMainLoop object>, callback=functools.partial(<function wrap.<locals>.null_w...BA0270>, <zmq.sugar.fr...001A8BFBA0328>, ...]))>))\n    753         \"\"\"Runs a callback with error handling.\n    754 \n    755         For use in subclasses.\n    756         \"\"\"\n    757         try:\n--> 758             ret = callback()\n        ret = undefined\n        callback = functools.partial(<function wrap.<locals>.null_w...BA0270>, <zmq.sugar.fr...001A8BFBA0328>, ...]))>)\n    759             if ret is not None:\n    760                 from tornado import gen\n    761                 # Functions that return Futures typically swallow all\n    762                 # exceptions and store them in the Future.  If a Future\n\n...........................................................................\nC:\\Users\\Soo\\Anaconda3\\lib\\site-packages\\tornado\\stack_context.py in null_wrapper(*args=(<Future finished result=(10, 363, <bound method....FBA0270>, <zmq.sugar.fr...001A8BFBA0328>, ...]))>,), **kwargs={})\n    295         # Fast path when there are no active contexts.\n    296         def null_wrapper(*args, **kwargs):\n    297             try:\n    298                 current_state = _state.contexts\n    299                 _state.contexts = cap_contexts[0]\n--> 300                 return fn(*args, **kwargs)\n        args = (<Future finished result=(10, 363, <bound method....FBA0270>, <zmq.sugar.fr...001A8BFBA0328>, ...]))>,)\n        kwargs = {}\n    301             finally:\n    302                 _state.contexts = current_state\n    303         null_wrapper._wrapped = True\n    304         return null_wrapper\n\n...........................................................................\nC:\\Users\\Soo\\Anaconda3\\lib\\site-packages\\tornado\\gen.py in inner(f=None)\n   1228             return False\n   1229         elif not self.future.done():\n   1230             def inner(f):\n   1231                 # Break a reference cycle to speed GC.\n   1232                 f = None  # noqa\n-> 1233                 self.run()\n   1234             self.io_loop.add_future(\n   1235                 self.future, inner)\n   1236             return False\n   1237         return True\n\n...........................................................................\nC:\\Users\\Soo\\Anaconda3\\lib\\site-packages\\tornado\\gen.py in run(self=<tornado.gen.Runner object>)\n   1142                         finally:\n   1143                             # Break up a reference to itself\n   1144                             # for faster GC on CPython.\n   1145                             exc_info = None\n   1146                     else:\n-> 1147                         yielded = self.gen.send(value)\n        yielded = undefined\n        self.gen.send = <built-in method send of generator object>\n        value = (10, 363, <bound method Kernel.dispatch_shell of <ipykernel.ipkernel.IPythonKernel object>>, (<zmq.eventloop.zmqstream.ZMQStream object>, [<zmq.sugar.frame.Frame object>, <zmq.sugar.frame.Frame object>, <zmq.sugar.frame.Frame object>, <zmq.sugar.frame.Frame object>, <zmq.sugar.frame.Frame object>, <zmq.sugar.frame.Frame object>, <zmq.sugar.frame.Frame object>]))\n   1148 \n   1149                     if stack_context._state.contexts is not orig_stack_contexts:\n   1150                         self.gen.throw(\n   1151                             stack_context.StackContextInconsistentError(\n\n...........................................................................\nC:\\Users\\Soo\\Anaconda3\\lib\\site-packages\\ipykernel\\kernelbase.py in process_one(self=<ipykernel.ipkernel.IPythonKernel object>, wait=True)\n    352         else:\n    353             try:\n    354                 priority, t, dispatch, args = self.msg_queue.get_nowait()\n    355             except QueueEmpty:\n    356                 return None\n--> 357         yield gen.maybe_future(dispatch(*args))\n        dispatch = <bound method Kernel.dispatch_shell of <ipykernel.ipkernel.IPythonKernel object>>\n        args = (<zmq.eventloop.zmqstream.ZMQStream object>, [<zmq.sugar.frame.Frame object>, <zmq.sugar.frame.Frame object>, <zmq.sugar.frame.Frame object>, <zmq.sugar.frame.Frame object>, <zmq.sugar.frame.Frame object>, <zmq.sugar.frame.Frame object>, <zmq.sugar.frame.Frame object>])\n    358 \n    359     @gen.coroutine\n    360     def dispatch_queue(self):\n    361         \"\"\"Coroutine to preserve order of message handling\n\n...........................................................................\nC:\\Users\\Soo\\Anaconda3\\lib\\site-packages\\tornado\\gen.py in wrapper(*args=(<ipykernel.ipkernel.IPythonKernel object>, <zmq.eventloop.zmqstream.ZMQStream object>, [<zmq.sugar.frame.Frame object>, <zmq.sugar.frame.Frame object>, <zmq.sugar.frame.Frame object>, <zmq.sugar.frame.Frame object>, <zmq.sugar.frame.Frame object>, <zmq.sugar.frame.Frame object>, <zmq.sugar.frame.Frame object>]), **kwargs={})\n    321                 # never actually yields, which in turn allows us to\n    322                 # use \"optional\" coroutines in critical path code without\n    323                 # performance penalty for the synchronous case.\n    324                 try:\n    325                     orig_stack_contexts = stack_context._state.contexts\n--> 326                     yielded = next(result)\n        yielded = undefined\n        result = <generator object Kernel.dispatch_shell>\n    327                     if stack_context._state.contexts is not orig_stack_contexts:\n    328                         yielded = _create_future()\n    329                         yielded.set_exception(\n    330                             stack_context.StackContextInconsistentError(\n\n...........................................................................\nC:\\Users\\Soo\\Anaconda3\\lib\\site-packages\\ipykernel\\kernelbase.py in dispatch_shell(self=<ipykernel.ipkernel.IPythonKernel object>, stream=<zmq.eventloop.zmqstream.ZMQStream object>, msg={'buffers': [], 'content': {'allow_stdin': True, 'code': 'from sklearn.model_selection import GridSearchCV...1)\\n%time grid_search_forest.fit(X_train, y_train)', 'silent': False, 'stop_on_error': True, 'store_history': True, 'user_expressions': {}}, 'header': {'date': datetime.datetime(2019, 3, 3, 7, 3, 2, 179749, tzinfo=tzutc()), 'msg_id': '73292689ed0a4b1784c557365c558219', 'msg_type': 'execute_request', 'session': '9ca9305f56eb421bbee25ddc00dc24a5', 'username': 'username', 'version': '5.2'}, 'metadata': {}, 'msg_id': '73292689ed0a4b1784c557365c558219', 'msg_type': 'execute_request', 'parent_header': {}})\n    262             try:\n    263                 self.pre_handler_hook()\n    264             except Exception:\n    265                 self.log.debug(\"Unable to signal in pre_handler_hook:\", exc_info=True)\n    266             try:\n--> 267                 yield gen.maybe_future(handler(stream, idents, msg))\n        handler = <bound method Kernel.execute_request of <ipykernel.ipkernel.IPythonKernel object>>\n        stream = <zmq.eventloop.zmqstream.ZMQStream object>\n        idents = [b'9ca9305f56eb421bbee25ddc00dc24a5']\n        msg = {'buffers': [], 'content': {'allow_stdin': True, 'code': 'from sklearn.model_selection import GridSearchCV...1)\\n%time grid_search_forest.fit(X_train, y_train)', 'silent': False, 'stop_on_error': True, 'store_history': True, 'user_expressions': {}}, 'header': {'date': datetime.datetime(2019, 3, 3, 7, 3, 2, 179749, tzinfo=tzutc()), 'msg_id': '73292689ed0a4b1784c557365c558219', 'msg_type': 'execute_request', 'session': '9ca9305f56eb421bbee25ddc00dc24a5', 'username': 'username', 'version': '5.2'}, 'metadata': {}, 'msg_id': '73292689ed0a4b1784c557365c558219', 'msg_type': 'execute_request', 'parent_header': {}}\n    268             except Exception:\n    269                 self.log.error(\"Exception in message handler:\", exc_info=True)\n    270             finally:\n    271                 try:\n\n...........................................................................\nC:\\Users\\Soo\\Anaconda3\\lib\\site-packages\\tornado\\gen.py in wrapper(*args=(<ipykernel.ipkernel.IPythonKernel object>, <zmq.eventloop.zmqstream.ZMQStream object>, [b'9ca9305f56eb421bbee25ddc00dc24a5'], {'buffers': [], 'content': {'allow_stdin': True, 'code': 'from sklearn.model_selection import GridSearchCV...1)\\n%time grid_search_forest.fit(X_train, y_train)', 'silent': False, 'stop_on_error': True, 'store_history': True, 'user_expressions': {}}, 'header': {'date': datetime.datetime(2019, 3, 3, 7, 3, 2, 179749, tzinfo=tzutc()), 'msg_id': '73292689ed0a4b1784c557365c558219', 'msg_type': 'execute_request', 'session': '9ca9305f56eb421bbee25ddc00dc24a5', 'username': 'username', 'version': '5.2'}, 'metadata': {}, 'msg_id': '73292689ed0a4b1784c557365c558219', 'msg_type': 'execute_request', 'parent_header': {}}), **kwargs={})\n    321                 # never actually yields, which in turn allows us to\n    322                 # use \"optional\" coroutines in critical path code without\n    323                 # performance penalty for the synchronous case.\n    324                 try:\n    325                     orig_stack_contexts = stack_context._state.contexts\n--> 326                     yielded = next(result)\n        yielded = undefined\n        result = <generator object Kernel.execute_request>\n    327                     if stack_context._state.contexts is not orig_stack_contexts:\n    328                         yielded = _create_future()\n    329                         yielded.set_exception(\n    330                             stack_context.StackContextInconsistentError(\n\n...........................................................................\nC:\\Users\\Soo\\Anaconda3\\lib\\site-packages\\ipykernel\\kernelbase.py in execute_request(self=<ipykernel.ipkernel.IPythonKernel object>, stream=<zmq.eventloop.zmqstream.ZMQStream object>, ident=[b'9ca9305f56eb421bbee25ddc00dc24a5'], parent={'buffers': [], 'content': {'allow_stdin': True, 'code': 'from sklearn.model_selection import GridSearchCV...1)\\n%time grid_search_forest.fit(X_train, y_train)', 'silent': False, 'stop_on_error': True, 'store_history': True, 'user_expressions': {}}, 'header': {'date': datetime.datetime(2019, 3, 3, 7, 3, 2, 179749, tzinfo=tzutc()), 'msg_id': '73292689ed0a4b1784c557365c558219', 'msg_type': 'execute_request', 'session': '9ca9305f56eb421bbee25ddc00dc24a5', 'username': 'username', 'version': '5.2'}, 'metadata': {}, 'msg_id': '73292689ed0a4b1784c557365c558219', 'msg_type': 'execute_request', 'parent_header': {}})\n    529             self._publish_execute_input(code, parent, self.execution_count)\n    530 \n    531         reply_content = yield gen.maybe_future(\n    532             self.do_execute(\n    533                 code, silent, store_history,\n--> 534                 user_expressions, allow_stdin,\n        user_expressions = {}\n        allow_stdin = True\n    535             )\n    536         )\n    537 \n    538         # Flush output before sending the reply.\n\n...........................................................................\nC:\\Users\\Soo\\Anaconda3\\lib\\site-packages\\tornado\\gen.py in wrapper(*args=(<ipykernel.ipkernel.IPythonKernel object>, 'from sklearn.model_selection import GridSearchCV...1)\\n%time grid_search_forest.fit(X_train, y_train)', False, True, {}, True), **kwargs={})\n    321                 # never actually yields, which in turn allows us to\n    322                 # use \"optional\" coroutines in critical path code without\n    323                 # performance penalty for the synchronous case.\n    324                 try:\n    325                     orig_stack_contexts = stack_context._state.contexts\n--> 326                     yielded = next(result)\n        yielded = undefined\n        result = <generator object IPythonKernel.do_execute>\n    327                     if stack_context._state.contexts is not orig_stack_contexts:\n    328                         yielded = _create_future()\n    329                         yielded.set_exception(\n    330                             stack_context.StackContextInconsistentError(\n\n...........................................................................\nC:\\Users\\Soo\\Anaconda3\\lib\\site-packages\\ipykernel\\ipkernel.py in do_execute(self=<ipykernel.ipkernel.IPythonKernel object>, code='from sklearn.model_selection import GridSearchCV...1)\\n%time grid_search_forest.fit(X_train, y_train)', silent=False, store_history=True, user_expressions={}, allow_stdin=True)\n    289                     res = yield coro_future\n    290             else:\n    291                 # runner isn't already running,\n    292                 # make synchronous call,\n    293                 # letting shell dispatch to loop runners\n--> 294                 res = shell.run_cell(code, store_history=store_history, silent=silent)\n        res = undefined\n        code = 'from sklearn.model_selection import GridSearchCV...1)\\n%time grid_search_forest.fit(X_train, y_train)'\n        store_history = True\n        silent = False\n    295         finally:\n    296             self._restore_input()\n    297 \n    298         if res.error_before_exec is not None:\n\n...........................................................................\nC:\\Users\\Soo\\Anaconda3\\lib\\site-packages\\ipykernel\\zmqshell.py in run_cell(self=<ipykernel.zmqshell.ZMQInteractiveShell object>, *args=('from sklearn.model_selection import GridSearchCV...1)\\n%time grid_search_forest.fit(X_train, y_train)',), **kwargs={'silent': False, 'store_history': True})\n    531             )\n    532         self.payload_manager.write_payload(payload)\n    533 \n    534     def run_cell(self, *args, **kwargs):\n    535         self._last_traceback = None\n--> 536         return super(ZMQInteractiveShell, self).run_cell(*args, **kwargs)\n        self.run_cell = <bound method ZMQInteractiveShell.run_cell of <ipykernel.zmqshell.ZMQInteractiveShell object>>\n        args = ('from sklearn.model_selection import GridSearchCV...1)\\n%time grid_search_forest.fit(X_train, y_train)',)\n        kwargs = {'silent': False, 'store_history': True}\n    537 \n    538     def _showtraceback(self, etype, evalue, stb):\n    539         # try to preserve ordering of tracebacks and print statements\n    540         sys.stdout.flush()\n\n...........................................................................\nC:\\Users\\Soo\\Anaconda3\\lib\\site-packages\\IPython\\core\\interactiveshell.py in run_cell(self=<ipykernel.zmqshell.ZMQInteractiveShell object>, raw_cell='from sklearn.model_selection import GridSearchCV...1)\\n%time grid_search_forest.fit(X_train, y_train)', store_history=True, silent=False, shell_futures=True)\n   2814         result : :class:`ExecutionResult`\n   2815         \"\"\"\n   2816         result = None\n   2817         try:\n   2818             result = self._run_cell(\n-> 2819                 raw_cell, store_history, silent, shell_futures)\n        raw_cell = 'from sklearn.model_selection import GridSearchCV...1)\\n%time grid_search_forest.fit(X_train, y_train)'\n        store_history = True\n        silent = False\n        shell_futures = True\n   2820         finally:\n   2821             self.events.trigger('post_execute')\n   2822             if not silent:\n   2823                 self.events.trigger('post_run_cell', result)\n\n...........................................................................\nC:\\Users\\Soo\\Anaconda3\\lib\\site-packages\\IPython\\core\\interactiveshell.py in _run_cell(self=<ipykernel.zmqshell.ZMQInteractiveShell object>, raw_cell='from sklearn.model_selection import GridSearchCV...1)\\n%time grid_search_forest.fit(X_train, y_train)', store_history=True, silent=False, shell_futures=True)\n   2840             runner = self.loop_runner\n   2841         else:\n   2842             runner = _pseudo_sync_runner\n   2843 \n   2844         try:\n-> 2845             return runner(coro)\n        runner = <function _pseudo_sync_runner>\n        coro = <generator object InteractiveShell.run_cell_async>\n   2846         except BaseException as e:\n   2847             info = ExecutionInfo(raw_cell, store_history, silent, shell_futures)\n   2848             result = ExecutionResult(info)\n   2849             result.error_in_exec = e\n\n...........................................................................\nC:\\Users\\Soo\\Anaconda3\\lib\\site-packages\\IPython\\core\\async_helpers.py in _pseudo_sync_runner(coro=<generator object InteractiveShell.run_cell_async>)\n     62 \n     63     Credit to Nathaniel Smith\n     64 \n     65     \"\"\"\n     66     try:\n---> 67         coro.send(None)\n        coro.send = <built-in method send of generator object>\n     68     except StopIteration as exc:\n     69         return exc.value\n     70     else:\n     71         # TODO: do not raise but return an execution result with the right info.\n\n...........................................................................\nC:\\Users\\Soo\\Anaconda3\\lib\\site-packages\\IPython\\core\\interactiveshell.py in run_cell_async(self=<ipykernel.zmqshell.ZMQInteractiveShell object>, raw_cell='from sklearn.model_selection import GridSearchCV...1)\\n%time grid_search_forest.fit(X_train, y_train)', store_history=True, silent=False, shell_futures=True)\n   3015                 interactivity = \"none\" if silent else self.ast_node_interactivity\n   3016                 if _run_async:\n   3017                     interactivity = 'async'\n   3018 \n   3019                 has_raised = yield from self.run_ast_nodes(code_ast.body, cell_name,\n-> 3020                        interactivity=interactivity, compiler=compiler, result=result)\n        interactivity = 'last_expr'\n        compiler = <IPython.core.compilerop.CachingCompiler object>\n   3021 \n   3022                 self.last_execution_succeeded = not has_raised\n   3023                 self.last_execution_result = result\n   3024 \n\n...........................................................................\nC:\\Users\\Soo\\Anaconda3\\lib\\site-packages\\IPython\\core\\interactiveshell.py in run_ast_nodes(self=<ipykernel.zmqshell.ZMQInteractiveShell object>, nodelist=[<_ast.ImportFrom object>, <_ast.Assign object>, <_ast.Assign object>, <_ast.Expr object>], cell_name='<ipython-input-339-c0a3fa9f08ec>', interactivity='last', compiler=<IPython.core.compilerop.CachingCompiler object>, result=<ExecutionResult object at 1a8c5ece320, executio...rue silent=False shell_futures=True> result=None>)\n   3186                         return True\n   3187 \n   3188                 for i, node in enumerate(to_run_interactive):\n   3189                     mod = ast.Interactive([node])\n   3190                     code = compiler(mod, cell_name, \"single\")\n-> 3191                     if (yield from self.run_code(code, result)):\n        self.run_code = <bound method InteractiveShell.run_code of <ipykernel.zmqshell.ZMQInteractiveShell object>>\n        code = <code object <module> at 0x000001A8C5A85A50, file \"<ipython-input-339-c0a3fa9f08ec>\", line 9>\n        result = <ExecutionResult object at 1a8c5ece320, executio...rue silent=False shell_futures=True> result=None>\n   3192                         return True\n   3193 \n   3194             # Flush softspace\n   3195             if softspace(sys.stdout, 0):\n\n...........................................................................\nC:\\Users\\Soo\\Anaconda3\\lib\\site-packages\\IPython\\core\\interactiveshell.py in run_code(self=<ipykernel.zmqshell.ZMQInteractiveShell object>, code_obj=<code object <module> at 0x000001A8C5A85A50, file \"<ipython-input-339-c0a3fa9f08ec>\", line 9>, result=<ExecutionResult object at 1a8c5ece320, executio...rue silent=False shell_futures=True> result=None>, async_=False)\n   3262                 if async_:\n   3263                     last_expr = (yield from self._async_exec(code_obj, self.user_ns))\n   3264                     code = compile('last_expr', 'fake', \"single\")\n   3265                     exec(code, {'last_expr': last_expr})\n   3266                 else:\n-> 3267                     exec(code_obj, self.user_global_ns, self.user_ns)\n        code_obj = <code object <module> at 0x000001A8C5A85A50, file \"<ipython-input-339-c0a3fa9f08ec>\", line 9>\n        self.user_global_ns = {'BaseEstimator': <class 'sklearn.base.BaseEstimator'>, 'BayesianRidge': <class 'sklearn.linear_model.bayes.BayesianRidge'>, 'ChiSquare': <function ChiSquare>, 'EN': Pipeline(memory=None,\n     steps=[('robustscaler...ection='cyclic', tol=0.0001, warm_start=False))]), 'ENet': ElasticNet(alpha=1, copy_X=True, fit_intercept=T...selection='cyclic', tol=0.0001, warm_start=False), 'ENet_pred': array([118935.01379472, 158826.45339201, 188379....0091.33536502, 123318.00754889, 222909.94956696]), 'ENet_train_pred': array([12.2308963 , 12.10861007, 12.29244228, ..., 12.45220974,\n       11.84012015, 11.90302533]), 'ElasticNet': <class 'sklearn.linear_model.coordinate_descent.ElasticNet'>, 'GBR': GradientBoostingRegressor(alpha=0.9, criterion='...      subsample=1.0, verbose=0, warm_start=False), 'GBoost': GradientBoostingRegressor(alpha=0.9, criterion='...le=1.0, verbose=0,\n             warm_start=False), ...}\n        self.user_ns = {'BaseEstimator': <class 'sklearn.base.BaseEstimator'>, 'BayesianRidge': <class 'sklearn.linear_model.bayes.BayesianRidge'>, 'ChiSquare': <function ChiSquare>, 'EN': Pipeline(memory=None,\n     steps=[('robustscaler...ection='cyclic', tol=0.0001, warm_start=False))]), 'ENet': ElasticNet(alpha=1, copy_X=True, fit_intercept=T...selection='cyclic', tol=0.0001, warm_start=False), 'ENet_pred': array([118935.01379472, 158826.45339201, 188379....0091.33536502, 123318.00754889, 222909.94956696]), 'ENet_train_pred': array([12.2308963 , 12.10861007, 12.29244228, ..., 12.45220974,\n       11.84012015, 11.90302533]), 'ElasticNet': <class 'sklearn.linear_model.coordinate_descent.ElasticNet'>, 'GBR': GradientBoostingRegressor(alpha=0.9, criterion='...      subsample=1.0, verbose=0, warm_start=False), 'GBoost': GradientBoostingRegressor(alpha=0.9, criterion='...le=1.0, verbose=0,\n             warm_start=False), ...}\n   3268             finally:\n   3269                 # Reset our crash handler in place\n   3270                 sys.excepthook = old_excepthook\n   3271         except SystemExit as e:\n\n...........................................................................\nC:\\Users\\Soo\\Desktop\\nycdsa\\project-ML\\<ipython-input-339-c0a3fa9f08ec> in <module>()\n      4 param_grid = [\n      5     {'n_estimators': [3, 10, 30, 60, 90], 'max_features': [50,300]},\n      6     {'bootstrap': [True], 'n_estimators': [3, 10, 30, 60, 90], 'max_features': [50,100,150,200,250]},\n      7 ]\n      8 grid_search_forest = GridSearchCV(randomForest, param_grid , scoring='accuracy', cv=5, n_jobs=-1)\n----> 9 get_ipython().run_line_magic('time', 'grid_search_forest.fit(X_train, y_train)')\n\n...........................................................................\nC:\\Users\\Soo\\Anaconda3\\lib\\site-packages\\IPython\\core\\interactiveshell.py in run_line_magic(self=<ipykernel.zmqshell.ZMQInteractiveShell object>, magic_name='time', line='grid_search_forest.fit(X_train, y_train)', _stack_depth=1)\n   2282             kwargs = {}\n   2283             # Grab local namespace if we need it:\n   2284             if getattr(fn, \"needs_local_scope\", False):\n   2285                 kwargs['local_ns'] = sys._getframe(stack_depth).f_locals\n   2286             with self.builtin_trap:\n-> 2287                 result = fn(*args,**kwargs)\n        result = undefined\n        fn = <bound method ExecutionMagics.time of <IPython.core.magics.execution.ExecutionMagics object>>\n        args = ['grid_search_forest.fit(X_train, y_train)']\n        kwargs = {'local_ns': {'BaseEstimator': <class 'sklearn.base.BaseEstimator'>, 'BayesianRidge': <class 'sklearn.linear_model.bayes.BayesianRidge'>, 'ChiSquare': <function ChiSquare>, 'EN': Pipeline(memory=None,\n     steps=[('robustscaler...ection='cyclic', tol=0.0001, warm_start=False))]), 'ENet': ElasticNet(alpha=1, copy_X=True, fit_intercept=T...selection='cyclic', tol=0.0001, warm_start=False), 'ENet_pred': array([118935.01379472, 158826.45339201, 188379....0091.33536502, 123318.00754889, 222909.94956696]), 'ENet_train_pred': array([12.2308963 , 12.10861007, 12.29244228, ..., 12.45220974,\n       11.84012015, 11.90302533]), 'ElasticNet': <class 'sklearn.linear_model.coordinate_descent.ElasticNet'>, 'GBR': GradientBoostingRegressor(alpha=0.9, criterion='...      subsample=1.0, verbose=0, warm_start=False), 'GBoost': GradientBoostingRegressor(alpha=0.9, criterion='...le=1.0, verbose=0,\n             warm_start=False), ...}}\n   2288             return result\n   2289 \n   2290     def run_cell_magic(self, magic_name, line, cell):\n   2291         \"\"\"Execute the given cell magic.\n\n...........................................................................\nC:\\Users\\Soo\\Desktop\\nycdsa\\project-ML\\<decorator-gen-63> in time(self=<IPython.core.magics.execution.ExecutionMagics object>, line='grid_search_forest.fit(X_train, y_train)', cell=None, local_ns={'BaseEstimator': <class 'sklearn.base.BaseEstimator'>, 'BayesianRidge': <class 'sklearn.linear_model.bayes.BayesianRidge'>, 'ChiSquare': <function ChiSquare>, 'EN': Pipeline(memory=None,\n     steps=[('robustscaler...ection='cyclic', tol=0.0001, warm_start=False))]), 'ENet': ElasticNet(alpha=1, copy_X=True, fit_intercept=T...selection='cyclic', tol=0.0001, warm_start=False), 'ENet_pred': array([118935.01379472, 158826.45339201, 188379....0091.33536502, 123318.00754889, 222909.94956696]), 'ENet_train_pred': array([12.2308963 , 12.10861007, 12.29244228, ..., 12.45220974,\n       11.84012015, 11.90302533]), 'ElasticNet': <class 'sklearn.linear_model.coordinate_descent.ElasticNet'>, 'GBR': GradientBoostingRegressor(alpha=0.9, criterion='...      subsample=1.0, verbose=0, warm_start=False), 'GBoost': GradientBoostingRegressor(alpha=0.9, criterion='...le=1.0, verbose=0,\n             warm_start=False), ...})\n\n...........................................................................\nC:\\Users\\Soo\\Anaconda3\\lib\\site-packages\\IPython\\core\\magic.py in <lambda>(f=<function ExecutionMagics.time>, *a=(<IPython.core.magics.execution.ExecutionMagics object>, 'grid_search_forest.fit(X_train, y_train)', None, {'BaseEstimator': <class 'sklearn.base.BaseEstimator'>, 'BayesianRidge': <class 'sklearn.linear_model.bayes.BayesianRidge'>, 'ChiSquare': <function ChiSquare>, 'EN': Pipeline(memory=None,\n     steps=[('robustscaler...ection='cyclic', tol=0.0001, warm_start=False))]), 'ENet': ElasticNet(alpha=1, copy_X=True, fit_intercept=T...selection='cyclic', tol=0.0001, warm_start=False), 'ENet_pred': array([118935.01379472, 158826.45339201, 188379....0091.33536502, 123318.00754889, 222909.94956696]), 'ENet_train_pred': array([12.2308963 , 12.10861007, 12.29244228, ..., 12.45220974,\n       11.84012015, 11.90302533]), 'ElasticNet': <class 'sklearn.linear_model.coordinate_descent.ElasticNet'>, 'GBR': GradientBoostingRegressor(alpha=0.9, criterion='...      subsample=1.0, verbose=0, warm_start=False), 'GBoost': GradientBoostingRegressor(alpha=0.9, criterion='...le=1.0, verbose=0,\n             warm_start=False), ...}), **k={})\n    182     validate_type(magic_kind)\n    183 \n    184     # This is a closure to capture the magic_kind.  We could also use a class,\n    185     # but it's overkill for just that one bit of state.\n    186     def magic_deco(arg):\n--> 187         call = lambda f, *a, **k: f(*a, **k)\n        f = <function ExecutionMagics.time>\n        a = (<IPython.core.magics.execution.ExecutionMagics object>, 'grid_search_forest.fit(X_train, y_train)', None, {'BaseEstimator': <class 'sklearn.base.BaseEstimator'>, 'BayesianRidge': <class 'sklearn.linear_model.bayes.BayesianRidge'>, 'ChiSquare': <function ChiSquare>, 'EN': Pipeline(memory=None,\n     steps=[('robustscaler...ection='cyclic', tol=0.0001, warm_start=False))]), 'ENet': ElasticNet(alpha=1, copy_X=True, fit_intercept=T...selection='cyclic', tol=0.0001, warm_start=False), 'ENet_pred': array([118935.01379472, 158826.45339201, 188379....0091.33536502, 123318.00754889, 222909.94956696]), 'ENet_train_pred': array([12.2308963 , 12.10861007, 12.29244228, ..., 12.45220974,\n       11.84012015, 11.90302533]), 'ElasticNet': <class 'sklearn.linear_model.coordinate_descent.ElasticNet'>, 'GBR': GradientBoostingRegressor(alpha=0.9, criterion='...      subsample=1.0, verbose=0, warm_start=False), 'GBoost': GradientBoostingRegressor(alpha=0.9, criterion='...le=1.0, verbose=0,\n             warm_start=False), ...})\n        k = {}\n    188 \n    189         if callable(arg):\n    190             # \"Naked\" decorator call (just @foo, no args)\n    191             func = arg\n\n...........................................................................\nC:\\Users\\Soo\\Anaconda3\\lib\\site-packages\\IPython\\core\\magics\\execution.py in time(self=<IPython.core.magics.execution.ExecutionMagics object>, line='grid_search_forest.fit(X_train, y_train)', cell=None, local_ns={'BaseEstimator': <class 'sklearn.base.BaseEstimator'>, 'BayesianRidge': <class 'sklearn.linear_model.bayes.BayesianRidge'>, 'ChiSquare': <function ChiSquare>, 'EN': Pipeline(memory=None,\n     steps=[('robustscaler...ection='cyclic', tol=0.0001, warm_start=False))]), 'ENet': ElasticNet(alpha=1, copy_X=True, fit_intercept=T...selection='cyclic', tol=0.0001, warm_start=False), 'ENet_pred': array([118935.01379472, 158826.45339201, 188379....0091.33536502, 123318.00754889, 222909.94956696]), 'ENet_train_pred': array([12.2308963 , 12.10861007, 12.29244228, ..., 12.45220974,\n       11.84012015, 11.90302533]), 'ElasticNet': <class 'sklearn.linear_model.coordinate_descent.ElasticNet'>, 'GBR': GradientBoostingRegressor(alpha=0.9, criterion='...      subsample=1.0, verbose=0, warm_start=False), 'GBoost': GradientBoostingRegressor(alpha=0.9, criterion='...le=1.0, verbose=0,\n             warm_start=False), ...})\n   1258         # time execution\n   1259         wall_st = wtime()\n   1260         if mode=='eval':\n   1261             st = clock2()\n   1262             try:\n-> 1263                 out = eval(code, glob, local_ns)\n        out = undefined\n        code = <code object <module> at 0x000001A8C5A85930, file \"<timed eval>\", line 1>\n        glob = {'BaseEstimator': <class 'sklearn.base.BaseEstimator'>, 'BayesianRidge': <class 'sklearn.linear_model.bayes.BayesianRidge'>, 'ChiSquare': <function ChiSquare>, 'EN': Pipeline(memory=None,\n     steps=[('robustscaler...ection='cyclic', tol=0.0001, warm_start=False))]), 'ENet': ElasticNet(alpha=1, copy_X=True, fit_intercept=T...selection='cyclic', tol=0.0001, warm_start=False), 'ENet_pred': array([118935.01379472, 158826.45339201, 188379....0091.33536502, 123318.00754889, 222909.94956696]), 'ENet_train_pred': array([12.2308963 , 12.10861007, 12.29244228, ..., 12.45220974,\n       11.84012015, 11.90302533]), 'ElasticNet': <class 'sklearn.linear_model.coordinate_descent.ElasticNet'>, 'GBR': GradientBoostingRegressor(alpha=0.9, criterion='...      subsample=1.0, verbose=0, warm_start=False), 'GBoost': GradientBoostingRegressor(alpha=0.9, criterion='...le=1.0, verbose=0,\n             warm_start=False), ...}\n        local_ns = {'BaseEstimator': <class 'sklearn.base.BaseEstimator'>, 'BayesianRidge': <class 'sklearn.linear_model.bayes.BayesianRidge'>, 'ChiSquare': <function ChiSquare>, 'EN': Pipeline(memory=None,\n     steps=[('robustscaler...ection='cyclic', tol=0.0001, warm_start=False))]), 'ENet': ElasticNet(alpha=1, copy_X=True, fit_intercept=T...selection='cyclic', tol=0.0001, warm_start=False), 'ENet_pred': array([118935.01379472, 158826.45339201, 188379....0091.33536502, 123318.00754889, 222909.94956696]), 'ENet_train_pred': array([12.2308963 , 12.10861007, 12.29244228, ..., 12.45220974,\n       11.84012015, 11.90302533]), 'ElasticNet': <class 'sklearn.linear_model.coordinate_descent.ElasticNet'>, 'GBR': GradientBoostingRegressor(alpha=0.9, criterion='...      subsample=1.0, verbose=0, warm_start=False), 'GBoost': GradientBoostingRegressor(alpha=0.9, criterion='...le=1.0, verbose=0,\n             warm_start=False), ...}\n   1264             except:\n   1265                 self.shell.showtraceback()\n   1266                 return\n   1267             end = clock2()\n\n...........................................................................\nC:\\Users\\Soo\\Desktop\\nycdsa\\project-ML\\<timed eval> in <module>()\n\n...........................................................................\nC:\\Users\\Soo\\Anaconda3\\lib\\site-packages\\sklearn\\model_selection\\_search.py in fit(self=GridSearchCV(cv=5, error_score='raise',\n       e...ore='warn',\n       scoring='accuracy', verbose=0), X=      EnclosedPorch  ScreenPorch  OpenPorchSF  B...0  \n1460           0  \n\n[1460 rows x 288 columns], y=array([12.24769912, 12.10901644, 12.31717117, ..., 12.49313327,\n       11.86446927, 11.90159023]), groups=None, **fit_params={})\n    635                                   return_train_score=self.return_train_score,\n    636                                   return_n_test_samples=True,\n    637                                   return_times=True, return_parameters=False,\n    638                                   error_score=self.error_score)\n    639           for parameters, (train, test) in product(candidate_params,\n--> 640                                                    cv.split(X, y, groups)))\n        cv.split = <bound method _BaseKFold.split of KFold(n_splits=5, random_state=None, shuffle=False)>\n        X =       EnclosedPorch  ScreenPorch  OpenPorchSF  B...0  \n1460           0  \n\n[1460 rows x 288 columns]\n        y = array([12.24769912, 12.10901644, 12.31717117, ..., 12.49313327,\n       11.86446927, 11.90159023])\n        groups = None\n    641 \n    642         # if one choose to see train score, \"out\" will contain train score info\n    643         if self.return_train_score:\n    644             (train_score_dicts, test_score_dicts, test_sample_counts, fit_time,\n\n...........................................................................\nC:\\Users\\Soo\\Anaconda3\\lib\\site-packages\\sklearn\\externals\\joblib\\parallel.py in __call__(self=Parallel(n_jobs=-1), iterable=<generator object BaseSearchCV.fit.<locals>.<genexpr>>)\n    784             if pre_dispatch == \"all\" or n_jobs == 1:\n    785                 # The iterable was consumed all at once by the above for loop.\n    786                 # No need to wait for async callbacks to trigger to\n    787                 # consumption.\n    788                 self._iterating = False\n--> 789             self.retrieve()\n        self.retrieve = <bound method Parallel.retrieve of Parallel(n_jobs=-1)>\n    790             # Make sure that we get a last message telling us we are done\n    791             elapsed_time = time.time() - self._start_time\n    792             self._print('Done %3i out of %3i | elapsed: %s finished',\n    793                         (len(self._output), len(self._output),\n\n---------------------------------------------------------------------------\nSub-process traceback:\n---------------------------------------------------------------------------\nValueError                                         Sun Mar  3 02:03:07 2019\nPID: 3712                   Python 3.7.2: C:\\Users\\Soo\\Anaconda3\\python.exe\n...........................................................................\nC:\\Users\\Soo\\Anaconda3\\lib\\site-packages\\sklearn\\externals\\joblib\\parallel.py in __call__(self=<sklearn.externals.joblib.parallel.BatchedCalls object>)\n    126     def __init__(self, iterator_slice):\n    127         self.items = list(iterator_slice)\n    128         self._size = len(self.items)\n    129 \n    130     def __call__(self):\n--> 131         return [func(*args, **kwargs) for func, args, kwargs in self.items]\n        self.items = [(<function _fit_and_score>, (RandomForestRegressor(bootstrap=True, criterion=...ate=None,\n           verbose=0, warm_start=False),       EnclosedPorch  ScreenPorch  OpenPorchSF  B...         0           0\n\n[1460 rows x 288 columns], array([12.24769912, 12.10901644, 12.31717117, ..., 12.49313327,\n       11.86446927, 11.90159023]), {'score': make_scorer(accuracy_score)}, array([ 292,  293,  294, ..., 1457, 1458, 1459]), array([  0,   1,   2,   3,   4,   5,   6,   7,  ..., 284, 285,\n       286, 287, 288, 289, 290, 291]), 0, {'max_features': 50, 'n_estimators': 3}), {'error_score': 'raise', 'fit_params': {}, 'return_n_test_samples': True, 'return_parameters': False, 'return_times': True, 'return_train_score': 'warn'})]\n    132 \n    133     def __len__(self):\n    134         return self._size\n    135 \n\n...........................................................................\nC:\\Users\\Soo\\Anaconda3\\lib\\site-packages\\sklearn\\externals\\joblib\\parallel.py in <listcomp>(.0=<list_iterator object>)\n    126     def __init__(self, iterator_slice):\n    127         self.items = list(iterator_slice)\n    128         self._size = len(self.items)\n    129 \n    130     def __call__(self):\n--> 131         return [func(*args, **kwargs) for func, args, kwargs in self.items]\n        func = <function _fit_and_score>\n        args = (RandomForestRegressor(bootstrap=True, criterion=...ate=None,\n           verbose=0, warm_start=False),       EnclosedPorch  ScreenPorch  OpenPorchSF  B...         0           0\n\n[1460 rows x 288 columns], array([12.24769912, 12.10901644, 12.31717117, ..., 12.49313327,\n       11.86446927, 11.90159023]), {'score': make_scorer(accuracy_score)}, array([ 292,  293,  294, ..., 1457, 1458, 1459]), array([  0,   1,   2,   3,   4,   5,   6,   7,  ..., 284, 285,\n       286, 287, 288, 289, 290, 291]), 0, {'max_features': 50, 'n_estimators': 3})\n        kwargs = {'error_score': 'raise', 'fit_params': {}, 'return_n_test_samples': True, 'return_parameters': False, 'return_times': True, 'return_train_score': 'warn'}\n    132 \n    133     def __len__(self):\n    134         return self._size\n    135 \n\n...........................................................................\nC:\\Users\\Soo\\Anaconda3\\lib\\site-packages\\sklearn\\model_selection\\_validation.py in _fit_and_score(estimator=RandomForestRegressor(bootstrap=True, criterion=...ate=None,\n           verbose=0, warm_start=False), X=      EnclosedPorch  ScreenPorch  OpenPorchSF  B...         0           0\n\n[1460 rows x 288 columns], y=array([12.24769912, 12.10901644, 12.31717117, ..., 12.49313327,\n       11.86446927, 11.90159023]), scorer={'score': make_scorer(accuracy_score)}, train=array([ 292,  293,  294, ..., 1457, 1458, 1459]), test=array([  0,   1,   2,   3,   4,   5,   6,   7,  ..., 284, 285,\n       286, 287, 288, 289, 290, 291]), verbose=0, parameters={'max_features': 50, 'n_estimators': 3}, fit_params={}, return_train_score='warn', return_parameters=False, return_n_test_samples=True, return_times=True, error_score='raise')\n    483                              \" make sure that it has been spelled correctly.)\")\n    484 \n    485     else:\n    486         fit_time = time.time() - start_time\n    487         # _score will return dict if is_multimetric is True\n--> 488         test_scores = _score(estimator, X_test, y_test, scorer, is_multimetric)\n        test_scores = {}\n        estimator = RandomForestRegressor(bootstrap=True, criterion=...ate=None,\n           verbose=0, warm_start=False)\n        X_test =      EnclosedPorch  ScreenPorch  OpenPorchSF  Bs...          0           0\n\n[292 rows x 288 columns]\n        y_test = array([12.24769912, 12.10901644, 12.31717117, 11...2, 11.94195084,\n       12.35978466, 11.81968196])\n        scorer = {'score': make_scorer(accuracy_score)}\n        is_multimetric = True\n    489         score_time = time.time() - start_time - fit_time\n    490         if return_train_score:\n    491             train_scores = _score(estimator, X_train, y_train, scorer,\n    492                                   is_multimetric)\n\n...........................................................................\nC:\\Users\\Soo\\Anaconda3\\lib\\site-packages\\sklearn\\model_selection\\_validation.py in _score(estimator=RandomForestRegressor(bootstrap=True, criterion=...ate=None,\n           verbose=0, warm_start=False), X_test=     EnclosedPorch  ScreenPorch  OpenPorchSF  Bs...          0           0\n\n[292 rows x 288 columns], y_test=array([12.24769912, 12.10901644, 12.31717117, 11...2, 11.94195084,\n       12.35978466, 11.81968196]), scorer={'score': make_scorer(accuracy_score)}, is_multimetric=True)\n    518 \n    519     Will return a single float if is_multimetric is False and a dict of floats,\n    520     if is_multimetric is True\n    521     \"\"\"\n    522     if is_multimetric:\n--> 523         return _multimetric_score(estimator, X_test, y_test, scorer)\n        estimator = RandomForestRegressor(bootstrap=True, criterion=...ate=None,\n           verbose=0, warm_start=False)\n        X_test =      EnclosedPorch  ScreenPorch  OpenPorchSF  Bs...          0           0\n\n[292 rows x 288 columns]\n        y_test = array([12.24769912, 12.10901644, 12.31717117, 11...2, 11.94195084,\n       12.35978466, 11.81968196])\n        scorer = {'score': make_scorer(accuracy_score)}\n    524     else:\n    525         if y_test is None:\n    526             score = scorer(estimator, X_test)\n    527         else:\n\n...........................................................................\nC:\\Users\\Soo\\Anaconda3\\lib\\site-packages\\sklearn\\model_selection\\_validation.py in _multimetric_score(estimator=RandomForestRegressor(bootstrap=True, criterion=...ate=None,\n           verbose=0, warm_start=False), X_test=     EnclosedPorch  ScreenPorch  OpenPorchSF  Bs...          0           0\n\n[292 rows x 288 columns], y_test=array([12.24769912, 12.10901644, 12.31717117, 11...2, 11.94195084,\n       12.35978466, 11.81968196]), scorers={'score': make_scorer(accuracy_score)})\n    548 \n    549     for name, scorer in scorers.items():\n    550         if y_test is None:\n    551             score = scorer(estimator, X_test)\n    552         else:\n--> 553             score = scorer(estimator, X_test, y_test)\n        score = undefined\n        scorer = make_scorer(accuracy_score)\n        estimator = RandomForestRegressor(bootstrap=True, criterion=...ate=None,\n           verbose=0, warm_start=False)\n        X_test =      EnclosedPorch  ScreenPorch  OpenPorchSF  Bs...          0           0\n\n[292 rows x 288 columns]\n        y_test = array([12.24769912, 12.10901644, 12.31717117, 11...2, 11.94195084,\n       12.35978466, 11.81968196])\n    554 \n    555         if hasattr(score, 'item'):\n    556             try:\n    557                 # e.g. unwrap memmapped scalars\n\n...........................................................................\nC:\\Users\\Soo\\Anaconda3\\lib\\site-packages\\sklearn\\metrics\\scorer.py in __call__(self=make_scorer(accuracy_score), estimator=RandomForestRegressor(bootstrap=True, criterion=...ate=None,\n           verbose=0, warm_start=False), X=     EnclosedPorch  ScreenPorch  OpenPorchSF  Bs...          0           0\n\n[292 rows x 288 columns], y_true=array([12.24769912, 12.10901644, 12.31717117, 11...2, 11.94195084,\n       12.35978466, 11.81968196]), sample_weight=None)\n    103             return self._sign * self._score_func(y_true, y_pred,\n    104                                                  sample_weight=sample_weight,\n    105                                                  **self._kwargs)\n    106         else:\n    107             return self._sign * self._score_func(y_true, y_pred,\n--> 108                                                  **self._kwargs)\n        self._kwargs = {}\n    109 \n    110 \n    111 class _ProbaScorer(_BaseScorer):\n    112     def __call__(self, clf, X, y, sample_weight=None):\n\n...........................................................................\nC:\\Users\\Soo\\Anaconda3\\lib\\site-packages\\sklearn\\metrics\\classification.py in accuracy_score(y_true=array([12.24769912, 12.10901644, 12.31717117, 11...2, 11.94195084,\n       12.35978466, 11.81968196]), y_pred=array([12.26779563, 12.05846903, 12.19265134, 12...4, 11.86373187,\n       12.40567772, 12.07610943]), normalize=True, sample_weight=None)\n    171     >>> accuracy_score(np.array([[0, 1], [1, 1]]), np.ones((2, 2)))\n    172     0.5\n    173     \"\"\"\n    174 \n    175     # Compute accuracy for each possible representation\n--> 176     y_type, y_true, y_pred = _check_targets(y_true, y_pred)\n        y_type = undefined\n        y_true = array([12.24769912, 12.10901644, 12.31717117, 11...2, 11.94195084,\n       12.35978466, 11.81968196])\n        y_pred = array([12.26779563, 12.05846903, 12.19265134, 12...4, 11.86373187,\n       12.40567772, 12.07610943])\n    177     if y_type.startswith('multilabel'):\n    178         differing_labels = count_nonzero(y_true - y_pred, axis=1)\n    179         score = differing_labels == 0\n    180     else:\n\n...........................................................................\nC:\\Users\\Soo\\Anaconda3\\lib\\site-packages\\sklearn\\metrics\\classification.py in _check_targets(y_true=array([12.24769912, 12.10901644, 12.31717117, 11...2, 11.94195084,\n       12.35978466, 11.81968196]), y_pred=array([12.26779563, 12.05846903, 12.19265134, 12...4, 11.86373187,\n       12.40567772, 12.07610943]))\n     83     # We can't have more than one value on y_type => The set is no more needed\n     84     y_type = y_type.pop()\n     85 \n     86     # No metrics support \"multiclass-multioutput\" format\n     87     if (y_type not in [\"binary\", \"multiclass\", \"multilabel-indicator\"]):\n---> 88         raise ValueError(\"{0} is not supported\".format(y_type))\n        y_type = 'continuous'\n     89 \n     90     if y_type in [\"binary\", \"multiclass\"]:\n     91         y_true = column_or_1d(y_true)\n     92         y_pred = column_or_1d(y_pred)\n\nValueError: continuous is not supported\n___________________________________________________________________________",
     "output_type": "error",
     "traceback": [
      "\u001b[1;31m---------------------------------------------------------------------------\u001b[0m",
      "\u001b[1;31mRemoteTraceback\u001b[0m                           Traceback (most recent call last)",
      "\u001b[1;31mRemoteTraceback\u001b[0m: \n\"\"\"\nTraceback (most recent call last):\n  File \"C:\\Users\\Soo\\Anaconda3\\lib\\site-packages\\sklearn\\externals\\joblib\\_parallel_backends.py\", line 350, in __call__\n    return self.func(*args, **kwargs)\n  File \"C:\\Users\\Soo\\Anaconda3\\lib\\site-packages\\sklearn\\externals\\joblib\\parallel.py\", line 131, in __call__\n    return [func(*args, **kwargs) for func, args, kwargs in self.items]\n  File \"C:\\Users\\Soo\\Anaconda3\\lib\\site-packages\\sklearn\\externals\\joblib\\parallel.py\", line 131, in <listcomp>\n    return [func(*args, **kwargs) for func, args, kwargs in self.items]\n  File \"C:\\Users\\Soo\\Anaconda3\\lib\\site-packages\\sklearn\\model_selection\\_validation.py\", line 488, in _fit_and_score\n    test_scores = _score(estimator, X_test, y_test, scorer, is_multimetric)\n  File \"C:\\Users\\Soo\\Anaconda3\\lib\\site-packages\\sklearn\\model_selection\\_validation.py\", line 523, in _score\n    return _multimetric_score(estimator, X_test, y_test, scorer)\n  File \"C:\\Users\\Soo\\Anaconda3\\lib\\site-packages\\sklearn\\model_selection\\_validation.py\", line 553, in _multimetric_score\n    score = scorer(estimator, X_test, y_test)\n  File \"C:\\Users\\Soo\\Anaconda3\\lib\\site-packages\\sklearn\\metrics\\scorer.py\", line 108, in __call__\n    **self._kwargs)\n  File \"C:\\Users\\Soo\\Anaconda3\\lib\\site-packages\\sklearn\\metrics\\classification.py\", line 176, in accuracy_score\n    y_type, y_true, y_pred = _check_targets(y_true, y_pred)\n  File \"C:\\Users\\Soo\\Anaconda3\\lib\\site-packages\\sklearn\\metrics\\classification.py\", line 88, in _check_targets\n    raise ValueError(\"{0} is not supported\".format(y_type))\nValueError: continuous is not supported\n\nDuring handling of the above exception, another exception occurred:\n\nTraceback (most recent call last):\n  File \"C:\\Users\\Soo\\Anaconda3\\lib\\multiprocessing\\pool.py\", line 121, in worker\n    result = (True, func(*args, **kwds))\n  File \"C:\\Users\\Soo\\Anaconda3\\lib\\site-packages\\sklearn\\externals\\joblib\\_parallel_backends.py\", line 359, in __call__\n    raise TransportableException(text, e_type)\nsklearn.externals.joblib.my_exceptions.TransportableException: TransportableException\n___________________________________________________________________________\nValueError                                         Sun Mar  3 02:03:07 2019\nPID: 3712                   Python 3.7.2: C:\\Users\\Soo\\Anaconda3\\python.exe\n...........................................................................\nC:\\Users\\Soo\\Anaconda3\\lib\\site-packages\\sklearn\\externals\\joblib\\parallel.py in __call__(self=<sklearn.externals.joblib.parallel.BatchedCalls object>)\n    126     def __init__(self, iterator_slice):\n    127         self.items = list(iterator_slice)\n    128         self._size = len(self.items)\n    129 \n    130     def __call__(self):\n--> 131         return [func(*args, **kwargs) for func, args, kwargs in self.items]\n        self.items = [(<function _fit_and_score>, (RandomForestRegressor(bootstrap=True, criterion=...ate=None,\n           verbose=0, warm_start=False),       EnclosedPorch  ScreenPorch  OpenPorchSF  B...         0           0\n\n[1460 rows x 288 columns], array([12.24769912, 12.10901644, 12.31717117, ..., 12.49313327,\n       11.86446927, 11.90159023]), {'score': make_scorer(accuracy_score)}, array([ 292,  293,  294, ..., 1457, 1458, 1459]), array([  0,   1,   2,   3,   4,   5,   6,   7,  ..., 284, 285,\n       286, 287, 288, 289, 290, 291]), 0, {'max_features': 50, 'n_estimators': 3}), {'error_score': 'raise', 'fit_params': {}, 'return_n_test_samples': True, 'return_parameters': False, 'return_times': True, 'return_train_score': 'warn'})]\n    132 \n    133     def __len__(self):\n    134         return self._size\n    135 \n\n...........................................................................\nC:\\Users\\Soo\\Anaconda3\\lib\\site-packages\\sklearn\\externals\\joblib\\parallel.py in <listcomp>(.0=<list_iterator object>)\n    126     def __init__(self, iterator_slice):\n    127         self.items = list(iterator_slice)\n    128         self._size = len(self.items)\n    129 \n    130     def __call__(self):\n--> 131         return [func(*args, **kwargs) for func, args, kwargs in self.items]\n        func = <function _fit_and_score>\n        args = (RandomForestRegressor(bootstrap=True, criterion=...ate=None,\n           verbose=0, warm_start=False),       EnclosedPorch  ScreenPorch  OpenPorchSF  B...         0           0\n\n[1460 rows x 288 columns], array([12.24769912, 12.10901644, 12.31717117, ..., 12.49313327,\n       11.86446927, 11.90159023]), {'score': make_scorer(accuracy_score)}, array([ 292,  293,  294, ..., 1457, 1458, 1459]), array([  0,   1,   2,   3,   4,   5,   6,   7,  ..., 284, 285,\n       286, 287, 288, 289, 290, 291]), 0, {'max_features': 50, 'n_estimators': 3})\n        kwargs = {'error_score': 'raise', 'fit_params': {}, 'return_n_test_samples': True, 'return_parameters': False, 'return_times': True, 'return_train_score': 'warn'}\n    132 \n    133     def __len__(self):\n    134         return self._size\n    135 \n\n...........................................................................\nC:\\Users\\Soo\\Anaconda3\\lib\\site-packages\\sklearn\\model_selection\\_validation.py in _fit_and_score(estimator=RandomForestRegressor(bootstrap=True, criterion=...ate=None,\n           verbose=0, warm_start=False), X=      EnclosedPorch  ScreenPorch  OpenPorchSF  B...         0           0\n\n[1460 rows x 288 columns], y=array([12.24769912, 12.10901644, 12.31717117, ..., 12.49313327,\n       11.86446927, 11.90159023]), scorer={'score': make_scorer(accuracy_score)}, train=array([ 292,  293,  294, ..., 1457, 1458, 1459]), test=array([  0,   1,   2,   3,   4,   5,   6,   7,  ..., 284, 285,\n       286, 287, 288, 289, 290, 291]), verbose=0, parameters={'max_features': 50, 'n_estimators': 3}, fit_params={}, return_train_score='warn', return_parameters=False, return_n_test_samples=True, return_times=True, error_score='raise')\n    483                              \" make sure that it has been spelled correctly.)\")\n    484 \n    485     else:\n    486         fit_time = time.time() - start_time\n    487         # _score will return dict if is_multimetric is True\n--> 488         test_scores = _score(estimator, X_test, y_test, scorer, is_multimetric)\n        test_scores = {}\n        estimator = RandomForestRegressor(bootstrap=True, criterion=...ate=None,\n           verbose=0, warm_start=False)\n        X_test =      EnclosedPorch  ScreenPorch  OpenPorchSF  Bs...          0           0\n\n[292 rows x 288 columns]\n        y_test = array([12.24769912, 12.10901644, 12.31717117, 11...2, 11.94195084,\n       12.35978466, 11.81968196])\n        scorer = {'score': make_scorer(accuracy_score)}\n        is_multimetric = True\n    489         score_time = time.time() - start_time - fit_time\n    490         if return_train_score:\n    491             train_scores = _score(estimator, X_train, y_train, scorer,\n    492                                   is_multimetric)\n\n...........................................................................\nC:\\Users\\Soo\\Anaconda3\\lib\\site-packages\\sklearn\\model_selection\\_validation.py in _score(estimator=RandomForestRegressor(bootstrap=True, criterion=...ate=None,\n           verbose=0, warm_start=False), X_test=     EnclosedPorch  ScreenPorch  OpenPorchSF  Bs...          0           0\n\n[292 rows x 288 columns], y_test=array([12.24769912, 12.10901644, 12.31717117, 11...2, 11.94195084,\n       12.35978466, 11.81968196]), scorer={'score': make_scorer(accuracy_score)}, is_multimetric=True)\n    518 \n    519     Will return a single float if is_multimetric is False and a dict of floats,\n    520     if is_multimetric is True\n    521     \"\"\"\n    522     if is_multimetric:\n--> 523         return _multimetric_score(estimator, X_test, y_test, scorer)\n        estimator = RandomForestRegressor(bootstrap=True, criterion=...ate=None,\n           verbose=0, warm_start=False)\n        X_test =      EnclosedPorch  ScreenPorch  OpenPorchSF  Bs...          0           0\n\n[292 rows x 288 columns]\n        y_test = array([12.24769912, 12.10901644, 12.31717117, 11...2, 11.94195084,\n       12.35978466, 11.81968196])\n        scorer = {'score': make_scorer(accuracy_score)}\n    524     else:\n    525         if y_test is None:\n    526             score = scorer(estimator, X_test)\n    527         else:\n\n...........................................................................\nC:\\Users\\Soo\\Anaconda3\\lib\\site-packages\\sklearn\\model_selection\\_validation.py in _multimetric_score(estimator=RandomForestRegressor(bootstrap=True, criterion=...ate=None,\n           verbose=0, warm_start=False), X_test=     EnclosedPorch  ScreenPorch  OpenPorchSF  Bs...          0           0\n\n[292 rows x 288 columns], y_test=array([12.24769912, 12.10901644, 12.31717117, 11...2, 11.94195084,\n       12.35978466, 11.81968196]), scorers={'score': make_scorer(accuracy_score)})\n    548 \n    549     for name, scorer in scorers.items():\n    550         if y_test is None:\n    551             score = scorer(estimator, X_test)\n    552         else:\n--> 553             score = scorer(estimator, X_test, y_test)\n        score = undefined\n        scorer = make_scorer(accuracy_score)\n        estimator = RandomForestRegressor(bootstrap=True, criterion=...ate=None,\n           verbose=0, warm_start=False)\n        X_test =      EnclosedPorch  ScreenPorch  OpenPorchSF  Bs...          0           0\n\n[292 rows x 288 columns]\n        y_test = array([12.24769912, 12.10901644, 12.31717117, 11...2, 11.94195084,\n       12.35978466, 11.81968196])\n    554 \n    555         if hasattr(score, 'item'):\n    556             try:\n    557                 # e.g. unwrap memmapped scalars\n\n...........................................................................\nC:\\Users\\Soo\\Anaconda3\\lib\\site-packages\\sklearn\\metrics\\scorer.py in __call__(self=make_scorer(accuracy_score), estimator=RandomForestRegressor(bootstrap=True, criterion=...ate=None,\n           verbose=0, warm_start=False), X=     EnclosedPorch  ScreenPorch  OpenPorchSF  Bs...          0           0\n\n[292 rows x 288 columns], y_true=array([12.24769912, 12.10901644, 12.31717117, 11...2, 11.94195084,\n       12.35978466, 11.81968196]), sample_weight=None)\n    103             return self._sign * self._score_func(y_true, y_pred,\n    104                                                  sample_weight=sample_weight,\n    105                                                  **self._kwargs)\n    106         else:\n    107             return self._sign * self._score_func(y_true, y_pred,\n--> 108                                                  **self._kwargs)\n        self._kwargs = {}\n    109 \n    110 \n    111 class _ProbaScorer(_BaseScorer):\n    112     def __call__(self, clf, X, y, sample_weight=None):\n\n...........................................................................\nC:\\Users\\Soo\\Anaconda3\\lib\\site-packages\\sklearn\\metrics\\classification.py in accuracy_score(y_true=array([12.24769912, 12.10901644, 12.31717117, 11...2, 11.94195084,\n       12.35978466, 11.81968196]), y_pred=array([12.26779563, 12.05846903, 12.19265134, 12...4, 11.86373187,\n       12.40567772, 12.07610943]), normalize=True, sample_weight=None)\n    171     >>> accuracy_score(np.array([[0, 1], [1, 1]]), np.ones((2, 2)))\n    172     0.5\n    173     \"\"\"\n    174 \n    175     # Compute accuracy for each possible representation\n--> 176     y_type, y_true, y_pred = _check_targets(y_true, y_pred)\n        y_type = undefined\n        y_true = array([12.24769912, 12.10901644, 12.31717117, 11...2, 11.94195084,\n       12.35978466, 11.81968196])\n        y_pred = array([12.26779563, 12.05846903, 12.19265134, 12...4, 11.86373187,\n       12.40567772, 12.07610943])\n    177     if y_type.startswith('multilabel'):\n    178         differing_labels = count_nonzero(y_true - y_pred, axis=1)\n    179         score = differing_labels == 0\n    180     else:\n\n...........................................................................\nC:\\Users\\Soo\\Anaconda3\\lib\\site-packages\\sklearn\\metrics\\classification.py in _check_targets(y_true=array([12.24769912, 12.10901644, 12.31717117, 11...2, 11.94195084,\n       12.35978466, 11.81968196]), y_pred=array([12.26779563, 12.05846903, 12.19265134, 12...4, 11.86373187,\n       12.40567772, 12.07610943]))\n     83     # We can't have more than one value on y_type => The set is no more needed\n     84     y_type = y_type.pop()\n     85 \n     86     # No metrics support \"multiclass-multioutput\" format\n     87     if (y_type not in [\"binary\", \"multiclass\", \"multilabel-indicator\"]):\n---> 88         raise ValueError(\"{0} is not supported\".format(y_type))\n        y_type = 'continuous'\n     89 \n     90     if y_type in [\"binary\", \"multiclass\"]:\n     91         y_true = column_or_1d(y_true)\n     92         y_pred = column_or_1d(y_pred)\n\nValueError: continuous is not supported\n___________________________________________________________________________\n\"\"\"",
      "\nThe above exception was the direct cause of the following exception:\n",
      "\u001b[1;31mTransportableException\u001b[0m                    Traceback (most recent call last)",
      "\u001b[1;32m~\\Anaconda3\\lib\\site-packages\\sklearn\\externals\\joblib\\parallel.py\u001b[0m in \u001b[0;36mretrieve\u001b[1;34m(self)\u001b[0m\n\u001b[0;32m    698\u001b[0m                 \u001b[1;32mif\u001b[0m \u001b[0mgetattr\u001b[0m\u001b[1;33m(\u001b[0m\u001b[0mself\u001b[0m\u001b[1;33m.\u001b[0m\u001b[0m_backend\u001b[0m\u001b[1;33m,\u001b[0m \u001b[1;34m'supports_timeout'\u001b[0m\u001b[1;33m,\u001b[0m \u001b[1;32mFalse\u001b[0m\u001b[1;33m)\u001b[0m\u001b[1;33m:\u001b[0m\u001b[1;33m\u001b[0m\u001b[1;33m\u001b[0m\u001b[0m\n\u001b[1;32m--> 699\u001b[1;33m                     \u001b[0mself\u001b[0m\u001b[1;33m.\u001b[0m\u001b[0m_output\u001b[0m\u001b[1;33m.\u001b[0m\u001b[0mextend\u001b[0m\u001b[1;33m(\u001b[0m\u001b[0mjob\u001b[0m\u001b[1;33m.\u001b[0m\u001b[0mget\u001b[0m\u001b[1;33m(\u001b[0m\u001b[0mtimeout\u001b[0m\u001b[1;33m=\u001b[0m\u001b[0mself\u001b[0m\u001b[1;33m.\u001b[0m\u001b[0mtimeout\u001b[0m\u001b[1;33m)\u001b[0m\u001b[1;33m)\u001b[0m\u001b[1;33m\u001b[0m\u001b[1;33m\u001b[0m\u001b[0m\n\u001b[0m\u001b[0;32m    700\u001b[0m                 \u001b[1;32melse\u001b[0m\u001b[1;33m:\u001b[0m\u001b[1;33m\u001b[0m\u001b[1;33m\u001b[0m\u001b[0m\n",
      "\u001b[1;32m~\\Anaconda3\\lib\\multiprocessing\\pool.py\u001b[0m in \u001b[0;36mget\u001b[1;34m(self, timeout)\u001b[0m\n\u001b[0;32m    656\u001b[0m         \u001b[1;32melse\u001b[0m\u001b[1;33m:\u001b[0m\u001b[1;33m\u001b[0m\u001b[1;33m\u001b[0m\u001b[0m\n\u001b[1;32m--> 657\u001b[1;33m             \u001b[1;32mraise\u001b[0m \u001b[0mself\u001b[0m\u001b[1;33m.\u001b[0m\u001b[0m_value\u001b[0m\u001b[1;33m\u001b[0m\u001b[1;33m\u001b[0m\u001b[0m\n\u001b[0m\u001b[0;32m    658\u001b[0m \u001b[1;33m\u001b[0m\u001b[0m\n",
      "\u001b[1;31mTransportableException\u001b[0m: TransportableException\n___________________________________________________________________________\nValueError                                         Sun Mar  3 02:03:07 2019\nPID: 3712                   Python 3.7.2: C:\\Users\\Soo\\Anaconda3\\python.exe\n...........................................................................\nC:\\Users\\Soo\\Anaconda3\\lib\\site-packages\\sklearn\\externals\\joblib\\parallel.py in __call__(self=<sklearn.externals.joblib.parallel.BatchedCalls object>)\n    126     def __init__(self, iterator_slice):\n    127         self.items = list(iterator_slice)\n    128         self._size = len(self.items)\n    129 \n    130     def __call__(self):\n--> 131         return [func(*args, **kwargs) for func, args, kwargs in self.items]\n        self.items = [(<function _fit_and_score>, (RandomForestRegressor(bootstrap=True, criterion=...ate=None,\n           verbose=0, warm_start=False),       EnclosedPorch  ScreenPorch  OpenPorchSF  B...         0           0\n\n[1460 rows x 288 columns], array([12.24769912, 12.10901644, 12.31717117, ..., 12.49313327,\n       11.86446927, 11.90159023]), {'score': make_scorer(accuracy_score)}, array([ 292,  293,  294, ..., 1457, 1458, 1459]), array([  0,   1,   2,   3,   4,   5,   6,   7,  ..., 284, 285,\n       286, 287, 288, 289, 290, 291]), 0, {'max_features': 50, 'n_estimators': 3}), {'error_score': 'raise', 'fit_params': {}, 'return_n_test_samples': True, 'return_parameters': False, 'return_times': True, 'return_train_score': 'warn'})]\n    132 \n    133     def __len__(self):\n    134         return self._size\n    135 \n\n...........................................................................\nC:\\Users\\Soo\\Anaconda3\\lib\\site-packages\\sklearn\\externals\\joblib\\parallel.py in <listcomp>(.0=<list_iterator object>)\n    126     def __init__(self, iterator_slice):\n    127         self.items = list(iterator_slice)\n    128         self._size = len(self.items)\n    129 \n    130     def __call__(self):\n--> 131         return [func(*args, **kwargs) for func, args, kwargs in self.items]\n        func = <function _fit_and_score>\n        args = (RandomForestRegressor(bootstrap=True, criterion=...ate=None,\n           verbose=0, warm_start=False),       EnclosedPorch  ScreenPorch  OpenPorchSF  B...         0           0\n\n[1460 rows x 288 columns], array([12.24769912, 12.10901644, 12.31717117, ..., 12.49313327,\n       11.86446927, 11.90159023]), {'score': make_scorer(accuracy_score)}, array([ 292,  293,  294, ..., 1457, 1458, 1459]), array([  0,   1,   2,   3,   4,   5,   6,   7,  ..., 284, 285,\n       286, 287, 288, 289, 290, 291]), 0, {'max_features': 50, 'n_estimators': 3})\n        kwargs = {'error_score': 'raise', 'fit_params': {}, 'return_n_test_samples': True, 'return_parameters': False, 'return_times': True, 'return_train_score': 'warn'}\n    132 \n    133     def __len__(self):\n    134         return self._size\n    135 \n\n...........................................................................\nC:\\Users\\Soo\\Anaconda3\\lib\\site-packages\\sklearn\\model_selection\\_validation.py in _fit_and_score(estimator=RandomForestRegressor(bootstrap=True, criterion=...ate=None,\n           verbose=0, warm_start=False), X=      EnclosedPorch  ScreenPorch  OpenPorchSF  B...         0           0\n\n[1460 rows x 288 columns], y=array([12.24769912, 12.10901644, 12.31717117, ..., 12.49313327,\n       11.86446927, 11.90159023]), scorer={'score': make_scorer(accuracy_score)}, train=array([ 292,  293,  294, ..., 1457, 1458, 1459]), test=array([  0,   1,   2,   3,   4,   5,   6,   7,  ..., 284, 285,\n       286, 287, 288, 289, 290, 291]), verbose=0, parameters={'max_features': 50, 'n_estimators': 3}, fit_params={}, return_train_score='warn', return_parameters=False, return_n_test_samples=True, return_times=True, error_score='raise')\n    483                              \" make sure that it has been spelled correctly.)\")\n    484 \n    485     else:\n    486         fit_time = time.time() - start_time\n    487         # _score will return dict if is_multimetric is True\n--> 488         test_scores = _score(estimator, X_test, y_test, scorer, is_multimetric)\n        test_scores = {}\n        estimator = RandomForestRegressor(bootstrap=True, criterion=...ate=None,\n           verbose=0, warm_start=False)\n        X_test =      EnclosedPorch  ScreenPorch  OpenPorchSF  Bs...          0           0\n\n[292 rows x 288 columns]\n        y_test = array([12.24769912, 12.10901644, 12.31717117, 11...2, 11.94195084,\n       12.35978466, 11.81968196])\n        scorer = {'score': make_scorer(accuracy_score)}\n        is_multimetric = True\n    489         score_time = time.time() - start_time - fit_time\n    490         if return_train_score:\n    491             train_scores = _score(estimator, X_train, y_train, scorer,\n    492                                   is_multimetric)\n\n...........................................................................\nC:\\Users\\Soo\\Anaconda3\\lib\\site-packages\\sklearn\\model_selection\\_validation.py in _score(estimator=RandomForestRegressor(bootstrap=True, criterion=...ate=None,\n           verbose=0, warm_start=False), X_test=     EnclosedPorch  ScreenPorch  OpenPorchSF  Bs...          0           0\n\n[292 rows x 288 columns], y_test=array([12.24769912, 12.10901644, 12.31717117, 11...2, 11.94195084,\n       12.35978466, 11.81968196]), scorer={'score': make_scorer(accuracy_score)}, is_multimetric=True)\n    518 \n    519     Will return a single float if is_multimetric is False and a dict of floats,\n    520     if is_multimetric is True\n    521     \"\"\"\n    522     if is_multimetric:\n--> 523         return _multimetric_score(estimator, X_test, y_test, scorer)\n        estimator = RandomForestRegressor(bootstrap=True, criterion=...ate=None,\n           verbose=0, warm_start=False)\n        X_test =      EnclosedPorch  ScreenPorch  OpenPorchSF  Bs...          0           0\n\n[292 rows x 288 columns]\n        y_test = array([12.24769912, 12.10901644, 12.31717117, 11...2, 11.94195084,\n       12.35978466, 11.81968196])\n        scorer = {'score': make_scorer(accuracy_score)}\n    524     else:\n    525         if y_test is None:\n    526             score = scorer(estimator, X_test)\n    527         else:\n\n...........................................................................\nC:\\Users\\Soo\\Anaconda3\\lib\\site-packages\\sklearn\\model_selection\\_validation.py in _multimetric_score(estimator=RandomForestRegressor(bootstrap=True, criterion=...ate=None,\n           verbose=0, warm_start=False), X_test=     EnclosedPorch  ScreenPorch  OpenPorchSF  Bs...          0           0\n\n[292 rows x 288 columns], y_test=array([12.24769912, 12.10901644, 12.31717117, 11...2, 11.94195084,\n       12.35978466, 11.81968196]), scorers={'score': make_scorer(accuracy_score)})\n    548 \n    549     for name, scorer in scorers.items():\n    550         if y_test is None:\n    551             score = scorer(estimator, X_test)\n    552         else:\n--> 553             score = scorer(estimator, X_test, y_test)\n        score = undefined\n        scorer = make_scorer(accuracy_score)\n        estimator = RandomForestRegressor(bootstrap=True, criterion=...ate=None,\n           verbose=0, warm_start=False)\n        X_test =      EnclosedPorch  ScreenPorch  OpenPorchSF  Bs...          0           0\n\n[292 rows x 288 columns]\n        y_test = array([12.24769912, 12.10901644, 12.31717117, 11...2, 11.94195084,\n       12.35978466, 11.81968196])\n    554 \n    555         if hasattr(score, 'item'):\n    556             try:\n    557                 # e.g. unwrap memmapped scalars\n\n...........................................................................\nC:\\Users\\Soo\\Anaconda3\\lib\\site-packages\\sklearn\\metrics\\scorer.py in __call__(self=make_scorer(accuracy_score), estimator=RandomForestRegressor(bootstrap=True, criterion=...ate=None,\n           verbose=0, warm_start=False), X=     EnclosedPorch  ScreenPorch  OpenPorchSF  Bs...          0           0\n\n[292 rows x 288 columns], y_true=array([12.24769912, 12.10901644, 12.31717117, 11...2, 11.94195084,\n       12.35978466, 11.81968196]), sample_weight=None)\n    103             return self._sign * self._score_func(y_true, y_pred,\n    104                                                  sample_weight=sample_weight,\n    105                                                  **self._kwargs)\n    106         else:\n    107             return self._sign * self._score_func(y_true, y_pred,\n--> 108                                                  **self._kwargs)\n        self._kwargs = {}\n    109 \n    110 \n    111 class _ProbaScorer(_BaseScorer):\n    112     def __call__(self, clf, X, y, sample_weight=None):\n\n...........................................................................\nC:\\Users\\Soo\\Anaconda3\\lib\\site-packages\\sklearn\\metrics\\classification.py in accuracy_score(y_true=array([12.24769912, 12.10901644, 12.31717117, 11...2, 11.94195084,\n       12.35978466, 11.81968196]), y_pred=array([12.26779563, 12.05846903, 12.19265134, 12...4, 11.86373187,\n       12.40567772, 12.07610943]), normalize=True, sample_weight=None)\n    171     >>> accuracy_score(np.array([[0, 1], [1, 1]]), np.ones((2, 2)))\n    172     0.5\n    173     \"\"\"\n    174 \n    175     # Compute accuracy for each possible representation\n--> 176     y_type, y_true, y_pred = _check_targets(y_true, y_pred)\n        y_type = undefined\n        y_true = array([12.24769912, 12.10901644, 12.31717117, 11...2, 11.94195084,\n       12.35978466, 11.81968196])\n        y_pred = array([12.26779563, 12.05846903, 12.19265134, 12...4, 11.86373187,\n       12.40567772, 12.07610943])\n    177     if y_type.startswith('multilabel'):\n    178         differing_labels = count_nonzero(y_true - y_pred, axis=1)\n    179         score = differing_labels == 0\n    180     else:\n\n...........................................................................\nC:\\Users\\Soo\\Anaconda3\\lib\\site-packages\\sklearn\\metrics\\classification.py in _check_targets(y_true=array([12.24769912, 12.10901644, 12.31717117, 11...2, 11.94195084,\n       12.35978466, 11.81968196]), y_pred=array([12.26779563, 12.05846903, 12.19265134, 12...4, 11.86373187,\n       12.40567772, 12.07610943]))\n     83     # We can't have more than one value on y_type => The set is no more needed\n     84     y_type = y_type.pop()\n     85 \n     86     # No metrics support \"multiclass-multioutput\" format\n     87     if (y_type not in [\"binary\", \"multiclass\", \"multilabel-indicator\"]):\n---> 88         raise ValueError(\"{0} is not supported\".format(y_type))\n        y_type = 'continuous'\n     89 \n     90     if y_type in [\"binary\", \"multiclass\"]:\n     91         y_true = column_or_1d(y_true)\n     92         y_pred = column_or_1d(y_pred)\n\nValueError: continuous is not supported\n___________________________________________________________________________",
      "\nDuring handling of the above exception, another exception occurred:\n",
      "\u001b[1;31mJoblibValueError\u001b[0m                          Traceback (most recent call last)",
      "\u001b[1;32m<timed eval>\u001b[0m in \u001b[0;36m<module>\u001b[1;34m\u001b[0m\n",
      "\u001b[1;32m~\\Anaconda3\\lib\\site-packages\\sklearn\\model_selection\\_search.py\u001b[0m in \u001b[0;36mfit\u001b[1;34m(self, X, y, groups, **fit_params)\u001b[0m\n\u001b[0;32m    638\u001b[0m                                   error_score=self.error_score)\n\u001b[0;32m    639\u001b[0m           for parameters, (train, test) in product(candidate_params,\n\u001b[1;32m--> 640\u001b[1;33m                                                    cv.split(X, y, groups)))\n\u001b[0m\u001b[0;32m    641\u001b[0m \u001b[1;33m\u001b[0m\u001b[0m\n\u001b[0;32m    642\u001b[0m         \u001b[1;31m# if one choose to see train score, \"out\" will contain train score info\u001b[0m\u001b[1;33m\u001b[0m\u001b[1;33m\u001b[0m\u001b[1;33m\u001b[0m\u001b[0m\n",
      "\u001b[1;32m~\\Anaconda3\\lib\\site-packages\\sklearn\\externals\\joblib\\parallel.py\u001b[0m in \u001b[0;36m__call__\u001b[1;34m(self, iterable)\u001b[0m\n\u001b[0;32m    787\u001b[0m                 \u001b[1;31m# consumption.\u001b[0m\u001b[1;33m\u001b[0m\u001b[1;33m\u001b[0m\u001b[1;33m\u001b[0m\u001b[0m\n\u001b[0;32m    788\u001b[0m                 \u001b[0mself\u001b[0m\u001b[1;33m.\u001b[0m\u001b[0m_iterating\u001b[0m \u001b[1;33m=\u001b[0m \u001b[1;32mFalse\u001b[0m\u001b[1;33m\u001b[0m\u001b[1;33m\u001b[0m\u001b[0m\n\u001b[1;32m--> 789\u001b[1;33m             \u001b[0mself\u001b[0m\u001b[1;33m.\u001b[0m\u001b[0mretrieve\u001b[0m\u001b[1;33m(\u001b[0m\u001b[1;33m)\u001b[0m\u001b[1;33m\u001b[0m\u001b[1;33m\u001b[0m\u001b[0m\n\u001b[0m\u001b[0;32m    790\u001b[0m             \u001b[1;31m# Make sure that we get a last message telling us we are done\u001b[0m\u001b[1;33m\u001b[0m\u001b[1;33m\u001b[0m\u001b[1;33m\u001b[0m\u001b[0m\n\u001b[0;32m    791\u001b[0m             \u001b[0melapsed_time\u001b[0m \u001b[1;33m=\u001b[0m \u001b[0mtime\u001b[0m\u001b[1;33m.\u001b[0m\u001b[0mtime\u001b[0m\u001b[1;33m(\u001b[0m\u001b[1;33m)\u001b[0m \u001b[1;33m-\u001b[0m \u001b[0mself\u001b[0m\u001b[1;33m.\u001b[0m\u001b[0m_start_time\u001b[0m\u001b[1;33m\u001b[0m\u001b[1;33m\u001b[0m\u001b[0m\n",
      "\u001b[1;32m~\\Anaconda3\\lib\\site-packages\\sklearn\\externals\\joblib\\parallel.py\u001b[0m in \u001b[0;36mretrieve\u001b[1;34m(self)\u001b[0m\n\u001b[0;32m    738\u001b[0m                     \u001b[0mexception\u001b[0m \u001b[1;33m=\u001b[0m \u001b[0mexception_type\u001b[0m\u001b[1;33m(\u001b[0m\u001b[0mreport\u001b[0m\u001b[1;33m)\u001b[0m\u001b[1;33m\u001b[0m\u001b[1;33m\u001b[0m\u001b[0m\n\u001b[0;32m    739\u001b[0m \u001b[1;33m\u001b[0m\u001b[0m\n\u001b[1;32m--> 740\u001b[1;33m                     \u001b[1;32mraise\u001b[0m \u001b[0mexception\u001b[0m\u001b[1;33m\u001b[0m\u001b[1;33m\u001b[0m\u001b[0m\n\u001b[0m\u001b[0;32m    741\u001b[0m \u001b[1;33m\u001b[0m\u001b[0m\n\u001b[0;32m    742\u001b[0m     \u001b[1;32mdef\u001b[0m \u001b[0m__call__\u001b[0m\u001b[1;33m(\u001b[0m\u001b[0mself\u001b[0m\u001b[1;33m,\u001b[0m \u001b[0miterable\u001b[0m\u001b[1;33m)\u001b[0m\u001b[1;33m:\u001b[0m\u001b[1;33m\u001b[0m\u001b[1;33m\u001b[0m\u001b[0m\n",
      "\u001b[1;31mJoblibValueError\u001b[0m: JoblibValueError\n___________________________________________________________________________\nMultiprocessing exception:\n...........................................................................\nC:\\Users\\Soo\\Anaconda3\\lib\\runpy.py in _run_module_as_main(mod_name='ipykernel_launcher', alter_argv=1)\n    188         sys.exit(msg)\n    189     main_globals = sys.modules[\"__main__\"].__dict__\n    190     if alter_argv:\n    191         sys.argv[0] = mod_spec.origin\n    192     return _run_code(code, main_globals, None,\n--> 193                      \"__main__\", mod_spec)\n        mod_spec = ModuleSpec(name='ipykernel_launcher', loader=<_f...nda3\\\\lib\\\\site-packages\\\\ipykernel_launcher.py')\n    194 \n    195 def run_module(mod_name, init_globals=None,\n    196                run_name=None, alter_sys=False):\n    197     \"\"\"Execute a module's code without importing it\n\n...........................................................................\nC:\\Users\\Soo\\Anaconda3\\lib\\runpy.py in _run_code(code=<code object <module> at 0x000001A8BD781300, fil...lib\\site-packages\\ipykernel_launcher.py\", line 5>, run_globals={'__annotations__': {}, '__builtins__': <module 'builtins' (built-in)>, '__cached__': r'C:\\Users\\Soo\\Anaconda3\\lib\\site-packages\\__pycache__\\ipykernel_launcher.cpython-37.pyc', '__doc__': 'Entry point for launching an IPython kernel.\\n\\nTh...orts until\\nafter removing the cwd from sys.path.\\n', '__file__': r'C:\\Users\\Soo\\Anaconda3\\lib\\site-packages\\ipykernel_launcher.py', '__loader__': <_frozen_importlib_external.SourceFileLoader object>, '__name__': '__main__', '__package__': '', '__spec__': ModuleSpec(name='ipykernel_launcher', loader=<_f...nda3\\\\lib\\\\site-packages\\\\ipykernel_launcher.py'), 'app': <module 'ipykernel.kernelapp' from 'C:\\\\Users\\\\S...a3\\\\lib\\\\site-packages\\\\ipykernel\\\\kernelapp.py'>, ...}, init_globals=None, mod_name='__main__', mod_spec=ModuleSpec(name='ipykernel_launcher', loader=<_f...nda3\\\\lib\\\\site-packages\\\\ipykernel_launcher.py'), pkg_name='', script_name=None)\n     80                        __cached__ = cached,\n     81                        __doc__ = None,\n     82                        __loader__ = loader,\n     83                        __package__ = pkg_name,\n     84                        __spec__ = mod_spec)\n---> 85     exec(code, run_globals)\n        code = <code object <module> at 0x000001A8BD781300, fil...lib\\site-packages\\ipykernel_launcher.py\", line 5>\n        run_globals = {'__annotations__': {}, '__builtins__': <module 'builtins' (built-in)>, '__cached__': r'C:\\Users\\Soo\\Anaconda3\\lib\\site-packages\\__pycache__\\ipykernel_launcher.cpython-37.pyc', '__doc__': 'Entry point for launching an IPython kernel.\\n\\nTh...orts until\\nafter removing the cwd from sys.path.\\n', '__file__': r'C:\\Users\\Soo\\Anaconda3\\lib\\site-packages\\ipykernel_launcher.py', '__loader__': <_frozen_importlib_external.SourceFileLoader object>, '__name__': '__main__', '__package__': '', '__spec__': ModuleSpec(name='ipykernel_launcher', loader=<_f...nda3\\\\lib\\\\site-packages\\\\ipykernel_launcher.py'), 'app': <module 'ipykernel.kernelapp' from 'C:\\\\Users\\\\S...a3\\\\lib\\\\site-packages\\\\ipykernel\\\\kernelapp.py'>, ...}\n     86     return run_globals\n     87 \n     88 def _run_module_code(code, init_globals=None,\n     89                     mod_name=None, mod_spec=None,\n\n...........................................................................\nC:\\Users\\Soo\\Anaconda3\\lib\\site-packages\\ipykernel_launcher.py in <module>()\n     11     # This is added back by InteractiveShellApp.init_path()\n     12     if sys.path[0] == '':\n     13         del sys.path[0]\n     14 \n     15     from ipykernel import kernelapp as app\n---> 16     app.launch_new_instance()\n\n...........................................................................\nC:\\Users\\Soo\\Anaconda3\\lib\\site-packages\\traitlets\\config\\application.py in launch_instance(cls=<class 'ipykernel.kernelapp.IPKernelApp'>, argv=None, **kwargs={})\n    653 \n    654         If a global instance already exists, this reinitializes and starts it\n    655         \"\"\"\n    656         app = cls.instance(**kwargs)\n    657         app.initialize(argv)\n--> 658         app.start()\n        app.start = <bound method IPKernelApp.start of <ipykernel.kernelapp.IPKernelApp object>>\n    659 \n    660 #-----------------------------------------------------------------------------\n    661 # utility functions, for convenience\n    662 #-----------------------------------------------------------------------------\n\n...........................................................................\nC:\\Users\\Soo\\Anaconda3\\lib\\site-packages\\ipykernel\\kernelapp.py in start(self=<ipykernel.kernelapp.IPKernelApp object>)\n    500         if self.poller is not None:\n    501             self.poller.start()\n    502         self.kernel.start()\n    503         self.io_loop = ioloop.IOLoop.current()\n    504         try:\n--> 505             self.io_loop.start()\n        self.io_loop.start = <bound method BaseAsyncIOLoop.start of <tornado.platform.asyncio.AsyncIOMainLoop object>>\n    506         except KeyboardInterrupt:\n    507             pass\n    508 \n    509 launch_new_instance = IPKernelApp.launch_instance\n\n...........................................................................\nC:\\Users\\Soo\\Anaconda3\\lib\\site-packages\\tornado\\platform\\asyncio.py in start(self=<tornado.platform.asyncio.AsyncIOMainLoop object>)\n    127         except (RuntimeError, AssertionError):\n    128             old_loop = None\n    129         try:\n    130             self._setup_logging()\n    131             asyncio.set_event_loop(self.asyncio_loop)\n--> 132             self.asyncio_loop.run_forever()\n        self.asyncio_loop.run_forever = <bound method BaseEventLoop.run_forever of <_Win...EventLoop running=True closed=False debug=False>>\n    133         finally:\n    134             asyncio.set_event_loop(old_loop)\n    135 \n    136     def stop(self):\n\n...........................................................................\nC:\\Users\\Soo\\Anaconda3\\lib\\asyncio\\base_events.py in run_forever(self=<_WindowsSelectorEventLoop running=True closed=False debug=False>)\n    534         sys.set_asyncgen_hooks(firstiter=self._asyncgen_firstiter_hook,\n    535                                finalizer=self._asyncgen_finalizer_hook)\n    536         try:\n    537             events._set_running_loop(self)\n    538             while True:\n--> 539                 self._run_once()\n        self._run_once = <bound method BaseEventLoop._run_once of <_Windo...EventLoop running=True closed=False debug=False>>\n    540                 if self._stopping:\n    541                     break\n    542         finally:\n    543             self._stopping = False\n\n...........................................................................\nC:\\Users\\Soo\\Anaconda3\\lib\\asyncio\\base_events.py in _run_once(self=<_WindowsSelectorEventLoop running=True closed=False debug=False>)\n   1770                         logger.warning('Executing %s took %.3f seconds',\n   1771                                        _format_handle(handle), dt)\n   1772                 finally:\n   1773                     self._current_handle = None\n   1774             else:\n-> 1775                 handle._run()\n        handle._run = <bound method Handle._run of <Handle IOLoop._run_callback(functools.par...328>, ...]))>))>>\n   1776         handle = None  # Needed to break cycles when an exception occurs.\n   1777 \n   1778     def _set_coroutine_origin_tracking(self, enabled):\n   1779         if bool(enabled) == bool(self._coroutine_origin_tracking_enabled):\n\n...........................................................................\nC:\\Users\\Soo\\Anaconda3\\lib\\asyncio\\events.py in _run(self=<Handle IOLoop._run_callback(functools.par...328>, ...]))>))>)\n     83     def cancelled(self):\n     84         return self._cancelled\n     85 \n     86     def _run(self):\n     87         try:\n---> 88             self._context.run(self._callback, *self._args)\n        self._context.run = <built-in method run of Context object>\n        self._callback = <bound method IOLoop._run_callback of <tornado.platform.asyncio.AsyncIOMainLoop object>>\n        self._args = (functools.partial(<function wrap.<locals>.null_w...BA0270>, <zmq.sugar.fr...001A8BFBA0328>, ...]))>),)\n     89         except Exception as exc:\n     90             cb = format_helpers._format_callback_source(\n     91                 self._callback, self._args)\n     92             msg = f'Exception in callback {cb}'\n\n...........................................................................\nC:\\Users\\Soo\\Anaconda3\\lib\\site-packages\\tornado\\ioloop.py in _run_callback(self=<tornado.platform.asyncio.AsyncIOMainLoop object>, callback=functools.partial(<function wrap.<locals>.null_w...BA0270>, <zmq.sugar.fr...001A8BFBA0328>, ...]))>))\n    753         \"\"\"Runs a callback with error handling.\n    754 \n    755         For use in subclasses.\n    756         \"\"\"\n    757         try:\n--> 758             ret = callback()\n        ret = undefined\n        callback = functools.partial(<function wrap.<locals>.null_w...BA0270>, <zmq.sugar.fr...001A8BFBA0328>, ...]))>)\n    759             if ret is not None:\n    760                 from tornado import gen\n    761                 # Functions that return Futures typically swallow all\n    762                 # exceptions and store them in the Future.  If a Future\n\n...........................................................................\nC:\\Users\\Soo\\Anaconda3\\lib\\site-packages\\tornado\\stack_context.py in null_wrapper(*args=(<Future finished result=(10, 363, <bound method....FBA0270>, <zmq.sugar.fr...001A8BFBA0328>, ...]))>,), **kwargs={})\n    295         # Fast path when there are no active contexts.\n    296         def null_wrapper(*args, **kwargs):\n    297             try:\n    298                 current_state = _state.contexts\n    299                 _state.contexts = cap_contexts[0]\n--> 300                 return fn(*args, **kwargs)\n        args = (<Future finished result=(10, 363, <bound method....FBA0270>, <zmq.sugar.fr...001A8BFBA0328>, ...]))>,)\n        kwargs = {}\n    301             finally:\n    302                 _state.contexts = current_state\n    303         null_wrapper._wrapped = True\n    304         return null_wrapper\n\n...........................................................................\nC:\\Users\\Soo\\Anaconda3\\lib\\site-packages\\tornado\\gen.py in inner(f=None)\n   1228             return False\n   1229         elif not self.future.done():\n   1230             def inner(f):\n   1231                 # Break a reference cycle to speed GC.\n   1232                 f = None  # noqa\n-> 1233                 self.run()\n   1234             self.io_loop.add_future(\n   1235                 self.future, inner)\n   1236             return False\n   1237         return True\n\n...........................................................................\nC:\\Users\\Soo\\Anaconda3\\lib\\site-packages\\tornado\\gen.py in run(self=<tornado.gen.Runner object>)\n   1142                         finally:\n   1143                             # Break up a reference to itself\n   1144                             # for faster GC on CPython.\n   1145                             exc_info = None\n   1146                     else:\n-> 1147                         yielded = self.gen.send(value)\n        yielded = undefined\n        self.gen.send = <built-in method send of generator object>\n        value = (10, 363, <bound method Kernel.dispatch_shell of <ipykernel.ipkernel.IPythonKernel object>>, (<zmq.eventloop.zmqstream.ZMQStream object>, [<zmq.sugar.frame.Frame object>, <zmq.sugar.frame.Frame object>, <zmq.sugar.frame.Frame object>, <zmq.sugar.frame.Frame object>, <zmq.sugar.frame.Frame object>, <zmq.sugar.frame.Frame object>, <zmq.sugar.frame.Frame object>]))\n   1148 \n   1149                     if stack_context._state.contexts is not orig_stack_contexts:\n   1150                         self.gen.throw(\n   1151                             stack_context.StackContextInconsistentError(\n\n...........................................................................\nC:\\Users\\Soo\\Anaconda3\\lib\\site-packages\\ipykernel\\kernelbase.py in process_one(self=<ipykernel.ipkernel.IPythonKernel object>, wait=True)\n    352         else:\n    353             try:\n    354                 priority, t, dispatch, args = self.msg_queue.get_nowait()\n    355             except QueueEmpty:\n    356                 return None\n--> 357         yield gen.maybe_future(dispatch(*args))\n        dispatch = <bound method Kernel.dispatch_shell of <ipykernel.ipkernel.IPythonKernel object>>\n        args = (<zmq.eventloop.zmqstream.ZMQStream object>, [<zmq.sugar.frame.Frame object>, <zmq.sugar.frame.Frame object>, <zmq.sugar.frame.Frame object>, <zmq.sugar.frame.Frame object>, <zmq.sugar.frame.Frame object>, <zmq.sugar.frame.Frame object>, <zmq.sugar.frame.Frame object>])\n    358 \n    359     @gen.coroutine\n    360     def dispatch_queue(self):\n    361         \"\"\"Coroutine to preserve order of message handling\n\n...........................................................................\nC:\\Users\\Soo\\Anaconda3\\lib\\site-packages\\tornado\\gen.py in wrapper(*args=(<ipykernel.ipkernel.IPythonKernel object>, <zmq.eventloop.zmqstream.ZMQStream object>, [<zmq.sugar.frame.Frame object>, <zmq.sugar.frame.Frame object>, <zmq.sugar.frame.Frame object>, <zmq.sugar.frame.Frame object>, <zmq.sugar.frame.Frame object>, <zmq.sugar.frame.Frame object>, <zmq.sugar.frame.Frame object>]), **kwargs={})\n    321                 # never actually yields, which in turn allows us to\n    322                 # use \"optional\" coroutines in critical path code without\n    323                 # performance penalty for the synchronous case.\n    324                 try:\n    325                     orig_stack_contexts = stack_context._state.contexts\n--> 326                     yielded = next(result)\n        yielded = undefined\n        result = <generator object Kernel.dispatch_shell>\n    327                     if stack_context._state.contexts is not orig_stack_contexts:\n    328                         yielded = _create_future()\n    329                         yielded.set_exception(\n    330                             stack_context.StackContextInconsistentError(\n\n...........................................................................\nC:\\Users\\Soo\\Anaconda3\\lib\\site-packages\\ipykernel\\kernelbase.py in dispatch_shell(self=<ipykernel.ipkernel.IPythonKernel object>, stream=<zmq.eventloop.zmqstream.ZMQStream object>, msg={'buffers': [], 'content': {'allow_stdin': True, 'code': 'from sklearn.model_selection import GridSearchCV...1)\\n%time grid_search_forest.fit(X_train, y_train)', 'silent': False, 'stop_on_error': True, 'store_history': True, 'user_expressions': {}}, 'header': {'date': datetime.datetime(2019, 3, 3, 7, 3, 2, 179749, tzinfo=tzutc()), 'msg_id': '73292689ed0a4b1784c557365c558219', 'msg_type': 'execute_request', 'session': '9ca9305f56eb421bbee25ddc00dc24a5', 'username': 'username', 'version': '5.2'}, 'metadata': {}, 'msg_id': '73292689ed0a4b1784c557365c558219', 'msg_type': 'execute_request', 'parent_header': {}})\n    262             try:\n    263                 self.pre_handler_hook()\n    264             except Exception:\n    265                 self.log.debug(\"Unable to signal in pre_handler_hook:\", exc_info=True)\n    266             try:\n--> 267                 yield gen.maybe_future(handler(stream, idents, msg))\n        handler = <bound method Kernel.execute_request of <ipykernel.ipkernel.IPythonKernel object>>\n        stream = <zmq.eventloop.zmqstream.ZMQStream object>\n        idents = [b'9ca9305f56eb421bbee25ddc00dc24a5']\n        msg = {'buffers': [], 'content': {'allow_stdin': True, 'code': 'from sklearn.model_selection import GridSearchCV...1)\\n%time grid_search_forest.fit(X_train, y_train)', 'silent': False, 'stop_on_error': True, 'store_history': True, 'user_expressions': {}}, 'header': {'date': datetime.datetime(2019, 3, 3, 7, 3, 2, 179749, tzinfo=tzutc()), 'msg_id': '73292689ed0a4b1784c557365c558219', 'msg_type': 'execute_request', 'session': '9ca9305f56eb421bbee25ddc00dc24a5', 'username': 'username', 'version': '5.2'}, 'metadata': {}, 'msg_id': '73292689ed0a4b1784c557365c558219', 'msg_type': 'execute_request', 'parent_header': {}}\n    268             except Exception:\n    269                 self.log.error(\"Exception in message handler:\", exc_info=True)\n    270             finally:\n    271                 try:\n\n...........................................................................\nC:\\Users\\Soo\\Anaconda3\\lib\\site-packages\\tornado\\gen.py in wrapper(*args=(<ipykernel.ipkernel.IPythonKernel object>, <zmq.eventloop.zmqstream.ZMQStream object>, [b'9ca9305f56eb421bbee25ddc00dc24a5'], {'buffers': [], 'content': {'allow_stdin': True, 'code': 'from sklearn.model_selection import GridSearchCV...1)\\n%time grid_search_forest.fit(X_train, y_train)', 'silent': False, 'stop_on_error': True, 'store_history': True, 'user_expressions': {}}, 'header': {'date': datetime.datetime(2019, 3, 3, 7, 3, 2, 179749, tzinfo=tzutc()), 'msg_id': '73292689ed0a4b1784c557365c558219', 'msg_type': 'execute_request', 'session': '9ca9305f56eb421bbee25ddc00dc24a5', 'username': 'username', 'version': '5.2'}, 'metadata': {}, 'msg_id': '73292689ed0a4b1784c557365c558219', 'msg_type': 'execute_request', 'parent_header': {}}), **kwargs={})\n    321                 # never actually yields, which in turn allows us to\n    322                 # use \"optional\" coroutines in critical path code without\n    323                 # performance penalty for the synchronous case.\n    324                 try:\n    325                     orig_stack_contexts = stack_context._state.contexts\n--> 326                     yielded = next(result)\n        yielded = undefined\n        result = <generator object Kernel.execute_request>\n    327                     if stack_context._state.contexts is not orig_stack_contexts:\n    328                         yielded = _create_future()\n    329                         yielded.set_exception(\n    330                             stack_context.StackContextInconsistentError(\n\n...........................................................................\nC:\\Users\\Soo\\Anaconda3\\lib\\site-packages\\ipykernel\\kernelbase.py in execute_request(self=<ipykernel.ipkernel.IPythonKernel object>, stream=<zmq.eventloop.zmqstream.ZMQStream object>, ident=[b'9ca9305f56eb421bbee25ddc00dc24a5'], parent={'buffers': [], 'content': {'allow_stdin': True, 'code': 'from sklearn.model_selection import GridSearchCV...1)\\n%time grid_search_forest.fit(X_train, y_train)', 'silent': False, 'stop_on_error': True, 'store_history': True, 'user_expressions': {}}, 'header': {'date': datetime.datetime(2019, 3, 3, 7, 3, 2, 179749, tzinfo=tzutc()), 'msg_id': '73292689ed0a4b1784c557365c558219', 'msg_type': 'execute_request', 'session': '9ca9305f56eb421bbee25ddc00dc24a5', 'username': 'username', 'version': '5.2'}, 'metadata': {}, 'msg_id': '73292689ed0a4b1784c557365c558219', 'msg_type': 'execute_request', 'parent_header': {}})\n    529             self._publish_execute_input(code, parent, self.execution_count)\n    530 \n    531         reply_content = yield gen.maybe_future(\n    532             self.do_execute(\n    533                 code, silent, store_history,\n--> 534                 user_expressions, allow_stdin,\n        user_expressions = {}\n        allow_stdin = True\n    535             )\n    536         )\n    537 \n    538         # Flush output before sending the reply.\n\n...........................................................................\nC:\\Users\\Soo\\Anaconda3\\lib\\site-packages\\tornado\\gen.py in wrapper(*args=(<ipykernel.ipkernel.IPythonKernel object>, 'from sklearn.model_selection import GridSearchCV...1)\\n%time grid_search_forest.fit(X_train, y_train)', False, True, {}, True), **kwargs={})\n    321                 # never actually yields, which in turn allows us to\n    322                 # use \"optional\" coroutines in critical path code without\n    323                 # performance penalty for the synchronous case.\n    324                 try:\n    325                     orig_stack_contexts = stack_context._state.contexts\n--> 326                     yielded = next(result)\n        yielded = undefined\n        result = <generator object IPythonKernel.do_execute>\n    327                     if stack_context._state.contexts is not orig_stack_contexts:\n    328                         yielded = _create_future()\n    329                         yielded.set_exception(\n    330                             stack_context.StackContextInconsistentError(\n\n...........................................................................\nC:\\Users\\Soo\\Anaconda3\\lib\\site-packages\\ipykernel\\ipkernel.py in do_execute(self=<ipykernel.ipkernel.IPythonKernel object>, code='from sklearn.model_selection import GridSearchCV...1)\\n%time grid_search_forest.fit(X_train, y_train)', silent=False, store_history=True, user_expressions={}, allow_stdin=True)\n    289                     res = yield coro_future\n    290             else:\n    291                 # runner isn't already running,\n    292                 # make synchronous call,\n    293                 # letting shell dispatch to loop runners\n--> 294                 res = shell.run_cell(code, store_history=store_history, silent=silent)\n        res = undefined\n        code = 'from sklearn.model_selection import GridSearchCV...1)\\n%time grid_search_forest.fit(X_train, y_train)'\n        store_history = True\n        silent = False\n    295         finally:\n    296             self._restore_input()\n    297 \n    298         if res.error_before_exec is not None:\n\n...........................................................................\nC:\\Users\\Soo\\Anaconda3\\lib\\site-packages\\ipykernel\\zmqshell.py in run_cell(self=<ipykernel.zmqshell.ZMQInteractiveShell object>, *args=('from sklearn.model_selection import GridSearchCV...1)\\n%time grid_search_forest.fit(X_train, y_train)',), **kwargs={'silent': False, 'store_history': True})\n    531             )\n    532         self.payload_manager.write_payload(payload)\n    533 \n    534     def run_cell(self, *args, **kwargs):\n    535         self._last_traceback = None\n--> 536         return super(ZMQInteractiveShell, self).run_cell(*args, **kwargs)\n        self.run_cell = <bound method ZMQInteractiveShell.run_cell of <ipykernel.zmqshell.ZMQInteractiveShell object>>\n        args = ('from sklearn.model_selection import GridSearchCV...1)\\n%time grid_search_forest.fit(X_train, y_train)',)\n        kwargs = {'silent': False, 'store_history': True}\n    537 \n    538     def _showtraceback(self, etype, evalue, stb):\n    539         # try to preserve ordering of tracebacks and print statements\n    540         sys.stdout.flush()\n\n...........................................................................\nC:\\Users\\Soo\\Anaconda3\\lib\\site-packages\\IPython\\core\\interactiveshell.py in run_cell(self=<ipykernel.zmqshell.ZMQInteractiveShell object>, raw_cell='from sklearn.model_selection import GridSearchCV...1)\\n%time grid_search_forest.fit(X_train, y_train)', store_history=True, silent=False, shell_futures=True)\n   2814         result : :class:`ExecutionResult`\n   2815         \"\"\"\n   2816         result = None\n   2817         try:\n   2818             result = self._run_cell(\n-> 2819                 raw_cell, store_history, silent, shell_futures)\n        raw_cell = 'from sklearn.model_selection import GridSearchCV...1)\\n%time grid_search_forest.fit(X_train, y_train)'\n        store_history = True\n        silent = False\n        shell_futures = True\n   2820         finally:\n   2821             self.events.trigger('post_execute')\n   2822             if not silent:\n   2823                 self.events.trigger('post_run_cell', result)\n\n...........................................................................\nC:\\Users\\Soo\\Anaconda3\\lib\\site-packages\\IPython\\core\\interactiveshell.py in _run_cell(self=<ipykernel.zmqshell.ZMQInteractiveShell object>, raw_cell='from sklearn.model_selection import GridSearchCV...1)\\n%time grid_search_forest.fit(X_train, y_train)', store_history=True, silent=False, shell_futures=True)\n   2840             runner = self.loop_runner\n   2841         else:\n   2842             runner = _pseudo_sync_runner\n   2843 \n   2844         try:\n-> 2845             return runner(coro)\n        runner = <function _pseudo_sync_runner>\n        coro = <generator object InteractiveShell.run_cell_async>\n   2846         except BaseException as e:\n   2847             info = ExecutionInfo(raw_cell, store_history, silent, shell_futures)\n   2848             result = ExecutionResult(info)\n   2849             result.error_in_exec = e\n\n...........................................................................\nC:\\Users\\Soo\\Anaconda3\\lib\\site-packages\\IPython\\core\\async_helpers.py in _pseudo_sync_runner(coro=<generator object InteractiveShell.run_cell_async>)\n     62 \n     63     Credit to Nathaniel Smith\n     64 \n     65     \"\"\"\n     66     try:\n---> 67         coro.send(None)\n        coro.send = <built-in method send of generator object>\n     68     except StopIteration as exc:\n     69         return exc.value\n     70     else:\n     71         # TODO: do not raise but return an execution result with the right info.\n\n...........................................................................\nC:\\Users\\Soo\\Anaconda3\\lib\\site-packages\\IPython\\core\\interactiveshell.py in run_cell_async(self=<ipykernel.zmqshell.ZMQInteractiveShell object>, raw_cell='from sklearn.model_selection import GridSearchCV...1)\\n%time grid_search_forest.fit(X_train, y_train)', store_history=True, silent=False, shell_futures=True)\n   3015                 interactivity = \"none\" if silent else self.ast_node_interactivity\n   3016                 if _run_async:\n   3017                     interactivity = 'async'\n   3018 \n   3019                 has_raised = yield from self.run_ast_nodes(code_ast.body, cell_name,\n-> 3020                        interactivity=interactivity, compiler=compiler, result=result)\n        interactivity = 'last_expr'\n        compiler = <IPython.core.compilerop.CachingCompiler object>\n   3021 \n   3022                 self.last_execution_succeeded = not has_raised\n   3023                 self.last_execution_result = result\n   3024 \n\n...........................................................................\nC:\\Users\\Soo\\Anaconda3\\lib\\site-packages\\IPython\\core\\interactiveshell.py in run_ast_nodes(self=<ipykernel.zmqshell.ZMQInteractiveShell object>, nodelist=[<_ast.ImportFrom object>, <_ast.Assign object>, <_ast.Assign object>, <_ast.Expr object>], cell_name='<ipython-input-339-c0a3fa9f08ec>', interactivity='last', compiler=<IPython.core.compilerop.CachingCompiler object>, result=<ExecutionResult object at 1a8c5ece320, executio...rue silent=False shell_futures=True> result=None>)\n   3186                         return True\n   3187 \n   3188                 for i, node in enumerate(to_run_interactive):\n   3189                     mod = ast.Interactive([node])\n   3190                     code = compiler(mod, cell_name, \"single\")\n-> 3191                     if (yield from self.run_code(code, result)):\n        self.run_code = <bound method InteractiveShell.run_code of <ipykernel.zmqshell.ZMQInteractiveShell object>>\n        code = <code object <module> at 0x000001A8C5A85A50, file \"<ipython-input-339-c0a3fa9f08ec>\", line 9>\n        result = <ExecutionResult object at 1a8c5ece320, executio...rue silent=False shell_futures=True> result=None>\n   3192                         return True\n   3193 \n   3194             # Flush softspace\n   3195             if softspace(sys.stdout, 0):\n\n...........................................................................\nC:\\Users\\Soo\\Anaconda3\\lib\\site-packages\\IPython\\core\\interactiveshell.py in run_code(self=<ipykernel.zmqshell.ZMQInteractiveShell object>, code_obj=<code object <module> at 0x000001A8C5A85A50, file \"<ipython-input-339-c0a3fa9f08ec>\", line 9>, result=<ExecutionResult object at 1a8c5ece320, executio...rue silent=False shell_futures=True> result=None>, async_=False)\n   3262                 if async_:\n   3263                     last_expr = (yield from self._async_exec(code_obj, self.user_ns))\n   3264                     code = compile('last_expr', 'fake', \"single\")\n   3265                     exec(code, {'last_expr': last_expr})\n   3266                 else:\n-> 3267                     exec(code_obj, self.user_global_ns, self.user_ns)\n        code_obj = <code object <module> at 0x000001A8C5A85A50, file \"<ipython-input-339-c0a3fa9f08ec>\", line 9>\n        self.user_global_ns = {'BaseEstimator': <class 'sklearn.base.BaseEstimator'>, 'BayesianRidge': <class 'sklearn.linear_model.bayes.BayesianRidge'>, 'ChiSquare': <function ChiSquare>, 'EN': Pipeline(memory=None,\n     steps=[('robustscaler...ection='cyclic', tol=0.0001, warm_start=False))]), 'ENet': ElasticNet(alpha=1, copy_X=True, fit_intercept=T...selection='cyclic', tol=0.0001, warm_start=False), 'ENet_pred': array([118935.01379472, 158826.45339201, 188379....0091.33536502, 123318.00754889, 222909.94956696]), 'ENet_train_pred': array([12.2308963 , 12.10861007, 12.29244228, ..., 12.45220974,\n       11.84012015, 11.90302533]), 'ElasticNet': <class 'sklearn.linear_model.coordinate_descent.ElasticNet'>, 'GBR': GradientBoostingRegressor(alpha=0.9, criterion='...      subsample=1.0, verbose=0, warm_start=False), 'GBoost': GradientBoostingRegressor(alpha=0.9, criterion='...le=1.0, verbose=0,\n             warm_start=False), ...}\n        self.user_ns = {'BaseEstimator': <class 'sklearn.base.BaseEstimator'>, 'BayesianRidge': <class 'sklearn.linear_model.bayes.BayesianRidge'>, 'ChiSquare': <function ChiSquare>, 'EN': Pipeline(memory=None,\n     steps=[('robustscaler...ection='cyclic', tol=0.0001, warm_start=False))]), 'ENet': ElasticNet(alpha=1, copy_X=True, fit_intercept=T...selection='cyclic', tol=0.0001, warm_start=False), 'ENet_pred': array([118935.01379472, 158826.45339201, 188379....0091.33536502, 123318.00754889, 222909.94956696]), 'ENet_train_pred': array([12.2308963 , 12.10861007, 12.29244228, ..., 12.45220974,\n       11.84012015, 11.90302533]), 'ElasticNet': <class 'sklearn.linear_model.coordinate_descent.ElasticNet'>, 'GBR': GradientBoostingRegressor(alpha=0.9, criterion='...      subsample=1.0, verbose=0, warm_start=False), 'GBoost': GradientBoostingRegressor(alpha=0.9, criterion='...le=1.0, verbose=0,\n             warm_start=False), ...}\n   3268             finally:\n   3269                 # Reset our crash handler in place\n   3270                 sys.excepthook = old_excepthook\n   3271         except SystemExit as e:\n\n...........................................................................\nC:\\Users\\Soo\\Desktop\\nycdsa\\project-ML\\<ipython-input-339-c0a3fa9f08ec> in <module>()\n      4 param_grid = [\n      5     {'n_estimators': [3, 10, 30, 60, 90], 'max_features': [50,300]},\n      6     {'bootstrap': [True], 'n_estimators': [3, 10, 30, 60, 90], 'max_features': [50,100,150,200,250]},\n      7 ]\n      8 grid_search_forest = GridSearchCV(randomForest, param_grid , scoring='accuracy', cv=5, n_jobs=-1)\n----> 9 get_ipython().run_line_magic('time', 'grid_search_forest.fit(X_train, y_train)')\n\n...........................................................................\nC:\\Users\\Soo\\Anaconda3\\lib\\site-packages\\IPython\\core\\interactiveshell.py in run_line_magic(self=<ipykernel.zmqshell.ZMQInteractiveShell object>, magic_name='time', line='grid_search_forest.fit(X_train, y_train)', _stack_depth=1)\n   2282             kwargs = {}\n   2283             # Grab local namespace if we need it:\n   2284             if getattr(fn, \"needs_local_scope\", False):\n   2285                 kwargs['local_ns'] = sys._getframe(stack_depth).f_locals\n   2286             with self.builtin_trap:\n-> 2287                 result = fn(*args,**kwargs)\n        result = undefined\n        fn = <bound method ExecutionMagics.time of <IPython.core.magics.execution.ExecutionMagics object>>\n        args = ['grid_search_forest.fit(X_train, y_train)']\n        kwargs = {'local_ns': {'BaseEstimator': <class 'sklearn.base.BaseEstimator'>, 'BayesianRidge': <class 'sklearn.linear_model.bayes.BayesianRidge'>, 'ChiSquare': <function ChiSquare>, 'EN': Pipeline(memory=None,\n     steps=[('robustscaler...ection='cyclic', tol=0.0001, warm_start=False))]), 'ENet': ElasticNet(alpha=1, copy_X=True, fit_intercept=T...selection='cyclic', tol=0.0001, warm_start=False), 'ENet_pred': array([118935.01379472, 158826.45339201, 188379....0091.33536502, 123318.00754889, 222909.94956696]), 'ENet_train_pred': array([12.2308963 , 12.10861007, 12.29244228, ..., 12.45220974,\n       11.84012015, 11.90302533]), 'ElasticNet': <class 'sklearn.linear_model.coordinate_descent.ElasticNet'>, 'GBR': GradientBoostingRegressor(alpha=0.9, criterion='...      subsample=1.0, verbose=0, warm_start=False), 'GBoost': GradientBoostingRegressor(alpha=0.9, criterion='...le=1.0, verbose=0,\n             warm_start=False), ...}}\n   2288             return result\n   2289 \n   2290     def run_cell_magic(self, magic_name, line, cell):\n   2291         \"\"\"Execute the given cell magic.\n\n...........................................................................\nC:\\Users\\Soo\\Desktop\\nycdsa\\project-ML\\<decorator-gen-63> in time(self=<IPython.core.magics.execution.ExecutionMagics object>, line='grid_search_forest.fit(X_train, y_train)', cell=None, local_ns={'BaseEstimator': <class 'sklearn.base.BaseEstimator'>, 'BayesianRidge': <class 'sklearn.linear_model.bayes.BayesianRidge'>, 'ChiSquare': <function ChiSquare>, 'EN': Pipeline(memory=None,\n     steps=[('robustscaler...ection='cyclic', tol=0.0001, warm_start=False))]), 'ENet': ElasticNet(alpha=1, copy_X=True, fit_intercept=T...selection='cyclic', tol=0.0001, warm_start=False), 'ENet_pred': array([118935.01379472, 158826.45339201, 188379....0091.33536502, 123318.00754889, 222909.94956696]), 'ENet_train_pred': array([12.2308963 , 12.10861007, 12.29244228, ..., 12.45220974,\n       11.84012015, 11.90302533]), 'ElasticNet': <class 'sklearn.linear_model.coordinate_descent.ElasticNet'>, 'GBR': GradientBoostingRegressor(alpha=0.9, criterion='...      subsample=1.0, verbose=0, warm_start=False), 'GBoost': GradientBoostingRegressor(alpha=0.9, criterion='...le=1.0, verbose=0,\n             warm_start=False), ...})\n\n...........................................................................\nC:\\Users\\Soo\\Anaconda3\\lib\\site-packages\\IPython\\core\\magic.py in <lambda>(f=<function ExecutionMagics.time>, *a=(<IPython.core.magics.execution.ExecutionMagics object>, 'grid_search_forest.fit(X_train, y_train)', None, {'BaseEstimator': <class 'sklearn.base.BaseEstimator'>, 'BayesianRidge': <class 'sklearn.linear_model.bayes.BayesianRidge'>, 'ChiSquare': <function ChiSquare>, 'EN': Pipeline(memory=None,\n     steps=[('robustscaler...ection='cyclic', tol=0.0001, warm_start=False))]), 'ENet': ElasticNet(alpha=1, copy_X=True, fit_intercept=T...selection='cyclic', tol=0.0001, warm_start=False), 'ENet_pred': array([118935.01379472, 158826.45339201, 188379....0091.33536502, 123318.00754889, 222909.94956696]), 'ENet_train_pred': array([12.2308963 , 12.10861007, 12.29244228, ..., 12.45220974,\n       11.84012015, 11.90302533]), 'ElasticNet': <class 'sklearn.linear_model.coordinate_descent.ElasticNet'>, 'GBR': GradientBoostingRegressor(alpha=0.9, criterion='...      subsample=1.0, verbose=0, warm_start=False), 'GBoost': GradientBoostingRegressor(alpha=0.9, criterion='...le=1.0, verbose=0,\n             warm_start=False), ...}), **k={})\n    182     validate_type(magic_kind)\n    183 \n    184     # This is a closure to capture the magic_kind.  We could also use a class,\n    185     # but it's overkill for just that one bit of state.\n    186     def magic_deco(arg):\n--> 187         call = lambda f, *a, **k: f(*a, **k)\n        f = <function ExecutionMagics.time>\n        a = (<IPython.core.magics.execution.ExecutionMagics object>, 'grid_search_forest.fit(X_train, y_train)', None, {'BaseEstimator': <class 'sklearn.base.BaseEstimator'>, 'BayesianRidge': <class 'sklearn.linear_model.bayes.BayesianRidge'>, 'ChiSquare': <function ChiSquare>, 'EN': Pipeline(memory=None,\n     steps=[('robustscaler...ection='cyclic', tol=0.0001, warm_start=False))]), 'ENet': ElasticNet(alpha=1, copy_X=True, fit_intercept=T...selection='cyclic', tol=0.0001, warm_start=False), 'ENet_pred': array([118935.01379472, 158826.45339201, 188379....0091.33536502, 123318.00754889, 222909.94956696]), 'ENet_train_pred': array([12.2308963 , 12.10861007, 12.29244228, ..., 12.45220974,\n       11.84012015, 11.90302533]), 'ElasticNet': <class 'sklearn.linear_model.coordinate_descent.ElasticNet'>, 'GBR': GradientBoostingRegressor(alpha=0.9, criterion='...      subsample=1.0, verbose=0, warm_start=False), 'GBoost': GradientBoostingRegressor(alpha=0.9, criterion='...le=1.0, verbose=0,\n             warm_start=False), ...})\n        k = {}\n    188 \n    189         if callable(arg):\n    190             # \"Naked\" decorator call (just @foo, no args)\n    191             func = arg\n\n...........................................................................\nC:\\Users\\Soo\\Anaconda3\\lib\\site-packages\\IPython\\core\\magics\\execution.py in time(self=<IPython.core.magics.execution.ExecutionMagics object>, line='grid_search_forest.fit(X_train, y_train)', cell=None, local_ns={'BaseEstimator': <class 'sklearn.base.BaseEstimator'>, 'BayesianRidge': <class 'sklearn.linear_model.bayes.BayesianRidge'>, 'ChiSquare': <function ChiSquare>, 'EN': Pipeline(memory=None,\n     steps=[('robustscaler...ection='cyclic', tol=0.0001, warm_start=False))]), 'ENet': ElasticNet(alpha=1, copy_X=True, fit_intercept=T...selection='cyclic', tol=0.0001, warm_start=False), 'ENet_pred': array([118935.01379472, 158826.45339201, 188379....0091.33536502, 123318.00754889, 222909.94956696]), 'ENet_train_pred': array([12.2308963 , 12.10861007, 12.29244228, ..., 12.45220974,\n       11.84012015, 11.90302533]), 'ElasticNet': <class 'sklearn.linear_model.coordinate_descent.ElasticNet'>, 'GBR': GradientBoostingRegressor(alpha=0.9, criterion='...      subsample=1.0, verbose=0, warm_start=False), 'GBoost': GradientBoostingRegressor(alpha=0.9, criterion='...le=1.0, verbose=0,\n             warm_start=False), ...})\n   1258         # time execution\n   1259         wall_st = wtime()\n   1260         if mode=='eval':\n   1261             st = clock2()\n   1262             try:\n-> 1263                 out = eval(code, glob, local_ns)\n        out = undefined\n        code = <code object <module> at 0x000001A8C5A85930, file \"<timed eval>\", line 1>\n        glob = {'BaseEstimator': <class 'sklearn.base.BaseEstimator'>, 'BayesianRidge': <class 'sklearn.linear_model.bayes.BayesianRidge'>, 'ChiSquare': <function ChiSquare>, 'EN': Pipeline(memory=None,\n     steps=[('robustscaler...ection='cyclic', tol=0.0001, warm_start=False))]), 'ENet': ElasticNet(alpha=1, copy_X=True, fit_intercept=T...selection='cyclic', tol=0.0001, warm_start=False), 'ENet_pred': array([118935.01379472, 158826.45339201, 188379....0091.33536502, 123318.00754889, 222909.94956696]), 'ENet_train_pred': array([12.2308963 , 12.10861007, 12.29244228, ..., 12.45220974,\n       11.84012015, 11.90302533]), 'ElasticNet': <class 'sklearn.linear_model.coordinate_descent.ElasticNet'>, 'GBR': GradientBoostingRegressor(alpha=0.9, criterion='...      subsample=1.0, verbose=0, warm_start=False), 'GBoost': GradientBoostingRegressor(alpha=0.9, criterion='...le=1.0, verbose=0,\n             warm_start=False), ...}\n        local_ns = {'BaseEstimator': <class 'sklearn.base.BaseEstimator'>, 'BayesianRidge': <class 'sklearn.linear_model.bayes.BayesianRidge'>, 'ChiSquare': <function ChiSquare>, 'EN': Pipeline(memory=None,\n     steps=[('robustscaler...ection='cyclic', tol=0.0001, warm_start=False))]), 'ENet': ElasticNet(alpha=1, copy_X=True, fit_intercept=T...selection='cyclic', tol=0.0001, warm_start=False), 'ENet_pred': array([118935.01379472, 158826.45339201, 188379....0091.33536502, 123318.00754889, 222909.94956696]), 'ENet_train_pred': array([12.2308963 , 12.10861007, 12.29244228, ..., 12.45220974,\n       11.84012015, 11.90302533]), 'ElasticNet': <class 'sklearn.linear_model.coordinate_descent.ElasticNet'>, 'GBR': GradientBoostingRegressor(alpha=0.9, criterion='...      subsample=1.0, verbose=0, warm_start=False), 'GBoost': GradientBoostingRegressor(alpha=0.9, criterion='...le=1.0, verbose=0,\n             warm_start=False), ...}\n   1264             except:\n   1265                 self.shell.showtraceback()\n   1266                 return\n   1267             end = clock2()\n\n...........................................................................\nC:\\Users\\Soo\\Desktop\\nycdsa\\project-ML\\<timed eval> in <module>()\n\n...........................................................................\nC:\\Users\\Soo\\Anaconda3\\lib\\site-packages\\sklearn\\model_selection\\_search.py in fit(self=GridSearchCV(cv=5, error_score='raise',\n       e...ore='warn',\n       scoring='accuracy', verbose=0), X=      EnclosedPorch  ScreenPorch  OpenPorchSF  B...0  \n1460           0  \n\n[1460 rows x 288 columns], y=array([12.24769912, 12.10901644, 12.31717117, ..., 12.49313327,\n       11.86446927, 11.90159023]), groups=None, **fit_params={})\n    635                                   return_train_score=self.return_train_score,\n    636                                   return_n_test_samples=True,\n    637                                   return_times=True, return_parameters=False,\n    638                                   error_score=self.error_score)\n    639           for parameters, (train, test) in product(candidate_params,\n--> 640                                                    cv.split(X, y, groups)))\n        cv.split = <bound method _BaseKFold.split of KFold(n_splits=5, random_state=None, shuffle=False)>\n        X =       EnclosedPorch  ScreenPorch  OpenPorchSF  B...0  \n1460           0  \n\n[1460 rows x 288 columns]\n        y = array([12.24769912, 12.10901644, 12.31717117, ..., 12.49313327,\n       11.86446927, 11.90159023])\n        groups = None\n    641 \n    642         # if one choose to see train score, \"out\" will contain train score info\n    643         if self.return_train_score:\n    644             (train_score_dicts, test_score_dicts, test_sample_counts, fit_time,\n\n...........................................................................\nC:\\Users\\Soo\\Anaconda3\\lib\\site-packages\\sklearn\\externals\\joblib\\parallel.py in __call__(self=Parallel(n_jobs=-1), iterable=<generator object BaseSearchCV.fit.<locals>.<genexpr>>)\n    784             if pre_dispatch == \"all\" or n_jobs == 1:\n    785                 # The iterable was consumed all at once by the above for loop.\n    786                 # No need to wait for async callbacks to trigger to\n    787                 # consumption.\n    788                 self._iterating = False\n--> 789             self.retrieve()\n        self.retrieve = <bound method Parallel.retrieve of Parallel(n_jobs=-1)>\n    790             # Make sure that we get a last message telling us we are done\n    791             elapsed_time = time.time() - self._start_time\n    792             self._print('Done %3i out of %3i | elapsed: %s finished',\n    793                         (len(self._output), len(self._output),\n\n---------------------------------------------------------------------------\nSub-process traceback:\n---------------------------------------------------------------------------\nValueError                                         Sun Mar  3 02:03:07 2019\nPID: 3712                   Python 3.7.2: C:\\Users\\Soo\\Anaconda3\\python.exe\n...........................................................................\nC:\\Users\\Soo\\Anaconda3\\lib\\site-packages\\sklearn\\externals\\joblib\\parallel.py in __call__(self=<sklearn.externals.joblib.parallel.BatchedCalls object>)\n    126     def __init__(self, iterator_slice):\n    127         self.items = list(iterator_slice)\n    128         self._size = len(self.items)\n    129 \n    130     def __call__(self):\n--> 131         return [func(*args, **kwargs) for func, args, kwargs in self.items]\n        self.items = [(<function _fit_and_score>, (RandomForestRegressor(bootstrap=True, criterion=...ate=None,\n           verbose=0, warm_start=False),       EnclosedPorch  ScreenPorch  OpenPorchSF  B...         0           0\n\n[1460 rows x 288 columns], array([12.24769912, 12.10901644, 12.31717117, ..., 12.49313327,\n       11.86446927, 11.90159023]), {'score': make_scorer(accuracy_score)}, array([ 292,  293,  294, ..., 1457, 1458, 1459]), array([  0,   1,   2,   3,   4,   5,   6,   7,  ..., 284, 285,\n       286, 287, 288, 289, 290, 291]), 0, {'max_features': 50, 'n_estimators': 3}), {'error_score': 'raise', 'fit_params': {}, 'return_n_test_samples': True, 'return_parameters': False, 'return_times': True, 'return_train_score': 'warn'})]\n    132 \n    133     def __len__(self):\n    134         return self._size\n    135 \n\n...........................................................................\nC:\\Users\\Soo\\Anaconda3\\lib\\site-packages\\sklearn\\externals\\joblib\\parallel.py in <listcomp>(.0=<list_iterator object>)\n    126     def __init__(self, iterator_slice):\n    127         self.items = list(iterator_slice)\n    128         self._size = len(self.items)\n    129 \n    130     def __call__(self):\n--> 131         return [func(*args, **kwargs) for func, args, kwargs in self.items]\n        func = <function _fit_and_score>\n        args = (RandomForestRegressor(bootstrap=True, criterion=...ate=None,\n           verbose=0, warm_start=False),       EnclosedPorch  ScreenPorch  OpenPorchSF  B...         0           0\n\n[1460 rows x 288 columns], array([12.24769912, 12.10901644, 12.31717117, ..., 12.49313327,\n       11.86446927, 11.90159023]), {'score': make_scorer(accuracy_score)}, array([ 292,  293,  294, ..., 1457, 1458, 1459]), array([  0,   1,   2,   3,   4,   5,   6,   7,  ..., 284, 285,\n       286, 287, 288, 289, 290, 291]), 0, {'max_features': 50, 'n_estimators': 3})\n        kwargs = {'error_score': 'raise', 'fit_params': {}, 'return_n_test_samples': True, 'return_parameters': False, 'return_times': True, 'return_train_score': 'warn'}\n    132 \n    133     def __len__(self):\n    134         return self._size\n    135 \n\n...........................................................................\nC:\\Users\\Soo\\Anaconda3\\lib\\site-packages\\sklearn\\model_selection\\_validation.py in _fit_and_score(estimator=RandomForestRegressor(bootstrap=True, criterion=...ate=None,\n           verbose=0, warm_start=False), X=      EnclosedPorch  ScreenPorch  OpenPorchSF  B...         0           0\n\n[1460 rows x 288 columns], y=array([12.24769912, 12.10901644, 12.31717117, ..., 12.49313327,\n       11.86446927, 11.90159023]), scorer={'score': make_scorer(accuracy_score)}, train=array([ 292,  293,  294, ..., 1457, 1458, 1459]), test=array([  0,   1,   2,   3,   4,   5,   6,   7,  ..., 284, 285,\n       286, 287, 288, 289, 290, 291]), verbose=0, parameters={'max_features': 50, 'n_estimators': 3}, fit_params={}, return_train_score='warn', return_parameters=False, return_n_test_samples=True, return_times=True, error_score='raise')\n    483                              \" make sure that it has been spelled correctly.)\")\n    484 \n    485     else:\n    486         fit_time = time.time() - start_time\n    487         # _score will return dict if is_multimetric is True\n--> 488         test_scores = _score(estimator, X_test, y_test, scorer, is_multimetric)\n        test_scores = {}\n        estimator = RandomForestRegressor(bootstrap=True, criterion=...ate=None,\n           verbose=0, warm_start=False)\n        X_test =      EnclosedPorch  ScreenPorch  OpenPorchSF  Bs...          0           0\n\n[292 rows x 288 columns]\n        y_test = array([12.24769912, 12.10901644, 12.31717117, 11...2, 11.94195084,\n       12.35978466, 11.81968196])\n        scorer = {'score': make_scorer(accuracy_score)}\n        is_multimetric = True\n    489         score_time = time.time() - start_time - fit_time\n    490         if return_train_score:\n    491             train_scores = _score(estimator, X_train, y_train, scorer,\n    492                                   is_multimetric)\n\n...........................................................................\nC:\\Users\\Soo\\Anaconda3\\lib\\site-packages\\sklearn\\model_selection\\_validation.py in _score(estimator=RandomForestRegressor(bootstrap=True, criterion=...ate=None,\n           verbose=0, warm_start=False), X_test=     EnclosedPorch  ScreenPorch  OpenPorchSF  Bs...          0           0\n\n[292 rows x 288 columns], y_test=array([12.24769912, 12.10901644, 12.31717117, 11...2, 11.94195084,\n       12.35978466, 11.81968196]), scorer={'score': make_scorer(accuracy_score)}, is_multimetric=True)\n    518 \n    519     Will return a single float if is_multimetric is False and a dict of floats,\n    520     if is_multimetric is True\n    521     \"\"\"\n    522     if is_multimetric:\n--> 523         return _multimetric_score(estimator, X_test, y_test, scorer)\n        estimator = RandomForestRegressor(bootstrap=True, criterion=...ate=None,\n           verbose=0, warm_start=False)\n        X_test =      EnclosedPorch  ScreenPorch  OpenPorchSF  Bs...          0           0\n\n[292 rows x 288 columns]\n        y_test = array([12.24769912, 12.10901644, 12.31717117, 11...2, 11.94195084,\n       12.35978466, 11.81968196])\n        scorer = {'score': make_scorer(accuracy_score)}\n    524     else:\n    525         if y_test is None:\n    526             score = scorer(estimator, X_test)\n    527         else:\n\n...........................................................................\nC:\\Users\\Soo\\Anaconda3\\lib\\site-packages\\sklearn\\model_selection\\_validation.py in _multimetric_score(estimator=RandomForestRegressor(bootstrap=True, criterion=...ate=None,\n           verbose=0, warm_start=False), X_test=     EnclosedPorch  ScreenPorch  OpenPorchSF  Bs...          0           0\n\n[292 rows x 288 columns], y_test=array([12.24769912, 12.10901644, 12.31717117, 11...2, 11.94195084,\n       12.35978466, 11.81968196]), scorers={'score': make_scorer(accuracy_score)})\n    548 \n    549     for name, scorer in scorers.items():\n    550         if y_test is None:\n    551             score = scorer(estimator, X_test)\n    552         else:\n--> 553             score = scorer(estimator, X_test, y_test)\n        score = undefined\n        scorer = make_scorer(accuracy_score)\n        estimator = RandomForestRegressor(bootstrap=True, criterion=...ate=None,\n           verbose=0, warm_start=False)\n        X_test =      EnclosedPorch  ScreenPorch  OpenPorchSF  Bs...          0           0\n\n[292 rows x 288 columns]\n        y_test = array([12.24769912, 12.10901644, 12.31717117, 11...2, 11.94195084,\n       12.35978466, 11.81968196])\n    554 \n    555         if hasattr(score, 'item'):\n    556             try:\n    557                 # e.g. unwrap memmapped scalars\n\n...........................................................................\nC:\\Users\\Soo\\Anaconda3\\lib\\site-packages\\sklearn\\metrics\\scorer.py in __call__(self=make_scorer(accuracy_score), estimator=RandomForestRegressor(bootstrap=True, criterion=...ate=None,\n           verbose=0, warm_start=False), X=     EnclosedPorch  ScreenPorch  OpenPorchSF  Bs...          0           0\n\n[292 rows x 288 columns], y_true=array([12.24769912, 12.10901644, 12.31717117, 11...2, 11.94195084,\n       12.35978466, 11.81968196]), sample_weight=None)\n    103             return self._sign * self._score_func(y_true, y_pred,\n    104                                                  sample_weight=sample_weight,\n    105                                                  **self._kwargs)\n    106         else:\n    107             return self._sign * self._score_func(y_true, y_pred,\n--> 108                                                  **self._kwargs)\n        self._kwargs = {}\n    109 \n    110 \n    111 class _ProbaScorer(_BaseScorer):\n    112     def __call__(self, clf, X, y, sample_weight=None):\n\n...........................................................................\nC:\\Users\\Soo\\Anaconda3\\lib\\site-packages\\sklearn\\metrics\\classification.py in accuracy_score(y_true=array([12.24769912, 12.10901644, 12.31717117, 11...2, 11.94195084,\n       12.35978466, 11.81968196]), y_pred=array([12.26779563, 12.05846903, 12.19265134, 12...4, 11.86373187,\n       12.40567772, 12.07610943]), normalize=True, sample_weight=None)\n    171     >>> accuracy_score(np.array([[0, 1], [1, 1]]), np.ones((2, 2)))\n    172     0.5\n    173     \"\"\"\n    174 \n    175     # Compute accuracy for each possible representation\n--> 176     y_type, y_true, y_pred = _check_targets(y_true, y_pred)\n        y_type = undefined\n        y_true = array([12.24769912, 12.10901644, 12.31717117, 11...2, 11.94195084,\n       12.35978466, 11.81968196])\n        y_pred = array([12.26779563, 12.05846903, 12.19265134, 12...4, 11.86373187,\n       12.40567772, 12.07610943])\n    177     if y_type.startswith('multilabel'):\n    178         differing_labels = count_nonzero(y_true - y_pred, axis=1)\n    179         score = differing_labels == 0\n    180     else:\n\n...........................................................................\nC:\\Users\\Soo\\Anaconda3\\lib\\site-packages\\sklearn\\metrics\\classification.py in _check_targets(y_true=array([12.24769912, 12.10901644, 12.31717117, 11...2, 11.94195084,\n       12.35978466, 11.81968196]), y_pred=array([12.26779563, 12.05846903, 12.19265134, 12...4, 11.86373187,\n       12.40567772, 12.07610943]))\n     83     # We can't have more than one value on y_type => The set is no more needed\n     84     y_type = y_type.pop()\n     85 \n     86     # No metrics support \"multiclass-multioutput\" format\n     87     if (y_type not in [\"binary\", \"multiclass\", \"multilabel-indicator\"]):\n---> 88         raise ValueError(\"{0} is not supported\".format(y_type))\n        y_type = 'continuous'\n     89 \n     90     if y_type in [\"binary\", \"multiclass\"]:\n     91         y_true = column_or_1d(y_true)\n     92         y_pred = column_or_1d(y_pred)\n\nValueError: continuous is not supported\n___________________________________________________________________________"
     ]
    }
   ],
   "source": [
    "from sklearn.model_selection import GridSearchCV\n",
    "\n",
    "\n",
    "param_grid = [\n",
    "    {'n_estimators': [3, 10, 30, 60, 90], 'max_features': [50,300]},\n",
    "    {'bootstrap': [True], 'n_estimators': [3, 10, 30, 60, 90], 'max_features': [50,100,150,200,250]},\n",
    "]\n",
    "grid_search_forest = GridSearchCV(randomForest, param_grid , scoring='accuracy', cv=5, n_jobs=-1)\n",
    "%time grid_search_forest.fit(X_train, y_train)"
   ]
  },
  {
   "cell_type": "code",
   "execution_count": 340,
   "metadata": {},
   "outputs": [
    {
     "data": {
      "text/plain": [
       "GridSearchCV(cv=5, error_score='raise',\n",
       "       estimator=RandomForestRegressor(bootstrap=True, criterion='mse', max_depth=None,\n",
       "           max_features='auto', max_leaf_nodes=None,\n",
       "           min_impurity_decrease=0.0, min_impurity_split=None,\n",
       "           min_samples_leaf=1, min_samples_split=2,\n",
       "           min_weight_fraction_leaf=0.0, n_estimators=10, n_jobs=1,\n",
       "           oob_score=False, random_state=None, verbose=0, warm_start=False),\n",
       "       fit_params=None, iid=True, n_jobs=1,\n",
       "       param_grid=[{'n_estimators': [3, 10, 30, 60, 90], 'max_features': [50, 300]}, {'bootstrap': [True], 'n_estimators': [3, 10, 30, 60, 90], 'max_features': [50, 100, 150, 200, 250]}],\n",
       "       pre_dispatch='2*n_jobs', refit=True, return_train_score='warn',\n",
       "       scoring='neg_mean_squared_error', verbose=0)"
      ]
     },
     "execution_count": 340,
     "metadata": {},
     "output_type": "execute_result"
    }
   ],
   "source": [
    "rf_random.best_params_"
   ]
  },
  {
   "cell_type": "code",
   "execution_count": null,
   "metadata": {},
   "outputs": [],
   "source": [
    "## best score\n",
    "grid_search_tree.best_score_"
   ]
  },
  {
   "cell_type": "code",
   "execution_count": null,
   "metadata": {},
   "outputs": [],
   "source": [
    "## The overall accuracy on the test set:\n",
    "grid_search_tree.score(x_test, y_test)"
   ]
  },
  {
   "cell_type": "markdown",
   "metadata": {},
   "source": [
    "#### 2. RandomForest"
   ]
  },
  {
   "cell_type": "code",
   "execution_count": null,
   "metadata": {},
   "outputs": [],
   "source": [
    "grid_search.best_estimator_"
   ]
  },
  {
   "cell_type": "code",
   "execution_count": 316,
   "metadata": {},
   "outputs": [],
   "source": [
    "regr = RandomForestRegressor(bootstrap=True, criterion='mse', max_depth=None,\n",
    "           max_features=100, max_leaf_nodes=None,\n",
    "           min_impurity_decrease=0.0, min_impurity_split=None,\n",
    "           min_samples_leaf=1, min_samples_split=2,\n",
    "           min_weight_fraction_leaf=0.0, n_estimators=90, n_jobs=1,\n",
    "           oob_score=False, random_state=None, verbose=0, warm_start=False)\n"
   ]
  },
  {
   "cell_type": "code",
   "execution_count": 317,
   "metadata": {},
   "outputs": [
    {
     "name": "stdout",
     "output_type": "stream",
     "text": [
      "regr score: 0.1453 (0.0183)\n",
      "\n"
     ]
    }
   ],
   "source": [
    "score = rmsle_cv(regr)\n",
    "print(\"regr score: {:.4f} ({:.4f})\\n\" .format(score.mean(), score.std()))"
   ]
  },
  {
   "cell_type": "code",
   "execution_count": 318,
   "metadata": {},
   "outputs": [
    {
     "name": "stdout",
     "output_type": "stream",
     "text": [
      "0.05534900315146857\n"
     ]
    }
   ],
   "source": [
    "regr.fit(X_train,y_train)\n",
    "regr_train_pred = regr.predict(X_train)\n",
    "regr_pred = np.expm1(regr.predict(test.values))\n",
    "print(rmsle(y_train, regr_train_pred))"
   ]
  },
  {
   "cell_type": "code",
   "execution_count": null,
   "metadata": {},
   "outputs": [],
   "source": [
    "from sklearn.ensemble import RandomForestRegressor,  GradientBoostingRegressor\n",
    "model = RandomForestRegressor(n_jobs=1,criterion='mse')"
   ]
  },
  {
   "cell_type": "code",
   "execution_count": 268,
   "metadata": {},
   "outputs": [
    {
     "name": "stdout",
     "output_type": "stream",
     "text": [
      "gbr score: 0.1304 (0.0135)\n",
      "\n"
     ]
    }
   ],
   "source": [
    "score = rmsle_cv(GBR)\n",
    "print(\"gbr score: {:.4f} ({:.4f})\\n\" .format(score.mean(), score.std()))"
   ]
  },
  {
   "cell_type": "code",
   "execution_count": 267,
   "metadata": {},
   "outputs": [],
   "source": [
    "### GBR\n",
    "from sklearn.ensemble import GradientBoostingRegressor\n",
    "GBR = GradientBoostingRegressor(n_estimators=100, max_depth=4)"
   ]
  },
  {
   "cell_type": "code",
   "execution_count": 393,
   "metadata": {},
   "outputs": [
    {
     "ename": "ModuleNotFoundError",
     "evalue": "No module named 'xgboost'",
     "output_type": "error",
     "traceback": [
      "\u001b[1;31m---------------------------------------------------------------------------\u001b[0m",
      "\u001b[1;31mModuleNotFoundError\u001b[0m                       Traceback (most recent call last)",
      "\u001b[1;32m<ipython-input-393-ef3616421ed1>\u001b[0m in \u001b[0;36m<module>\u001b[1;34m\u001b[0m\n\u001b[1;32m----> 1\u001b[1;33m \u001b[1;32mimport\u001b[0m \u001b[0mxgboost\u001b[0m \u001b[1;32mas\u001b[0m \u001b[0mxgb\u001b[0m\u001b[1;33m\u001b[0m\u001b[1;33m\u001b[0m\u001b[0m\n\u001b[0m\u001b[0;32m      2\u001b[0m \u001b[1;32mimport\u001b[0m \u001b[0mlightgbm\u001b[0m \u001b[1;32mas\u001b[0m \u001b[0mlgb\u001b[0m\u001b[1;33m\u001b[0m\u001b[1;33m\u001b[0m\u001b[0m\n",
      "\u001b[1;31mModuleNotFoundError\u001b[0m: No module named 'xgboost'"
     ]
    }
   ],
   "source": [
    "import xgboost as xgb\n",
    "import lightgbm as lgb"
   ]
  },
  {
   "cell_type": "code",
   "execution_count": null,
   "metadata": {},
   "outputs": [],
   "source": []
  },
  {
   "cell_type": "code",
   "execution_count": 394,
   "metadata": {},
   "outputs": [],
   "source": [
    "ensemble = ENet_pred*0.5 + GBoost_pred*0.5"
   ]
  },
  {
   "cell_type": "markdown",
   "metadata": {},
   "source": [
    "## Submission"
   ]
  },
  {
   "cell_type": "code",
   "execution_count": 395,
   "metadata": {},
   "outputs": [
    {
     "name": "stdout",
     "output_type": "stream",
     "text": [
      "(1459,)\n"
     ]
    },
    {
     "data": {
      "text/plain": [
       "array([122203.30568533, 160943.11893134, 190158.28552787, ...,\n",
       "       174520.42811724, 120893.53634424, 212182.69864127])"
      ]
     },
     "execution_count": 395,
     "metadata": {},
     "output_type": "execute_result"
    }
   ],
   "source": [
    "predictions = ensemble\n",
    "\n",
    "print(predictions.shape)\n",
    "predictions"
   ]
  },
  {
   "cell_type": "code",
   "execution_count": 396,
   "metadata": {},
   "outputs": [
    {
     "name": "stdout",
     "output_type": "stream",
     "text": [
      "(1459, 2)\n"
     ]
    },
    {
     "data": {
      "text/html": [
       "<div>\n",
       "<style scoped>\n",
       "    .dataframe tbody tr th:only-of-type {\n",
       "        vertical-align: middle;\n",
       "    }\n",
       "\n",
       "    .dataframe tbody tr th {\n",
       "        vertical-align: top;\n",
       "    }\n",
       "\n",
       "    .dataframe thead th {\n",
       "        text-align: right;\n",
       "    }\n",
       "</style>\n",
       "<table border=\"1\" class=\"dataframe\">\n",
       "  <thead>\n",
       "    <tr style=\"text-align: right;\">\n",
       "      <th></th>\n",
       "      <th>Id</th>\n",
       "      <th>SalePrice</th>\n",
       "    </tr>\n",
       "  </thead>\n",
       "  <tbody>\n",
       "    <tr>\n",
       "      <th>0</th>\n",
       "      <td>1461</td>\n",
       "      <td>169277.052498</td>\n",
       "    </tr>\n",
       "    <tr>\n",
       "      <th>1</th>\n",
       "      <td>1462</td>\n",
       "      <td>187758.393989</td>\n",
       "    </tr>\n",
       "    <tr>\n",
       "      <th>2</th>\n",
       "      <td>1463</td>\n",
       "      <td>183583.683570</td>\n",
       "    </tr>\n",
       "    <tr>\n",
       "      <th>3</th>\n",
       "      <td>1464</td>\n",
       "      <td>179317.477511</td>\n",
       "    </tr>\n",
       "    <tr>\n",
       "      <th>4</th>\n",
       "      <td>1465</td>\n",
       "      <td>150730.079977</td>\n",
       "    </tr>\n",
       "  </tbody>\n",
       "</table>\n",
       "</div>"
      ],
      "text/plain": [
       "     Id      SalePrice\n",
       "0  1461  169277.052498\n",
       "1  1462  187758.393989\n",
       "2  1463  183583.683570\n",
       "3  1464  179317.477511\n",
       "4  1465  150730.079977"
      ]
     },
     "execution_count": 396,
     "metadata": {},
     "output_type": "execute_result"
    }
   ],
   "source": [
    "submission = pd.read_csv(\"sample_submission.csv\")\n",
    "print(submission.shape)\n",
    "submission.head()"
   ]
  },
  {
   "cell_type": "code",
   "execution_count": 397,
   "metadata": {},
   "outputs": [
    {
     "data": {
      "text/html": [
       "<div>\n",
       "<style scoped>\n",
       "    .dataframe tbody tr th:only-of-type {\n",
       "        vertical-align: middle;\n",
       "    }\n",
       "\n",
       "    .dataframe tbody tr th {\n",
       "        vertical-align: top;\n",
       "    }\n",
       "\n",
       "    .dataframe thead th {\n",
       "        text-align: right;\n",
       "    }\n",
       "</style>\n",
       "<table border=\"1\" class=\"dataframe\">\n",
       "  <thead>\n",
       "    <tr style=\"text-align: right;\">\n",
       "      <th></th>\n",
       "      <th>Id</th>\n",
       "      <th>SalePrice</th>\n",
       "    </tr>\n",
       "  </thead>\n",
       "  <tbody>\n",
       "    <tr>\n",
       "      <th>0</th>\n",
       "      <td>1461</td>\n",
       "      <td>122203.305685</td>\n",
       "    </tr>\n",
       "    <tr>\n",
       "      <th>1</th>\n",
       "      <td>1462</td>\n",
       "      <td>160943.118931</td>\n",
       "    </tr>\n",
       "    <tr>\n",
       "      <th>2</th>\n",
       "      <td>1463</td>\n",
       "      <td>190158.285528</td>\n",
       "    </tr>\n",
       "    <tr>\n",
       "      <th>3</th>\n",
       "      <td>1464</td>\n",
       "      <td>200209.741122</td>\n",
       "    </tr>\n",
       "    <tr>\n",
       "      <th>4</th>\n",
       "      <td>1465</td>\n",
       "      <td>195587.560890</td>\n",
       "    </tr>\n",
       "  </tbody>\n",
       "</table>\n",
       "</div>"
      ],
      "text/plain": [
       "     Id      SalePrice\n",
       "0  1461  122203.305685\n",
       "1  1462  160943.118931\n",
       "2  1463  190158.285528\n",
       "3  1464  200209.741122\n",
       "4  1465  195587.560890"
      ]
     },
     "execution_count": 397,
     "metadata": {},
     "output_type": "execute_result"
    }
   ],
   "source": [
    "submission[\"SalePrice\"] = predictions\n",
    "submission.head()\n"
   ]
  },
  {
   "cell_type": "code",
   "execution_count": 398,
   "metadata": {},
   "outputs": [],
   "source": [
    "submission.to_csv(\"housemodel_ens_2.csv\", index=False)"
   ]
  },
  {
   "cell_type": "code",
   "execution_count": 262,
   "metadata": {},
   "outputs": [
    {
     "ename": "SyntaxError",
     "evalue": "invalid syntax (<ipython-input-262-c6d7424714ef>, line 2)",
     "output_type": "error",
     "traceback": [
      "\u001b[1;36m  File \u001b[1;32m\"<ipython-input-262-c6d7424714ef>\"\u001b[1;36m, line \u001b[1;32m2\u001b[0m\n\u001b[1;33m    mlxtend.classfier import StackingClassifier\u001b[0m\n\u001b[1;37m                           ^\u001b[0m\n\u001b[1;31mSyntaxError\u001b[0m\u001b[1;31m:\u001b[0m invalid syntax\n"
     ]
    }
   ],
   "source": [
    "### stacking models :\n",
    "mlxtend.classfier import StackingClassifier\n"
   ]
  },
  {
   "cell_type": "code",
   "execution_count": null,
   "metadata": {},
   "outputs": [],
   "source": []
  }
 ],
 "metadata": {
  "kernelspec": {
   "display_name": "Python 3",
   "language": "python",
   "name": "python3"
  },
  "language_info": {
   "codemirror_mode": {
    "name": "ipython",
    "version": 3
   },
   "file_extension": ".py",
   "mimetype": "text/x-python",
   "name": "python",
   "nbconvert_exporter": "python",
   "pygments_lexer": "ipython3",
   "version": "3.7.2"
  }
 },
 "nbformat": 4,
 "nbformat_minor": 2
}
